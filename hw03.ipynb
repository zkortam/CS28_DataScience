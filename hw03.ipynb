{
 "cells": [
  {
   "cell_type": "code",
   "execution_count": 1,
   "id": "ad44842a",
   "metadata": {
    "deletable": false,
    "editable": false
   },
   "outputs": [],
   "source": [
    "# Initialize Otter\n",
    "import otter\n",
    "grader = otter.Notebook(\"hw03.ipynb\")"
   ]
  },
  {
   "cell_type": "markdown",
   "id": "06aa2da5",
   "metadata": {},
   "source": [
    "# Homework 3: Table Manipulation and Visualization\n",
    "\n",
    "Please complete this notebook by filling in the cells provided. Before you begin, execute the previous cell to load the provided tests."
   ]
  },
  {
   "cell_type": "markdown",
   "id": "6e0d9898",
   "metadata": {},
   "source": [
    "**Helpful Resource:**\n",
    "- [Python Reference](http://data8.org/sp22/python-reference.html): Cheat sheet of helpful array & table methods used in Data 8!\n",
    "\n",
    "**Recommended Reading**: \n",
    "* [Visualization](https://inferentialthinking.com/chapters/07/Visualization.html)"
   ]
  },
  {
   "cell_type": "markdown",
   "id": "be320a35",
   "metadata": {},
   "source": [
    "For all problems that you must write explanations and sentences for, you **must** provide your answer in the designated space. **Moreover, throughout this homework and all future ones, please be sure to not re-assign variables throughout the notebook!** For example, if you use `max_temperature` in your answer to one question, do not reassign it later on. Otherwise, you will fail tests that you thought you were passing previously!\n",
    "\n",
    "\n",
    "**Note: This homework has hidden tests on it. That means even though tests may say 100% passed, doesn't mean your final grade will be 100%. We will be running more tests for correctness once everyone turns in the homework.**\n",
    "\n",
    "\n",
    "Directly sharing answers is not okay, but discussing problems with the course staff or with other students is encouraged. \n",
    "\n",
    "You should start early so that you have time to get help if you're stuck."
   ]
  },
  {
   "cell_type": "code",
   "execution_count": 2,
   "id": "91beabe9",
   "metadata": {},
   "outputs": [],
   "source": [
    "# Don't change this cell; just run it. \n",
    "\n",
    "import numpy as np\n",
    "from datascience import *\n",
    "import d8error\n",
    "import warnings\n",
    "warnings.simplefilter('ignore', FutureWarning)\n",
    "\n",
    "# These lines do some fancy plotting magic.\\n\",\n",
    "import matplotlib\n",
    "%matplotlib inline\n",
    "import matplotlib.pyplot as plots\n",
    "plots.style.use('fivethirtyeight')"
   ]
  },
  {
   "cell_type": "markdown",
   "id": "c4c7ca7e",
   "metadata": {},
   "source": [
    "## 1. Unemployment"
   ]
  },
  {
   "cell_type": "markdown",
   "id": "6a03e177",
   "metadata": {},
   "source": [
    "The Great Recession of 2008-2009 was a period of economic decline observed globally, with scale and timing varying from country to country. In the United States, it resulted in a rapid rise in unemployment that affected industries and population groups to different extents.\n",
    "\n",
    "The Federal Reserve Bank of St. Louis publishes data about jobs in the US.  Below, we've loaded data on unemployment in the United States. There are many ways of defining unemployment, and our dataset includes two notions of the unemployment rate:\n",
    "\n",
    "1. Among people who are able to work and are looking for a full-time job, the percentage who can't find a job.  This is called the Non-Employment Index, or NEI.\n",
    "2. Among people who are able to work and are looking for a full-time job, the percentage who can't find any job *or* are only working at a part-time job.  The latter group is called \"Part-Time for Economic Reasons\", so the acronym for this index is NEI-PTER.  (Economists are great at marketing.)\n",
    "\n",
    "The source of the data is [here](https://fred.stlouisfed.org/categories/33509)."
   ]
  },
  {
   "cell_type": "markdown",
   "id": "0dfa6b11",
   "metadata": {},
   "source": [
    "**Question 1.** The data are in a CSV file called `unemployment.csv`.  Load that file into a table called `unemployment`. **(4 Points)**\n"
   ]
  },
  {
   "cell_type": "code",
   "execution_count": 3,
   "id": "50cebdc2",
   "metadata": {
    "tags": []
   },
   "outputs": [
    {
     "data": {
      "text/html": [
       "<table border=\"1\" class=\"dataframe\">\n",
       "    <thead>\n",
       "        <tr>\n",
       "            <th>Date</th> <th>NEI</th> <th>NEI-PTER</th>\n",
       "        </tr>\n",
       "    </thead>\n",
       "    <tbody>\n",
       "        <tr>\n",
       "            <td>1994-01-01</td> <td>10.0974</td> <td>11.172  </td>\n",
       "        </tr>\n",
       "        <tr>\n",
       "            <td>1994-04-01</td> <td>9.6239 </td> <td>10.7883 </td>\n",
       "        </tr>\n",
       "        <tr>\n",
       "            <td>1994-07-01</td> <td>9.3276 </td> <td>10.4831 </td>\n",
       "        </tr>\n",
       "        <tr>\n",
       "            <td>1994-10-01</td> <td>9.1071 </td> <td>10.2361 </td>\n",
       "        </tr>\n",
       "        <tr>\n",
       "            <td>1995-01-01</td> <td>8.9693 </td> <td>10.1832 </td>\n",
       "        </tr>\n",
       "        <tr>\n",
       "            <td>1995-04-01</td> <td>9.0314 </td> <td>10.1071 </td>\n",
       "        </tr>\n",
       "        <tr>\n",
       "            <td>1995-07-01</td> <td>8.9802 </td> <td>10.1084 </td>\n",
       "        </tr>\n",
       "        <tr>\n",
       "            <td>1995-10-01</td> <td>8.9932 </td> <td>10.1046 </td>\n",
       "        </tr>\n",
       "        <tr>\n",
       "            <td>1996-01-01</td> <td>9.0002 </td> <td>10.0531 </td>\n",
       "        </tr>\n",
       "        <tr>\n",
       "            <td>1996-04-01</td> <td>8.9038 </td> <td>9.9782  </td>\n",
       "        </tr>\n",
       "    </tbody>\n",
       "</table>\n",
       "<p>... (80 rows omitted)</p>"
      ],
      "text/plain": [
       "Date       | NEI     | NEI-PTER\n",
       "1994-01-01 | 10.0974 | 11.172\n",
       "1994-04-01 | 9.6239  | 10.7883\n",
       "1994-07-01 | 9.3276  | 10.4831\n",
       "1994-10-01 | 9.1071  | 10.2361\n",
       "1995-01-01 | 8.9693  | 10.1832\n",
       "1995-04-01 | 9.0314  | 10.1071\n",
       "1995-07-01 | 8.9802  | 10.1084\n",
       "1995-10-01 | 8.9932  | 10.1046\n",
       "1996-01-01 | 9.0002  | 10.0531\n",
       "1996-04-01 | 8.9038  | 9.9782\n",
       "... (80 rows omitted)"
      ]
     },
     "execution_count": 3,
     "metadata": {},
     "output_type": "execute_result"
    }
   ],
   "source": [
    "unemployment = Table.read_table(\"unemployment.csv\")\n",
    "unemployment"
   ]
  },
  {
   "cell_type": "code",
   "execution_count": 4,
   "id": "1acd3e40",
   "metadata": {
    "deletable": false,
    "editable": false
   },
   "outputs": [
    {
     "data": {
      "text/html": [
       "<p><strong><pre style='display: inline;'>q1_1</pre></strong> passed! 🍀</p>"
      ],
      "text/plain": [
       "q1_1 results: All test cases passed!"
      ]
     },
     "execution_count": 4,
     "metadata": {},
     "output_type": "execute_result"
    }
   ],
   "source": [
    "grader.check(\"q1_1\")"
   ]
  },
  {
   "cell_type": "markdown",
   "id": "192ff78d",
   "metadata": {},
   "source": [
    "**Question 2.** Sort the data in descending order by NEI, naming the sorted table `by_nei`.  Create another table called `by_nei_pter` that's sorted in descending order by NEI-PTER instead. **(4 Points)**\n"
   ]
  },
  {
   "cell_type": "code",
   "execution_count": 5,
   "id": "b4e231e6",
   "metadata": {
    "tags": []
   },
   "outputs": [],
   "source": [
    "by_nei = unemployment.sort('NEI', descending = True)\n",
    "by_nei_pter = unemployment.sort('NEI-PTER', descending = True)"
   ]
  },
  {
   "cell_type": "code",
   "execution_count": 6,
   "id": "05f9ec52",
   "metadata": {
    "deletable": false,
    "editable": false
   },
   "outputs": [
    {
     "data": {
      "text/html": [
       "<p><strong><pre style='display: inline;'>q1_2</pre></strong> passed! 🌟</p>"
      ],
      "text/plain": [
       "q1_2 results: All test cases passed!"
      ]
     },
     "execution_count": 6,
     "metadata": {},
     "output_type": "execute_result"
    }
   ],
   "source": [
    "grader.check(\"q1_2\")"
   ]
  },
  {
   "cell_type": "code",
   "execution_count": 7,
   "id": "ab5b5c11",
   "metadata": {},
   "outputs": [
    {
     "data": {
      "text/html": [
       "<table border=\"1\" class=\"dataframe\">\n",
       "    <thead>\n",
       "        <tr>\n",
       "            <th>Date</th> <th>NEI</th> <th>NEI-PTER</th>\n",
       "        </tr>\n",
       "    </thead>\n",
       "    <tbody>\n",
       "        <tr>\n",
       "            <td>2009-10-01</td> <td>10.9698</td> <td>12.8557 </td>\n",
       "        </tr>\n",
       "        <tr>\n",
       "            <td>2010-01-01</td> <td>10.9054</td> <td>12.7311 </td>\n",
       "        </tr>\n",
       "        <tr>\n",
       "            <td>2009-07-01</td> <td>10.8089</td> <td>12.7404 </td>\n",
       "        </tr>\n",
       "        <tr>\n",
       "            <td>2009-04-01</td> <td>10.7082</td> <td>12.5497 </td>\n",
       "        </tr>\n",
       "        <tr>\n",
       "            <td>2010-04-01</td> <td>10.6597</td> <td>12.5664 </td>\n",
       "        </tr>\n",
       "    </tbody>\n",
       "</table>\n",
       "<p>... (85 rows omitted)</p>"
      ],
      "text/plain": [
       "<IPython.core.display.HTML object>"
      ]
     },
     "metadata": {},
     "output_type": "display_data"
    }
   ],
   "source": [
    "# Run this cell to check your by_nei table. You do not need to change the code.\n",
    "by_nei.show(5)"
   ]
  },
  {
   "cell_type": "code",
   "execution_count": 8,
   "id": "ae20a5b5",
   "metadata": {},
   "outputs": [
    {
     "data": {
      "text/html": [
       "<table border=\"1\" class=\"dataframe\">\n",
       "    <thead>\n",
       "        <tr>\n",
       "            <th>Date</th> <th>NEI</th> <th>NEI-PTER</th>\n",
       "        </tr>\n",
       "    </thead>\n",
       "    <tbody>\n",
       "        <tr>\n",
       "            <td>2009-10-01</td> <td>10.9698</td> <td>12.8557 </td>\n",
       "        </tr>\n",
       "        <tr>\n",
       "            <td>2009-07-01</td> <td>10.8089</td> <td>12.7404 </td>\n",
       "        </tr>\n",
       "        <tr>\n",
       "            <td>2010-01-01</td> <td>10.9054</td> <td>12.7311 </td>\n",
       "        </tr>\n",
       "        <tr>\n",
       "            <td>2010-04-01</td> <td>10.6597</td> <td>12.5664 </td>\n",
       "        </tr>\n",
       "        <tr>\n",
       "            <td>2009-04-01</td> <td>10.7082</td> <td>12.5497 </td>\n",
       "        </tr>\n",
       "    </tbody>\n",
       "</table>\n",
       "<p>... (85 rows omitted)</p>"
      ],
      "text/plain": [
       "<IPython.core.display.HTML object>"
      ]
     },
     "metadata": {},
     "output_type": "display_data"
    }
   ],
   "source": [
    "# Run this cell to check your by_nei_pter table. You do not need to change the code.\n",
    "by_nei_pter.show(5)"
   ]
  },
  {
   "cell_type": "markdown",
   "id": "b65bd63d",
   "metadata": {},
   "source": [
    "**Question 3.** Use `take` to make a table containing the data for the 11 quarters when NEI was greatest.  Call that table `greatest_nei`.\n",
    "\n",
    "`greatest_nei` should be sorted in descending order of `NEI`. Note that each row of `unemployment` represents a quarter. **(4 Points)**\n"
   ]
  },
  {
   "cell_type": "code",
   "execution_count": 9,
   "id": "ab6290d9",
   "metadata": {
    "tags": []
   },
   "outputs": [],
   "source": [
    "greatest_nei = by_nei.take(np.arange(0, 11))  \n"
   ]
  },
  {
   "cell_type": "code",
   "execution_count": 10,
   "id": "aaee4da3",
   "metadata": {
    "deletable": false,
    "editable": false
   },
   "outputs": [
    {
     "data": {
      "text/html": [
       "<p><strong><pre style='display: inline;'>q1_3</pre></strong> passed! 🌟</p>"
      ],
      "text/plain": [
       "q1_3 results: All test cases passed!"
      ]
     },
     "execution_count": 10,
     "metadata": {},
     "output_type": "execute_result"
    }
   ],
   "source": [
    "grader.check(\"q1_3\")"
   ]
  },
  {
   "cell_type": "markdown",
   "id": "6335b31c",
   "metadata": {},
   "source": [
    "**Question 4.** It's believed that many people became PTER (recall: \"Part-Time for Economic Reasons\") in the \"Great Recession\" of 2008-2009.  NEI-PTER is the percentage of people who are unemployed (included in the NEI) plus the percentage of people who are PTER.\n",
    "\n",
    "Compute an array containing the percentage of people who were PTER in each quarter.  (The first element of the array should correspond to the first row of `unemployment`, and so on.) **(4 Points)**\n",
    "\n",
    "*Note:* Use the original `unemployment` table for this.\n"
   ]
  },
  {
   "cell_type": "code",
   "execution_count": 11,
   "id": "3617aa6d",
   "metadata": {
    "tags": []
   },
   "outputs": [
    {
     "data": {
      "text/plain": [
       "array([ 1.0746,  1.1644,  1.1555,  1.129 ,  1.2139,  1.0757,  1.1282,\n",
       "        1.1114,  1.0529,  1.0744,  1.1004,  1.0747,  1.0705,  1.0455,\n",
       "        1.008 ,  0.9734,  0.9753,  0.8931,  0.9451,  0.8367,  0.8208,\n",
       "        0.8105,  0.8248,  0.7578,  0.7251,  0.7445,  0.7543,  0.7423,\n",
       "        0.7399,  0.7687,  0.8418,  0.9923,  0.9181,  0.9629,  0.9703,\n",
       "        0.9575,  1.0333,  1.0781,  1.0675,  1.0354,  1.0601,  1.01  ,\n",
       "        1.0042,  1.0368,  0.9704,  0.923 ,  0.9759,  0.93  ,  0.889 ,\n",
       "        0.821 ,  0.9409,  0.955 ,  0.898 ,  0.8948,  0.9523,  0.9579,\n",
       "        1.0149,  1.0762,  1.2873,  1.4335,  1.7446,  1.8415,  1.9315,\n",
       "        1.8859,  1.8257,  1.9067,  1.8376,  1.8473,  1.7993,  1.8061,\n",
       "        1.7651,  1.7927,  1.7286,  1.6387,  1.6808,  1.6805,  1.6629,\n",
       "        1.6253,  1.6477,  1.6298,  1.4796,  1.5131,  1.4866,  1.4345,\n",
       "        1.3675,  1.3097,  1.2319,  1.1735,  1.1844,  1.1746])"
      ]
     },
     "execution_count": 11,
     "metadata": {},
     "output_type": "execute_result"
    }
   ],
   "source": [
    "nei_pter = unemployment.column('NEI-PTER')\n",
    "nei = unemployment.column('NEI')\n",
    "pter = nei_pter - nei\n",
    "pter"
   ]
  },
  {
   "cell_type": "code",
   "execution_count": 12,
   "id": "788dedd6",
   "metadata": {
    "deletable": false,
    "editable": false
   },
   "outputs": [
    {
     "data": {
      "text/html": [
       "<p><strong><pre style='display: inline;'>q1_4</pre></strong> passed! 🎉</p>"
      ],
      "text/plain": [
       "q1_4 results: All test cases passed!"
      ]
     },
     "execution_count": 12,
     "metadata": {},
     "output_type": "execute_result"
    }
   ],
   "source": [
    "grader.check(\"q1_4\")"
   ]
  },
  {
   "cell_type": "markdown",
   "id": "6c63ae6a",
   "metadata": {},
   "source": [
    "**Question 5.** Add `pter` as a column to `unemployment` (name the column `PTER`) and sort the resulting table by that column in descending order.  Call the resulting table `by_pter`.\n",
    "\n",
    "Try to do this with a single line of code, if you can. **(4 Points)**\n"
   ]
  },
  {
   "cell_type": "code",
   "execution_count": 13,
   "id": "6baa7509",
   "metadata": {
    "tags": []
   },
   "outputs": [
    {
     "data": {
      "text/html": [
       "<table border=\"1\" class=\"dataframe\">\n",
       "    <thead>\n",
       "        <tr>\n",
       "            <th>Date</th> <th>NEI</th> <th>NEI-PTER</th> <th>PTER</th>\n",
       "        </tr>\n",
       "    </thead>\n",
       "    <tbody>\n",
       "        <tr>\n",
       "            <td>2009-07-01</td> <td>10.8089</td> <td>12.7404 </td> <td>1.9315</td>\n",
       "        </tr>\n",
       "        <tr>\n",
       "            <td>2010-04-01</td> <td>10.6597</td> <td>12.5664 </td> <td>1.9067</td>\n",
       "        </tr>\n",
       "        <tr>\n",
       "            <td>2009-10-01</td> <td>10.9698</td> <td>12.8557 </td> <td>1.8859</td>\n",
       "        </tr>\n",
       "        <tr>\n",
       "            <td>2010-10-01</td> <td>10.5856</td> <td>12.4329 </td> <td>1.8473</td>\n",
       "        </tr>\n",
       "        <tr>\n",
       "            <td>2009-04-01</td> <td>10.7082</td> <td>12.5497 </td> <td>1.8415</td>\n",
       "        </tr>\n",
       "        <tr>\n",
       "            <td>2010-07-01</td> <td>10.5521</td> <td>12.3897 </td> <td>1.8376</td>\n",
       "        </tr>\n",
       "        <tr>\n",
       "            <td>2010-01-01</td> <td>10.9054</td> <td>12.7311 </td> <td>1.8257</td>\n",
       "        </tr>\n",
       "        <tr>\n",
       "            <td>2011-04-01</td> <td>10.4409</td> <td>12.247  </td> <td>1.8061</td>\n",
       "        </tr>\n",
       "        <tr>\n",
       "            <td>2011-01-01</td> <td>10.5024</td> <td>12.3017 </td> <td>1.7993</td>\n",
       "        </tr>\n",
       "        <tr>\n",
       "            <td>2011-10-01</td> <td>10.3287</td> <td>12.1214 </td> <td>1.7927</td>\n",
       "        </tr>\n",
       "    </tbody>\n",
       "</table>\n",
       "<p>... (80 rows omitted)</p>"
      ],
      "text/plain": [
       "Date       | NEI     | NEI-PTER | PTER\n",
       "2009-07-01 | 10.8089 | 12.7404  | 1.9315\n",
       "2010-04-01 | 10.6597 | 12.5664  | 1.9067\n",
       "2009-10-01 | 10.9698 | 12.8557  | 1.8859\n",
       "2010-10-01 | 10.5856 | 12.4329  | 1.8473\n",
       "2009-04-01 | 10.7082 | 12.5497  | 1.8415\n",
       "2010-07-01 | 10.5521 | 12.3897  | 1.8376\n",
       "2010-01-01 | 10.9054 | 12.7311  | 1.8257\n",
       "2011-04-01 | 10.4409 | 12.247   | 1.8061\n",
       "2011-01-01 | 10.5024 | 12.3017  | 1.7993\n",
       "2011-10-01 | 10.3287 | 12.1214  | 1.7927\n",
       "... (80 rows omitted)"
      ]
     },
     "execution_count": 13,
     "metadata": {},
     "output_type": "execute_result"
    }
   ],
   "source": [
    "by_pter = unemployment.with_column('PTER', pter)\n",
    "by_pter = by_pter.sort('PTER', descending = True)\n",
    "by_pter"
   ]
  },
  {
   "cell_type": "code",
   "execution_count": 14,
   "id": "8f5a70d6",
   "metadata": {
    "deletable": false,
    "editable": false
   },
   "outputs": [
    {
     "data": {
      "text/html": [
       "<p><strong><pre style='display: inline;'>q1_5</pre></strong> passed! 🎉</p>"
      ],
      "text/plain": [
       "q1_5 results: All test cases passed!"
      ]
     },
     "execution_count": 14,
     "metadata": {},
     "output_type": "execute_result"
    }
   ],
   "source": [
    "grader.check(\"q1_5\")"
   ]
  },
  {
   "cell_type": "markdown",
   "id": "85dabce7",
   "metadata": {},
   "source": [
    "**Question 6.** Create a line plot of PTER over time. To do this, create a new table called `pter_over_time` by making a copy of the `unemployment` table and adding two new columns: `Year` and `PTER` using the `year` array and the `pter` array, respectively. Then, generate a line plot using one of the table methods you've learned in class.\n",
    "\n",
    "The order of the columns matter for our correctness tests, so be sure `Year` comes before `PTER`. **(4 Points)**\n",
    "\n",
    "*Note:* When constructing `pter_over_time`, do not just add the `year` column to the `by_pter` table. Please follow the directions in the question above.\n"
   ]
  },
  {
   "cell_type": "code",
   "execution_count": 15,
   "id": "91786c76",
   "metadata": {
    "tags": []
   },
   "outputs": [
    {
     "data": {
      "text/plain": [
       "(0.0, 2.0)"
      ]
     },
     "execution_count": 15,
     "metadata": {},
     "output_type": "execute_result"
    },
    {
     "data": {
      "image/png": "[encoded data removed]",
      "text/plain": [
       "<Figure size 600x600 with 1 Axes>"
      ]
     },
     "metadata": {},
     "output_type": "display_data"
    }
   ],
   "source": [
    "pter_over_time = unemployment.select('Date', 'NEI', 'NEI-PTER')\n",
    "\n",
    "year = 1994 + np.arange(by_pter.num_rows) / 4\n",
    "pter_over_time = pter_over_time.with_columns(\n",
    "    'Year', year,\n",
    "    'PTER', pter\n",
    ")\n",
    "\n",
    "# Create a line plot\n",
    "pter_over_time.plot('Year', 'PTER')\n",
    "\n",
    "plots.ylim(0, 2)  # Do not change this line\n"
   ]
  },
  {
   "cell_type": "code",
   "execution_count": 16,
   "id": "f03312ce",
   "metadata": {
    "deletable": false,
    "editable": false
   },
   "outputs": [
    {
     "data": {
      "text/html": [
       "<p><strong><pre style='display: inline;'>q1_6</pre></strong> passed! 🎉</p>"
      ],
      "text/plain": [
       "q1_6 results: All test cases passed!"
      ]
     },
     "execution_count": 16,
     "metadata": {},
     "output_type": "execute_result"
    }
   ],
   "source": [
    "grader.check(\"q1_6\")"
   ]
  },
  {
   "cell_type": "markdown",
   "id": "a2a1f857",
   "metadata": {},
   "source": [
    "**Question 7.** Were PTER rates high during the Great Recession (that is to say, were PTER rates particularly high in the years 2008 through 2011)? Assign `highPTER` to `True` if you think PTER rates were high in this period, or `False` if you think they weren't. **(4 Points)**\n"
   ]
  },
  {
   "cell_type": "code",
   "execution_count": 17,
   "id": "997aaa73",
   "metadata": {
    "tags": []
   },
   "outputs": [],
   "source": [
    "highPTER = True"
   ]
  },
  {
   "cell_type": "code",
   "execution_count": 18,
   "id": "dbf532b1",
   "metadata": {
    "deletable": false,
    "editable": false
   },
   "outputs": [
    {
     "data": {
      "text/html": [
       "<p><strong><pre style='display: inline;'>q1_7</pre></strong> passed! 🍀</p>"
      ],
      "text/plain": [
       "q1_7 results: All test cases passed!"
      ]
     },
     "execution_count": 18,
     "metadata": {},
     "output_type": "execute_result"
    }
   ],
   "source": [
    "grader.check(\"q1_7\")"
   ]
  },
  {
   "cell_type": "markdown",
   "id": "aa57f5cb",
   "metadata": {},
   "source": [
    "## 2. Birth Rates"
   ]
  },
  {
   "cell_type": "markdown",
   "id": "52e0dfa7",
   "metadata": {},
   "source": [
    "The following table gives Census-based population estimates for each US state on both July 1, 2015 and July 1, 2016. The last four columns describe the components of the estimated change in population during this time interval. **For all questions below, assume that the word \"states\" refers to all 52 rows including Puerto Rico and the District of Columbia.**\n",
    "\n",
    "The data was taken from [here](http://www2.census.gov/programs-surveys/popest/datasets/2010-2016/national/totals/nst-est2016-alldata.csv). (Note: If it doesn't download for you when you click the link, please copy and paste it into your address bar!) If you want to read more about the different column descriptions, click [here](http://www2.census.gov/programs-surveys/popest/datasets/2010-2015/national/totals/nst-est2015-alldata.pdf).\n",
    "\n",
    "The raw data is a bit messy—run the cell below to clean the table and make it easier to work with."
   ]
  },
  {
   "cell_type": "code",
   "execution_count": 19,
   "id": "f5a2c05c",
   "metadata": {},
   "outputs": [
    {
     "data": {
      "text/html": [
       "<table border=\"1\" class=\"dataframe\">\n",
       "    <thead>\n",
       "        <tr>\n",
       "            <th>REGION</th> <th>NAME</th> <th>2015</th> <th>2016</th> <th>BIRTHS</th> <th>DEATHS</th> <th>MIGRATION</th> <th>OTHER</th>\n",
       "        </tr>\n",
       "    </thead>\n",
       "    <tbody>\n",
       "        <tr>\n",
       "            <td>3     </td> <td>Alabama   </td> <td>4,853,875 </td> <td>4,863,300 </td> <td>58,556 </td> <td>52,405 </td> <td>3,874    </td> <td>-600  </td>\n",
       "        </tr>\n",
       "        <tr>\n",
       "            <td>4     </td> <td>Alaska    </td> <td>737,709   </td> <td>741,894   </td> <td>11,255 </td> <td>4,511  </td> <td>-2,557   </td> <td>-2    </td>\n",
       "        </tr>\n",
       "        <tr>\n",
       "            <td>4     </td> <td>Arizona   </td> <td>6,817,565 </td> <td>6,931,071 </td> <td>87,204 </td> <td>56,564 </td> <td>76,405   </td> <td>6,461 </td>\n",
       "        </tr>\n",
       "        <tr>\n",
       "            <td>3     </td> <td>Arkansas  </td> <td>2,977,853 </td> <td>2,988,248 </td> <td>37,936 </td> <td>30,581 </td> <td>3,530    </td> <td>-490  </td>\n",
       "        </tr>\n",
       "        <tr>\n",
       "            <td>4     </td> <td>California</td> <td>38,993,940</td> <td>39,250,017</td> <td>502,848</td> <td>273,850</td> <td>33,530   </td> <td>-6,451</td>\n",
       "        </tr>\n",
       "    </tbody>\n",
       "</table>\n",
       "<p>... (47 rows omitted)</p>"
      ],
      "text/plain": [
       "<IPython.core.display.HTML object>"
      ]
     },
     "metadata": {},
     "output_type": "display_data"
    }
   ],
   "source": [
    "# Don't change this cell; just run it.\n",
    "pop = Table.read_table('nst-est2016-alldata.csv').where('SUMLEV', 40).select([1, 4, 12, 13, 27, 34, 62, 69])\n",
    "pop = pop.relabeled('POPESTIMATE2015', '2015').relabeled('POPESTIMATE2016', '2016')\n",
    "pop = pop.relabeled('BIRTHS2016', 'BIRTHS').relabeled('DEATHS2016', 'DEATHS')\n",
    "pop = pop.relabeled('NETMIG2016', 'MIGRATION').relabeled('RESIDUAL2016', 'OTHER')\n",
    "pop = pop.with_columns(\"REGION\", np.array([int(region) if region != \"X\" else 0 for region in pop.column(\"REGION\")]))\n",
    "pop.set_format([2, 3, 4, 5, 6, 7], NumberFormatter(decimals=0)).show(5)"
   ]
  },
  {
   "cell_type": "markdown",
   "id": "4b4fc7a9",
   "metadata": {},
   "source": [
    "**Question 1.** Assign `us_birth_rate` to the total US annual birth rate during this time interval. The annual birth rate for a year-long period is the total number of births in that period as a proportion of the total population size at the start of the time period. **(4 Points)**\n",
    "\n",
    "*Hint:* Which year corresponds to the start of the time period?\n"
   ]
  },
  {
   "cell_type": "code",
   "execution_count": 40,
   "id": "5f62a6b2",
   "metadata": {
    "tags": []
   },
   "outputs": [
    {
     "data": {
      "text/plain": [
       "0.012358536498646102"
      ]
     },
     "execution_count": 40,
     "metadata": {},
     "output_type": "execute_result"
    }
   ],
   "source": [
    "total_births = pop.column('BIRTHS').sum()\n",
    "tbl = Table.read_table('nst-est2016-alldata.csv')\n",
    "\n",
    "total_population_2015 = pop.column('2015').sum()\n",
    " \n",
    "us_birth_rate = total_births/total_population_2015\n",
    "us_birth_rate"
   ]
  },
  {
   "cell_type": "code",
   "execution_count": 41,
   "id": "6aa0b0f9",
   "metadata": {
    "deletable": false,
    "editable": false
   },
   "outputs": [
    {
     "data": {
      "text/html": [
       "<p><strong><pre style='display: inline;'>q2_1</pre></strong> passed! 🙌</p>"
      ],
      "text/plain": [
       "q2_1 results: All test cases passed!"
      ]
     },
     "execution_count": 41,
     "metadata": {},
     "output_type": "execute_result"
    }
   ],
   "source": [
    "grader.check(\"q2_1\")"
   ]
  },
  {
   "cell_type": "markdown",
   "id": "a7428342",
   "metadata": {},
   "source": [
    "**Question 2.** Assign `movers` to the number of states for which the **absolute value** of the **annual rate of migration** was higher than 1%. The annual rate of migration for a year-long period is the net number of migrations (in and out) as a proportion of the population size at the start of the period. The `MIGRATION` column contains estimated annual net migration counts by state. **(4 Points)**\n",
    "\n",
    "*Hint*: `migration_rates` should be a table and `movers` should be a number.\n"
   ]
  },
  {
   "cell_type": "code",
   "execution_count": 30,
   "id": "3e298c5b",
   "metadata": {
    "tags": []
   },
   "outputs": [
    {
     "data": {
      "text/markdown": [
       "## **Uh-o it seems we have an error!**"
      ],
      "text/plain": [
       "<IPython.core.display.Markdown object>"
      ]
     },
     "metadata": {},
     "output_type": "display_data"
    },
    {
     "data": {
      "text/markdown": [
       "It seems we have a ValueError. ValueErrors are usually because of:"
      ],
      "text/plain": [
       "<IPython.core.display.Markdown object>"
      ]
     },
     "metadata": {},
     "output_type": "display_data"
    },
    {
     "data": {
      "text/markdown": [
       "1. Misspelling a column label, or using a column name that isn't in the table"
      ],
      "text/plain": [
       "<IPython.core.display.Markdown object>"
      ]
     },
     "metadata": {},
     "output_type": "display_data"
    },
    {
     "data": {
      "text/markdown": [
       "The Data 8 Reference might be helpful to look over for examples and usage: [Data 8 Reference](http://data8.org/sp22/python-reference.html)"
      ],
      "text/plain": [
       "<IPython.core.display.Markdown object>"
      ]
     },
     "metadata": {},
     "output_type": "display_data"
    },
    {
     "data": {
      "text/markdown": [
       "If you are having more trouble please feel free to consult a staff member                         \n",
       " or see the error message below "
      ],
      "text/plain": [
       "<IPython.core.display.Markdown object>"
      ]
     },
     "metadata": {},
     "output_type": "display_data"
    },
    {
     "data": {
      "application/vnd.jupyter.widget-view+json": {
       "model_id": "c5945cfea3cc4f47bcc99e00b3d13579",
       "version_major": 2,
       "version_minor": 0
      },
      "text/plain": [
       "Accordion(children=(VBox(children=(VBox(children=(Label(value='Was the message you saw useful?'), Dropdown(opt…"
      ]
     },
     "metadata": {},
     "output_type": "display_data"
    },
    {
     "ename": "ValueError",
     "evalue": "The column \"MIGRATION\" is not in the table. The table contains these columns: SUMLEV, REGION, DIVISION, STATE, NAME, CENSUS2010POP, ESTIMATESBASE2010, POPESTIMATE2010, POPESTIMATE2011, POPESTIMATE2012, POPESTIMATE2013, POPESTIMATE2014, POPESTIMATE2015, POPESTIMATE2016, NPOPCHG_2010, NPOPCHG_2011, NPOPCHG_2012, NPOPCHG_2013, NPOPCHG_2014, NPOPCHG_2015, NPOPCHG_2016, BIRTHS2010, BIRTHS2011, BIRTHS2012, BIRTHS2013, BIRTHS2014, BIRTHS2015, BIRTHS2016, DEATHS2010, DEATHS2011, DEATHS2012, DEATHS2013, DEATHS2014, DEATHS2015, DEATHS2016, NATURALINC2010, NATURALINC2011, NATURALINC2012, NATURALINC2013, NATURALINC2014, NATURALINC2015, NATURALINC2016, INTERNATIONALMIG2010, INTERNATIONALMIG2011, INTERNATIONALMIG2012, INTERNATIONALMIG2013, INTERNATIONALMIG2014, INTERNATIONALMIG2015, INTERNATIONALMIG2016, DOMESTICMIG2010, DOMESTICMIG2011, DOMESTICMIG2012, DOMESTICMIG2013, DOMESTICMIG2014, DOMESTICMIG2015, DOMESTICMIG2016, NETMIG2010, NETMIG2011, NETMIG2012, NETMIG2013, NETMIG2014, NETMIG2015, NETMIG2016, RESIDUAL2010, RESIDUAL2011, RESIDUAL2012, RESIDUAL2013, RESIDUAL2014, RESIDUAL2015, RESIDUAL2016, RBIRTH2011, RBIRTH2012, RBIRTH2013, RBIRTH2014, RBIRTH2015, RBIRTH2016, RDEATH2011, RDEATH2012, RDEATH2013, RDEATH2014, RDEATH2015, RDEATH2016, RNATURALINC2011, RNATURALINC2012, RNATURALINC2013, RNATURALINC2014, RNATURALINC2015, RNATURALINC2016, RINTERNATIONALMIG2011, RINTERNATIONALMIG2012, RINTERNATIONALMIG2013, RINTERNATIONALMIG2014, RINTERNATIONALMIG2015, RINTERNATIONALMIG2016, RDOMESTICMIG2011, RDOMESTICMIG2012, RDOMESTICMIG2013, RDOMESTICMIG2014, RDOMESTICMIG2015, RDOMESTICMIG2016, RNETMIG2011, RNETMIG2012, RNETMIG2013, RNETMIG2014, RNETMIG2015, RNETMIG2016",
     "output_type": "error",
     "traceback": [
      "\u001b[0;31m---------------------------------------------------------------------------\u001b[0m",
      "\u001b[0;31mValueError\u001b[0m                                Traceback (most recent call last)",
      "Cell \u001b[0;32mIn[30], line 1\u001b[0m\n\u001b[0;32m----> 1\u001b[0m tbl[\u001b[38;5;124m'\u001b[39m\u001b[38;5;124mMIGRATION_RATE\u001b[39m\u001b[38;5;124m'\u001b[39m] \u001b[38;5;241m=\u001b[39m (\u001b[43mtbl\u001b[49m\u001b[43m[\u001b[49m\u001b[38;5;124;43m'\u001b[39;49m\u001b[38;5;124;43mMIGRATION\u001b[39;49m\u001b[38;5;124;43m'\u001b[39;49m\u001b[43m]\u001b[49m \u001b[38;5;241m/\u001b[39m \u001b[38;5;241m2015\u001b[39m) \u001b[38;5;241m*\u001b[39m \u001b[38;5;241m100\u001b[39m\n\u001b[1;32m      2\u001b[0m movers \u001b[38;5;241m=\u001b[39m \u001b[38;5;28mlen\u001b[39m(tbl[\u001b[38;5;28mabs\u001b[39m(tbl[\u001b[38;5;124m'\u001b[39m\u001b[38;5;124mMIGRATION_RATE\u001b[39m\u001b[38;5;124m'\u001b[39m]) \u001b[38;5;241m>\u001b[39m \u001b[38;5;241m1\u001b[39m])\n\u001b[1;32m      3\u001b[0m movers\n",
      "File \u001b[0;32m/opt/conda/lib/python3.10/site-packages/datascience/tables.py:281\u001b[0m, in \u001b[0;36mTable.__getitem__\u001b[0;34m(self, index_or_label)\u001b[0m\n\u001b[1;32m    280\u001b[0m \u001b[38;5;28;01mdef\u001b[39;00m \u001b[38;5;21m__getitem__\u001b[39m(\u001b[38;5;28mself\u001b[39m, index_or_label):\n\u001b[0;32m--> 281\u001b[0m     \u001b[38;5;28;01mreturn\u001b[39;00m \u001b[38;5;28;43mself\u001b[39;49m\u001b[38;5;241;43m.\u001b[39;49m\u001b[43mcolumn\u001b[49m\u001b[43m(\u001b[49m\u001b[43mindex_or_label\u001b[49m\u001b[43m)\u001b[49m\n",
      "File \u001b[0;32m/opt/conda/lib/python3.10/site-packages/datascience/tables.py:448\u001b[0m, in \u001b[0;36mTable.column\u001b[0;34m(self, index_or_label)\u001b[0m\n\u001b[1;32m    423\u001b[0m \u001b[38;5;250m\u001b[39m\u001b[38;5;124;03m\"\"\"Return the values of a column as an array.\u001b[39;00m\n\u001b[1;32m    424\u001b[0m \n\u001b[1;32m    425\u001b[0m \u001b[38;5;124;03mtable.column(label) is equivalent to table[label].\u001b[39;00m\n\u001b[0;32m   (...)\u001b[0m\n\u001b[1;32m    444\u001b[0m \u001b[38;5;124;03m    ``ValueError``: When the ``index_or_label`` is not in the table.\u001b[39;00m\n\u001b[1;32m    445\u001b[0m \u001b[38;5;124;03m\"\"\"\u001b[39;00m\n\u001b[1;32m    446\u001b[0m \u001b[38;5;28;01mif\u001b[39;00m (\u001b[38;5;28misinstance\u001b[39m(index_or_label, \u001b[38;5;28mstr\u001b[39m)\n\u001b[1;32m    447\u001b[0m         \u001b[38;5;129;01mand\u001b[39;00m index_or_label \u001b[38;5;129;01mnot\u001b[39;00m \u001b[38;5;129;01min\u001b[39;00m \u001b[38;5;28mself\u001b[39m\u001b[38;5;241m.\u001b[39mlabels):\n\u001b[0;32m--> 448\u001b[0m     \u001b[38;5;28;01mraise\u001b[39;00m \u001b[38;5;167;01mValueError\u001b[39;00m(\n\u001b[1;32m    449\u001b[0m         \u001b[38;5;124m'\u001b[39m\u001b[38;5;124mThe column \u001b[39m\u001b[38;5;124m\"\u001b[39m\u001b[38;5;132;01m{}\u001b[39;00m\u001b[38;5;124m\"\u001b[39m\u001b[38;5;124m is not in the table. The table contains \u001b[39m\u001b[38;5;124m'\u001b[39m\n\u001b[1;32m    450\u001b[0m         \u001b[38;5;124m'\u001b[39m\u001b[38;5;124mthese columns: \u001b[39m\u001b[38;5;132;01m{}\u001b[39;00m\u001b[38;5;124m'\u001b[39m\n\u001b[1;32m    451\u001b[0m         \u001b[38;5;241m.\u001b[39mformat(index_or_label, \u001b[38;5;124m'\u001b[39m\u001b[38;5;124m, \u001b[39m\u001b[38;5;124m'\u001b[39m\u001b[38;5;241m.\u001b[39mjoin(\u001b[38;5;28mself\u001b[39m\u001b[38;5;241m.\u001b[39mlabels))\n\u001b[1;32m    452\u001b[0m     )\n\u001b[1;32m    453\u001b[0m \u001b[38;5;28;01mif\u001b[39;00m (\u001b[38;5;28misinstance\u001b[39m(index_or_label, \u001b[38;5;28mint\u001b[39m)\n\u001b[1;32m    454\u001b[0m         \u001b[38;5;129;01mand\u001b[39;00m \u001b[38;5;129;01mnot\u001b[39;00m \u001b[38;5;241m0\u001b[39m \u001b[38;5;241m<\u001b[39m\u001b[38;5;241m=\u001b[39m index_or_label \u001b[38;5;241m<\u001b[39m \u001b[38;5;28mlen\u001b[39m(\u001b[38;5;28mself\u001b[39m\u001b[38;5;241m.\u001b[39mlabels)):\n\u001b[1;32m    455\u001b[0m     \u001b[38;5;28;01mraise\u001b[39;00m \u001b[38;5;167;01mValueError\u001b[39;00m(\n\u001b[1;32m    456\u001b[0m         \u001b[38;5;124m'\u001b[39m\u001b[38;5;124mThe index \u001b[39m\u001b[38;5;132;01m{}\u001b[39;00m\u001b[38;5;124m is not in the table. Only indices between \u001b[39m\u001b[38;5;124m'\u001b[39m\n\u001b[1;32m    457\u001b[0m         \u001b[38;5;124m'\u001b[39m\u001b[38;5;124m0 and \u001b[39m\u001b[38;5;132;01m{}\u001b[39;00m\u001b[38;5;124m are valid\u001b[39m\u001b[38;5;124m'\u001b[39m\n\u001b[1;32m    458\u001b[0m         \u001b[38;5;241m.\u001b[39mformat(index_or_label, \u001b[38;5;28mlen\u001b[39m(\u001b[38;5;28mself\u001b[39m\u001b[38;5;241m.\u001b[39mlabels) \u001b[38;5;241m-\u001b[39m \u001b[38;5;241m1\u001b[39m)\n\u001b[1;32m    459\u001b[0m     )\n",
      "\u001b[0;31mValueError\u001b[0m: The column \"MIGRATION\" is not in the table. The table contains these columns: SUMLEV, REGION, DIVISION, STATE, NAME, CENSUS2010POP, ESTIMATESBASE2010, POPESTIMATE2010, POPESTIMATE2011, POPESTIMATE2012, POPESTIMATE2013, POPESTIMATE2014, POPESTIMATE2015, POPESTIMATE2016, NPOPCHG_2010, NPOPCHG_2011, NPOPCHG_2012, NPOPCHG_2013, NPOPCHG_2014, NPOPCHG_2015, NPOPCHG_2016, BIRTHS2010, BIRTHS2011, BIRTHS2012, BIRTHS2013, BIRTHS2014, BIRTHS2015, BIRTHS2016, DEATHS2010, DEATHS2011, DEATHS2012, DEATHS2013, DEATHS2014, DEATHS2015, DEATHS2016, NATURALINC2010, NATURALINC2011, NATURALINC2012, NATURALINC2013, NATURALINC2014, NATURALINC2015, NATURALINC2016, INTERNATIONALMIG2010, INTERNATIONALMIG2011, INTERNATIONALMIG2012, INTERNATIONALMIG2013, INTERNATIONALMIG2014, INTERNATIONALMIG2015, INTERNATIONALMIG2016, DOMESTICMIG2010, DOMESTICMIG2011, DOMESTICMIG2012, DOMESTICMIG2013, DOMESTICMIG2014, DOMESTICMIG2015, DOMESTICMIG2016, NETMIG2010, NETMIG2011, NETMIG2012, NETMIG2013, NETMIG2014, NETMIG2015, NETMIG2016, RESIDUAL2010, RESIDUAL2011, RESIDUAL2012, RESIDUAL2013, RESIDUAL2014, RESIDUAL2015, RESIDUAL2016, RBIRTH2011, RBIRTH2012, RBIRTH2013, RBIRTH2014, RBIRTH2015, RBIRTH2016, RDEATH2011, RDEATH2012, RDEATH2013, RDEATH2014, RDEATH2015, RDEATH2016, RNATURALINC2011, RNATURALINC2012, RNATURALINC2013, RNATURALINC2014, RNATURALINC2015, RNATURALINC2016, RINTERNATIONALMIG2011, RINTERNATIONALMIG2012, RINTERNATIONALMIG2013, RINTERNATIONALMIG2014, RINTERNATIONALMIG2015, RINTERNATIONALMIG2016, RDOMESTICMIG2011, RDOMESTICMIG2012, RDOMESTICMIG2013, RDOMESTICMIG2014, RDOMESTICMIG2015, RDOMESTICMIG2016, RNETMIG2011, RNETMIG2012, RNETMIG2013, RNETMIG2014, RNETMIG2015, RNETMIG2016"
     ]
    }
   ],
   "source": [
    "tbl['MIGRATION_RATE'] = (tbl['MIGRATION'] / 2015) * 100\n",
    "movers = len(tbl[abs(tbl['MIGRATION_RATE']) > 1])\n",
    "movers\n"
   ]
  },
  {
   "cell_type": "code",
   "execution_count": 31,
   "id": "3dbb39bb",
   "metadata": {
    "deletable": false,
    "editable": false
   },
   "outputs": [
    {
     "data": {
      "text/html": [
       "<p><strong style='color: red;'><pre style='display: inline;'>q2_2</pre> results:</strong></p><p><strong><pre style='display: inline;'>q2_2 - 1</pre> result:</strong></p><pre>    ❌ Test case failed\n",
       "    Trying:\n",
       "        0 < movers <= 52\n",
       "    Expecting:\n",
       "        True\n",
       "    **********************************************************************\n",
       "    Line 1, in q2_2 0\n",
       "    Failed example:\n",
       "        0 < movers <= 52\n",
       "    Exception raised:\n",
       "        Traceback (most recent call last):\n",
       "          File \"/opt/conda/lib/python3.10/doctest.py\", line 1350, in __run\n",
       "            exec(compile(example.source, filename, \"single\",\n",
       "          File \"<doctest q2_2 0[0]>\", line 1, in <module>\n",
       "            0 < movers <= 52\n",
       "        NameError: name 'movers' is not defined\n",
       "</pre>"
      ],
      "text/plain": [
       "q2_2 results:\n",
       "    q2_2 - 1 result:\n",
       "        ❌ Test case failed\n",
       "        Trying:\n",
       "            0 < movers <= 52\n",
       "        Expecting:\n",
       "            True\n",
       "        **********************************************************************\n",
       "        Line 1, in q2_2 0\n",
       "        Failed example:\n",
       "            0 < movers <= 52\n",
       "        Exception raised:\n",
       "            Traceback (most recent call last):\n",
       "              File \"/opt/conda/lib/python3.10/doctest.py\", line 1350, in __run\n",
       "                exec(compile(example.source, filename, \"single\",\n",
       "              File \"<doctest q2_2 0[0]>\", line 1, in <module>\n",
       "                0 < movers <= 52\n",
       "            NameError: name 'movers' is not defined"
      ]
     },
     "execution_count": 31,
     "metadata": {},
     "output_type": "execute_result"
    }
   ],
   "source": [
    "grader.check(\"q2_2\")"
   ]
  },
  {
   "cell_type": "markdown",
   "id": "30024451",
   "metadata": {},
   "source": [
    "**Question 3.** Assign `west_births` to the total number of births that occurred in region 4 (the Western US). **(4 Points)**\n",
    "\n",
    "*Hint:* Make sure you double check the type of the values in the `REGION` column and appropriately filter (i.e. the types must match!).\n"
   ]
  },
  {
   "cell_type": "code",
   "execution_count": 32,
   "id": "caf28412",
   "metadata": {
    "tags": []
   },
   "outputs": [
    {
     "data": {
      "text/html": [
       "<table border=\"1\" class=\"dataframe\">\n",
       "    <thead>\n",
       "        <tr>\n",
       "            <th>SUMLEV</th> <th>REGION</th> <th>DIVISION</th> <th>STATE</th> <th>NAME</th> <th>CENSUS2010POP</th> <th>ESTIMATESBASE2010</th> <th>POPESTIMATE2010</th> <th>POPESTIMATE2011</th> <th>POPESTIMATE2012</th> <th>POPESTIMATE2013</th> <th>POPESTIMATE2014</th> <th>POPESTIMATE2015</th> <th>POPESTIMATE2016</th> <th>NPOPCHG_2010</th> <th>NPOPCHG_2011</th> <th>NPOPCHG_2012</th> <th>NPOPCHG_2013</th> <th>NPOPCHG_2014</th> <th>NPOPCHG_2015</th> <th>NPOPCHG_2016</th> <th>BIRTHS2010</th> <th>BIRTHS2011</th> <th>BIRTHS2012</th> <th>BIRTHS2013</th> <th>BIRTHS2014</th> <th>BIRTHS2015</th> <th>BIRTHS2016</th> <th>DEATHS2010</th> <th>DEATHS2011</th> <th>DEATHS2012</th> <th>DEATHS2013</th> <th>DEATHS2014</th> <th>DEATHS2015</th> <th>DEATHS2016</th> <th>NATURALINC2010</th> <th>NATURALINC2011</th> <th>NATURALINC2012</th> <th>NATURALINC2013</th> <th>NATURALINC2014</th> <th>NATURALINC2015</th> <th>NATURALINC2016</th> <th>INTERNATIONALMIG2010</th> <th>INTERNATIONALMIG2011</th> <th>INTERNATIONALMIG2012</th> <th>INTERNATIONALMIG2013</th> <th>INTERNATIONALMIG2014</th> <th>INTERNATIONALMIG2015</th> <th>INTERNATIONALMIG2016</th> <th>DOMESTICMIG2010</th> <th>DOMESTICMIG2011</th> <th>DOMESTICMIG2012</th> <th>DOMESTICMIG2013</th> <th>DOMESTICMIG2014</th> <th>DOMESTICMIG2015</th> <th>DOMESTICMIG2016</th> <th>NETMIG2010</th> <th>NETMIG2011</th> <th>NETMIG2012</th> <th>NETMIG2013</th> <th>NETMIG2014</th> <th>NETMIG2015</th> <th>NETMIG2016</th> <th>RESIDUAL2010</th> <th>RESIDUAL2011</th> <th>RESIDUAL2012</th> <th>RESIDUAL2013</th> <th>RESIDUAL2014</th> <th>RESIDUAL2015</th> <th>RESIDUAL2016</th> <th>RBIRTH2011</th> <th>RBIRTH2012</th> <th>RBIRTH2013</th> <th>RBIRTH2014</th> <th>RBIRTH2015</th> <th>RBIRTH2016</th> <th>RDEATH2011</th> <th>RDEATH2012</th> <th>RDEATH2013</th> <th>RDEATH2014</th> <th>RDEATH2015</th> <th>RDEATH2016</th> <th>RNATURALINC2011</th> <th>RNATURALINC2012</th> <th>RNATURALINC2013</th> <th>RNATURALINC2014</th> <th>RNATURALINC2015</th> <th>RNATURALINC2016</th> <th>RINTERNATIONALMIG2011</th> <th>RINTERNATIONALMIG2012</th> <th>RINTERNATIONALMIG2013</th> <th>RINTERNATIONALMIG2014</th> <th>RINTERNATIONALMIG2015</th> <th>RINTERNATIONALMIG2016</th> <th>RDOMESTICMIG2011</th> <th>RDOMESTICMIG2012</th> <th>RDOMESTICMIG2013</th> <th>RDOMESTICMIG2014</th> <th>RDOMESTICMIG2015</th> <th>RDOMESTICMIG2016</th> <th>RNETMIG2011</th> <th>RNETMIG2012</th> <th>RNETMIG2013</th> <th>RNETMIG2014</th> <th>RNETMIG2015</th> <th>RNETMIG2016</th>\n",
       "        </tr>\n",
       "    </thead>\n",
       "    <tbody>\n",
       "        <tr>\n",
       "            <td>20    </td> <td>4     </td> <td>0       </td> <td>0    </td> <td>West Region</td> <td>71945553     </td> <td>71946922         </td> <td>72118421       </td> <td>72815460       </td> <td>73537829       </td> <td>74247869       </td> <td>75023986       </td> <td>75834288       </td> <td>76657000       </td> <td>171499      </td> <td>697039      </td> <td>722369      </td> <td>710040      </td> <td>776117      </td> <td>810302      </td> <td>822712      </td> <td>243012    </td> <td>982737    </td> <td>963425    </td> <td>969187    </td> <td>968953    </td> <td>978082    </td> <td>979657    </td> <td>118428    </td> <td>491871    </td> <td>495057    </td> <td>511600    </td> <td>509132    </td> <td>542640    </td> <td>560581    </td> <td>124584        </td> <td>490866        </td> <td>468368        </td> <td>457587        </td> <td>459821        </td> <td>435442        </td> <td>419076        </td> <td>45482               </td> <td>191053              </td> <td>200462              </td> <td>196615              </td> <td>222209              </td> <td>238752              </td> <td>227265              </td> <td>357            </td> <td>20675          </td> <td>55206          </td> <td>50641          </td> <td>92366          </td> <td>125218         </td> <td>169992         </td> <td>45839     </td> <td>211728    </td> <td>255668    </td> <td>247256    </td> <td>314575    </td> <td>363970    </td> <td>397257    </td> <td>1076        </td> <td>-5555       </td> <td>-1667       </td> <td>5197        </td> <td>1721        </td> <td>10890       </td> <td>6379        </td> <td>13.5612   </td> <td>13.1657   </td> <td>13.1161   </td> <td>12.9824   </td> <td>12.9669   </td> <td>12.8487   </td> <td>6.78752   </td> <td>6.76523   </td> <td>6.92354   </td> <td>6.82154   </td> <td>7.19404   </td> <td>7.3523    </td> <td>6.77365        </td> <td>6.40051        </td> <td>6.19257        </td> <td>6.16085        </td> <td>5.77286        </td> <td>5.49639        </td> <td>2.63642              </td> <td>2.73943              </td> <td>2.66081              </td> <td>2.97724              </td> <td>3.16525              </td> <td>2.98069              </td> <td>0.285303        </td> <td>0.754421        </td> <td>0.68533         </td> <td>1.23755         </td> <td>1.66007         </td> <td>2.22953         </td> <td>2.92172    </td> <td>3.49385    </td> <td>3.34614    </td> <td>4.21479    </td> <td>4.82532    </td> <td>5.21023    </td>\n",
       "        </tr>\n",
       "        <tr>\n",
       "            <td>40    </td> <td>4     </td> <td>9       </td> <td>2    </td> <td>Alaska     </td> <td>710231       </td> <td>710249           </td> <td>714031         </td> <td>722713         </td> <td>731089         </td> <td>736879         </td> <td>736705         </td> <td>737709         </td> <td>741894         </td> <td>3782        </td> <td>8682        </td> <td>8376        </td> <td>5790        </td> <td>-174        </td> <td>1004        </td> <td>4185        </td> <td>2891      </td> <td>11707     </td> <td>11126     </td> <td>11347     </td> <td>11448     </td> <td>11314     </td> <td>11255     </td> <td>919       </td> <td>3937      </td> <td>3937      </td> <td>4047      </td> <td>4047      </td> <td>4315      </td> <td>4511      </td> <td>1972          </td> <td>7770          </td> <td>7189          </td> <td>7300          </td> <td>7401          </td> <td>6999          </td> <td>6744          </td> <td>574                 </td> <td>1480                </td> <td>2723                </td> <td>2249                </td> <td>2208                </td> <td>2527                </td> <td>2030                </td> <td>1199           </td> <td>-795           </td> <td>-1549          </td> <td>-3223          </td> <td>-10408         </td> <td>-7882          </td> <td>-4587          </td> <td>1773      </td> <td>685       </td> <td>1174      </td> <td>-974      </td> <td>-8200     </td> <td>-5355     </td> <td>-2557     </td> <td>37          </td> <td>227         </td> <td>13          </td> <td>-536        </td> <td>625         </td> <td>-640        </td> <td>-2          </td> <td>16.2966   </td> <td>15.3061   </td> <td>15.4595   </td> <td>15.5376   </td> <td>15.3471   </td> <td>15.2135   </td> <td>5.48045   </td> <td>5.41614   </td> <td>5.51374   </td> <td>5.49273   </td> <td>5.85317   </td> <td>6.09758   </td> <td>10.8161        </td> <td>9.88993        </td> <td>9.94572        </td> <td>10.0449        </td> <td>9.49394        </td> <td>9.11596        </td> <td>2.06021              </td> <td>3.74604              </td> <td>3.0641               </td> <td>2.99678              </td> <td>3.4278               </td> <td>2.74398              </td> <td>-1.10667        </td> <td>-2.13096        </td> <td>-4.3911         </td> <td>-14.1261        </td> <td>-10.6917        </td> <td>-6.20031        </td> <td>0.953545   </td> <td>1.61508    </td> <td>-1.327     </td> <td>-11.1293   </td> <td>-7.2639    </td> <td>-3.45633   </td>\n",
       "        </tr>\n",
       "        <tr>\n",
       "            <td>40    </td> <td>4     </td> <td>8       </td> <td>4    </td> <td>Arizona    </td> <td>6392017      </td> <td>6392301          </td> <td>6408312        </td> <td>6467163        </td> <td>6549634        </td> <td>6624617        </td> <td>6719993        </td> <td>6817565        </td> <td>6931071        </td> <td>16011       </td> <td>58851       </td> <td>82471       </td> <td>74983       </td> <td>95376       </td> <td>97572       </td> <td>113506      </td> <td>20941     </td> <td>86106     </td> <td>85573     </td> <td>86097     </td> <td>86128     </td> <td>87258     </td> <td>87204     </td> <td>11486     </td> <td>48164     </td> <td>48756     </td> <td>50609     </td> <td>50249     </td> <td>54576     </td> <td>56564     </td> <td>9455          </td> <td>37942         </td> <td>36817         </td> <td>35488         </td> <td>35879         </td> <td>32682         </td> <td>30640         </td> <td>2373                </td> <td>10947               </td> <td>11686               </td> <td>12282               </td> <td>14290               </td> <td>15414               </td> <td>14861               </td> <td>4420           </td> <td>8535           </td> <td>33964          </td> <td>25538          </td> <td>41038          </td> <td>48341          </td> <td>61544          </td> <td>6793      </td> <td>19482     </td> <td>45650     </td> <td>37820     </td> <td>55328     </td> <td>63755     </td> <td>76405     </td> <td>-237        </td> <td>1427        </td> <td>4           </td> <td>1675        </td> <td>4169        </td> <td>1135        </td> <td>6461        </td> <td>13.3752   </td> <td>13.1481   </td> <td>13.0705   </td> <td>12.9083   </td> <td>12.8912   </td> <td>12.6855   </td> <td>7.48151   </td> <td>7.49124   </td> <td>7.68302   </td> <td>7.53098   </td> <td>8.0629    </td> <td>8.22831   </td> <td>5.89369        </td> <td>5.65684        </td> <td>5.38748        </td> <td>5.3773         </td> <td>4.82834        </td> <td>4.45717        </td> <td>1.70044              </td> <td>1.79553              </td> <td>1.86455              </td> <td>2.14169              </td> <td>2.27722              </td> <td>2.16181              </td> <td>1.32578         </td> <td>5.21849         </td> <td>3.87696         </td> <td>6.1505          </td> <td>7.14176         </td> <td>8.95274         </td> <td>3.02622    </td> <td>7.01401    </td> <td>5.7415     </td> <td>8.29219    </td> <td>9.41898    </td> <td>11.1146    </td>\n",
       "        </tr>\n",
       "        <tr>\n",
       "            <td>40    </td> <td>4     </td> <td>9       </td> <td>6    </td> <td>California </td> <td>37253956     </td> <td>37254522         </td> <td>37332685       </td> <td>37676861       </td> <td>38011074       </td> <td>38335203       </td> <td>38680810       </td> <td>38993940       </td> <td>39250017       </td> <td>78163       </td> <td>344176      </td> <td>334213      </td> <td>324129      </td> <td>345607      </td> <td>313130      </td> <td>256077      </td> <td>123306    </td> <td>509772    </td> <td>497438    </td> <td>499642    </td> <td>498910    </td> <td>503303    </td> <td>502848    </td> <td>57299     </td> <td>238419    </td> <td>239600    </td> <td>247773    </td> <td>244043    </td> <td>262984    </td> <td>273850    </td> <td>66007         </td> <td>271353        </td> <td>257838        </td> <td>251869        </td> <td>254867        </td> <td>240319        </td> <td>228998        </td> <td>28560               </td> <td>124150              </td> <td>122429              </td> <td>121944              </td> <td>138820              </td> <td>148098              </td> <td>142553              </td> <td>-17304         </td> <td>-42576         </td> <td>-43897         </td> <td>-51795         </td> <td>-41146         </td> <td>-77603         </td> <td>-109023        </td> <td>11256     </td> <td>81574     </td> <td>78532     </td> <td>70149     </td> <td>97674     </td> <td>70495     </td> <td>33530     </td> <td>900         </td> <td>-8751       </td> <td>-2157       </td> <td>2111        </td> <td>-6934       </td> <td>2316        </td> <td>-6451       </td> <td>13.5922   </td> <td>13.1444   </td> <td>13.0888   </td> <td>12.956    </td> <td>12.9592   </td> <td>12.8533   </td> <td>6.35703   </td> <td>6.33126   </td> <td>6.49077   </td> <td>6.33746   </td> <td>6.77142   </td> <td>6.9999    </td> <td>7.23516        </td> <td>6.81319        </td> <td>6.59807        </td> <td>6.61855        </td> <td>6.18783        </td> <td>5.85344        </td> <td>3.31025              </td> <td>3.2351               </td> <td>3.1945               </td> <td>3.60496              </td> <td>3.81329              </td> <td>3.64381              </td> <td>-1.13522        </td> <td>-1.15995        </td> <td>-1.35684        </td> <td>-1.06851        </td> <td>-1.99815        </td> <td>-2.78675        </td> <td>2.17503    </td> <td>2.07515    </td> <td>1.83765    </td> <td>2.53646    </td> <td>1.81513    </td> <td>0.857063   </td>\n",
       "        </tr>\n",
       "        <tr>\n",
       "            <td>40    </td> <td>4     </td> <td>8       </td> <td>8    </td> <td>Colorado   </td> <td>5029196      </td> <td>5029324          </td> <td>5048644        </td> <td>5118360        </td> <td>5189867        </td> <td>5267603        </td> <td>5349648        </td> <td>5448819        </td> <td>5540545        </td> <td>19320       </td> <td>69716       </td> <td>71507       </td> <td>77736       </td> <td>82045       </td> <td>99171       </td> <td>91726       </td> <td>16793     </td> <td>65911     </td> <td>64733     </td> <td>64738     </td> <td>65713     </td> <td>66427     </td> <td>67453     </td> <td>7855      </td> <td>32009     </td> <td>32714     </td> <td>33597     </td> <td>33943     </td> <td>36381     </td> <td>37121     </td> <td>8938          </td> <td>33902         </td> <td>32019         </td> <td>31141         </td> <td>31770         </td> <td>30046         </td> <td>30332         </td> <td>2031                </td> <td>8238                </td> <td>10445               </td> <td>9364                </td> <td>10391               </td> <td>11505               </td> <td>10557               </td> <td>7797           </td> <td>25703          </td> <td>28485          </td> <td>36296          </td> <td>39052          </td> <td>56122          </td> <td>50216          </td> <td>9828      </td> <td>33941     </td> <td>38930     </td> <td>45660     </td> <td>49443     </td> <td>67627     </td> <td>60773     </td> <td>554         </td> <td>1873        </td> <td>558         </td> <td>935         </td> <td>832         </td> <td>1498        </td> <td>621         </td> <td>12.9657   </td> <td>12.5595   </td> <td>12.3812   </td> <td>12.3785   </td> <td>12.303    </td> <td>12.2761   </td> <td>6.29664   </td> <td>6.34716   </td> <td>6.42545   </td> <td>6.39393   </td> <td>6.73818   </td> <td>6.7558    </td> <td>6.66902        </td> <td>6.21232        </td> <td>5.95574        </td> <td>5.9846         </td> <td>5.56486        </td> <td>5.52025        </td> <td>1.62054              </td> <td>2.02654              </td> <td>1.79087              </td> <td>1.95738              </td> <td>2.13086              </td> <td>1.92131              </td> <td>5.05616         </td> <td>5.52665         </td> <td>6.94164         </td> <td>7.35633         </td> <td>10.3944         </td> <td>9.13902         </td> <td>6.6767     </td> <td>7.55319    </td> <td>8.73251    </td> <td>9.31371    </td> <td>12.5253    </td> <td>11.0603    </td>\n",
       "        </tr>\n",
       "        <tr>\n",
       "            <td>40    </td> <td>4     </td> <td>9       </td> <td>15   </td> <td>Hawaii     </td> <td>1360301      </td> <td>1360301          </td> <td>1363945        </td> <td>1377864        </td> <td>1391820        </td> <td>1406481        </td> <td>1416349        </td> <td>1425157        </td> <td>1428557        </td> <td>3644        </td> <td>13919       </td> <td>13956       </td> <td>14661       </td> <td>9868        </td> <td>8808        </td> <td>3400        </td> <td>4645      </td> <td>19157     </td> <td>18895     </td> <td>19037     </td> <td>18954     </td> <td>18307     </td> <td>18507     </td> <td>2531      </td> <td>10073     </td> <td>10244     </td> <td>10342     </td> <td>10754     </td> <td>11864     </td> <td>12237     </td> <td>2114          </td> <td>9084          </td> <td>8651          </td> <td>8695          </td> <td>8200          </td> <td>6443          </td> <td>6270          </td> <td>1963                </td> <td>6443                </td> <td>8998                </td> <td>7434                </td> <td>7677                </td> <td>8596                </td> <td>7438                </td> <td>-420           </td> <td>-941           </td> <td>-3556          </td> <td>-1443          </td> <td>-5359          </td> <td>-6759          </td> <td>-10021         </td> <td>1543      </td> <td>5502      </td> <td>5442      </td> <td>5991      </td> <td>2318      </td> <td>1837      </td> <td>-2583     </td> <td>-13         </td> <td>-667        </td> <td>-137        </td> <td>-25         </td> <td>-650        </td> <td>528         </td> <td>-287        </td> <td>13.974    </td> <td>13.6442   </td> <td>13.6061   </td> <td>13.4291   </td> <td>12.8854   </td> <td>12.9705   </td> <td>7.3477    </td> <td>7.39723   </td> <td>7.39163   </td> <td>7.6193    </td> <td>8.3505    </td> <td>8.57619   </td> <td>6.62628        </td> <td>6.24692        </td> <td>6.21449        </td> <td>5.80977        </td> <td>4.53492        </td> <td>4.39427        </td> <td>4.69982              </td> <td>6.49749              </td> <td>5.31322              </td> <td>5.43922              </td> <td>6.05031              </td> <td>5.21286              </td> <td>-0.686408       </td> <td>-2.5678         </td> <td>-1.03134        </td> <td>-3.7969         </td> <td>-4.75734        </td> <td>-7.02313        </td> <td>4.01341    </td> <td>3.92969    </td> <td>4.28188    </td> <td>1.64232    </td> <td>1.29298    </td> <td>-1.81027   </td>\n",
       "        </tr>\n",
       "        <tr>\n",
       "            <td>40    </td> <td>4     </td> <td>8       </td> <td>16   </td> <td>Idaho      </td> <td>1567582      </td> <td>1567650          </td> <td>1571010        </td> <td>1584143        </td> <td>1595911        </td> <td>1612011        </td> <td>1633532        </td> <td>1652828        </td> <td>1683140        </td> <td>3360        </td> <td>13133       </td> <td>11768       </td> <td>16100       </td> <td>21521       </td> <td>19296       </td> <td>30312       </td> <td>5973      </td> <td>22957     </td> <td>22366     </td> <td>22705     </td> <td>22430     </td> <td>23001     </td> <td>22792     </td> <td>2567      </td> <td>11885     </td> <td>11902     </td> <td>12301     </td> <td>12546     </td> <td>12348     </td> <td>12496     </td> <td>3406          </td> <td>11072         </td> <td>10464         </td> <td>10404         </td> <td>9884          </td> <td>10653         </td> <td>10296         </td> <td>372                 </td> <td>1313                </td> <td>1600                </td> <td>1458                </td> <td>1669                </td> <td>1848                </td> <td>1726                </td> <td>-371           </td> <td>152            </td> <td>-307           </td> <td>4786           </td> <td>8916           </td> <td>6748           </td> <td>17143          </td> <td>1         </td> <td>1465      </td> <td>1293      </td> <td>6244      </td> <td>10585     </td> <td>8596      </td> <td>18869     </td> <td>-47         </td> <td>596         </td> <td>11          </td> <td>-548        </td> <td>1052        </td> <td>47          </td> <td>1147        </td> <td>14.5521   </td> <td>14.0664   </td> <td>14.1556   </td> <td>13.822    </td> <td>13.9979   </td> <td>13.6644   </td> <td>7.53371   </td> <td>7.48541   </td> <td>7.66914   </td> <td>7.73122   </td> <td>7.5147    </td> <td>7.49168   </td> <td>7.01836        </td> <td>6.58102        </td> <td>6.48644        </td> <td>6.09081        </td> <td>6.48316        </td> <td>6.17272        </td> <td>0.832289             </td> <td>1.00627              </td> <td>0.909                </td> <td>1.02849              </td> <td>1.12465              </td> <td>1.03478              </td> <td>0.0963503       </td> <td>-0.193078       </td> <td>2.98386         </td> <td>5.4943          </td> <td>4.10667         </td> <td>10.2777         </td> <td>0.92864    </td> <td>0.813194   </td> <td>3.89286    </td> <td>6.52279    </td> <td>5.23132    </td> <td>11.3125    </td>\n",
       "        </tr>\n",
       "        <tr>\n",
       "            <td>40    </td> <td>4     </td> <td>8       </td> <td>30   </td> <td>Montana    </td> <td>989415       </td> <td>989414           </td> <td>990641         </td> <td>997821         </td> <td>1005196        </td> <td>1014314        </td> <td>1022867        </td> <td>1032073        </td> <td>1042520        </td> <td>1227        </td> <td>7180        </td> <td>7375        </td> <td>9118        </td> <td>8553        </td> <td>9206        </td> <td>10447       </td> <td>3067      </td> <td>12003     </td> <td>12036     </td> <td>12201     </td> <td>12387     </td> <td>12519     </td> <td>12431     </td> <td>2387      </td> <td>9128      </td> <td>8961      </td> <td>9448      </td> <td>9380      </td> <td>9228      </td> <td>9597      </td> <td>680           </td> <td>2875          </td> <td>3075          </td> <td>2753          </td> <td>3007          </td> <td>3291          </td> <td>2834          </td> <td>205                 </td> <td>621                 </td> <td>753                 </td> <td>565                 </td> <td>586                 </td> <td>646                 </td> <td>569                 </td> <td>412            </td> <td>3493           </td> <td>3515           </td> <td>5678           </td> <td>4742           </td> <td>5035           </td> <td>6853           </td> <td>617       </td> <td>4114      </td> <td>4268      </td> <td>6243      </td> <td>5328      </td> <td>5681      </td> <td>7422      </td> <td>-70         </td> <td>191         </td> <td>32          </td> <td>122         </td> <td>218         </td> <td>234         </td> <td>191         </td> <td>12.0726   </td> <td>12.0179   </td> <td>12.0831   </td> <td>12.1609   </td> <td>12.1843   </td> <td>11.984    </td> <td>9.18096   </td> <td>8.9475    </td> <td>9.35673   </td> <td>9.2088    </td> <td>8.98128   </td> <td>9.25194   </td> <td>2.89168        </td> <td>3.07037        </td> <td>2.7264         </td> <td>2.95212        </td> <td>3.20301        </td> <td>2.7321         </td> <td>0.624603             </td> <td>0.751866             </td> <td>0.559542             </td> <td>0.575305             </td> <td>0.628729             </td> <td>0.548541             </td> <td>3.51327         </td> <td>3.50971         </td> <td>5.62315         </td> <td>4.65545         </td> <td>4.90039         </td> <td>6.6066          </td> <td>4.13787    </td> <td>4.26157    </td> <td>6.18269    </td> <td>5.23076    </td> <td>5.52912    </td> <td>7.15514    </td>\n",
       "        </tr>\n",
       "        <tr>\n",
       "            <td>40    </td> <td>4     </td> <td>8       </td> <td>32   </td> <td>Nevada     </td> <td>2700551      </td> <td>2700691          </td> <td>2703284        </td> <td>2718379        </td> <td>2752565        </td> <td>2786464        </td> <td>2833013        </td> <td>2883758        </td> <td>2940058        </td> <td>2593        </td> <td>15095       </td> <td>34186       </td> <td>33899       </td> <td>46549       </td> <td>50745       </td> <td>56300       </td> <td>8891      </td> <td>35847     </td> <td>34712     </td> <td>35084     </td> <td>35226     </td> <td>36286     </td> <td>36462     </td> <td>4944      </td> <td>20200     </td> <td>20412     </td> <td>21267     </td> <td>21280     </td> <td>23053     </td> <td>23771     </td> <td>3947          </td> <td>15647         </td> <td>14300         </td> <td>13817         </td> <td>13946         </td> <td>13233         </td> <td>12691         </td> <td>1507                </td> <td>6432                </td> <td>6153                </td> <td>6220                </td> <td>7163                </td> <td>7727                </td> <td>7392                </td> <td>-2859          </td> <td>-6661          </td> <td>13649          </td> <td>13342          </td> <td>23610          </td> <td>28376          </td> <td>34575          </td> <td>-1352     </td> <td>-229      </td> <td>19802     </td> <td>19562     </td> <td>30773     </td> <td>36103     </td> <td>41967     </td> <td>-2          </td> <td>-323        </td> <td>84          </td> <td>520         </td> <td>1830        </td> <td>1409        </td> <td>1642        </td> <td>13.2236   </td> <td>12.6896   </td> <td>12.6679   </td> <td>12.5371   </td> <td>12.6946   </td> <td>12.5217   </td> <td>7.45159   </td> <td>7.46197   </td> <td>7.67896   </td> <td>7.57366   </td> <td>8.06504   </td> <td>8.16338   </td> <td>5.77203        </td> <td>5.22762        </td> <td>4.98896        </td> <td>4.96345        </td> <td>4.62954        </td> <td>4.35831        </td> <td>2.3727               </td> <td>2.24934              </td> <td>2.24588              </td> <td>2.54935              </td> <td>2.70327              </td> <td>2.53854              </td> <td>-2.45718        </td> <td>4.98963         </td> <td>4.81745         </td> <td>8.40292         </td> <td>9.92728         </td> <td>11.8737         </td> <td>-0.0844759 </td> <td>7.23897    </td> <td>7.06333    </td> <td>10.9523    </td> <td>12.6306    </td> <td>14.4122    </td>\n",
       "        </tr>\n",
       "        <tr>\n",
       "            <td>40    </td> <td>4     </td> <td>8       </td> <td>35   </td> <td>New Mexico </td> <td>2059179      </td> <td>2059198          </td> <td>2064756        </td> <td>2077756        </td> <td>2083784        </td> <td>2085193        </td> <td>2083024        </td> <td>2080328        </td> <td>2081015        </td> <td>5558        </td> <td>13000       </td> <td>6028        </td> <td>1409        </td> <td>-2169       </td> <td>-2696       </td> <td>687         </td> <td>6645      </td> <td>27799     </td> <td>27043     </td> <td>26738     </td> <td>26357     </td> <td>25650     </td> <td>25491     </td> <td>3809      </td> <td>16380     </td> <td>16467     </td> <td>16803     </td> <td>17138     </td> <td>17742     </td> <td>17799     </td> <td>2836          </td> <td>11419         </td> <td>10576         </td> <td>9935          </td> <td>9219          </td> <td>7908          </td> <td>7692          </td> <td>528                 </td> <td>1736                </td> <td>2629                </td> <td>2183                </td> <td>2571                </td> <td>2899                </td> <td>2637                </td> <td>2093           </td> <td>84             </td> <td>-7116          </td> <td>-10541         </td> <td>-14067         </td> <td>-13668         </td> <td>-9748          </td> <td>2621      </td> <td>1820      </td> <td>-4487     </td> <td>-8358     </td> <td>-11496    </td> <td>-10769    </td> <td>-7111     </td> <td>101         </td> <td>-239        </td> <td>-61         </td> <td>-168        </td> <td>108         </td> <td>165         </td> <td>106         </td> <td>13.4213   </td> <td>12.9966   </td> <td>12.8271   </td> <td>12.6467   </td> <td>12.3218   </td> <td>12.2513   </td> <td>7.90825   </td> <td>7.9139    </td> <td>8.06097   </td> <td>8.22318   </td> <td>8.52294   </td> <td>8.55445   </td> <td>5.51308        </td> <td>5.08273        </td> <td>4.76616        </td> <td>4.42347        </td> <td>3.79886        </td> <td>3.69688        </td> <td>0.838139             </td> <td>1.26347              </td> <td>1.04726              </td> <td>1.23362              </td> <td>1.39263              </td> <td>1.26738              </td> <td>0.0405551       </td> <td>-3.41989        </td> <td>-5.05688        </td> <td>-6.74965        </td> <td>-6.56586        </td> <td>-4.68503        </td> <td>0.878694   </td> <td>-2.15641   </td> <td>-4.00962   </td> <td>-5.51603   </td> <td>-5.17324   </td> <td>-3.41765   </td>\n",
       "        </tr>\n",
       "    </tbody>\n",
       "</table>\n",
       "<p>... (4 rows omitted)</p>"
      ],
      "text/plain": [
       "SUMLEV | REGION | DIVISION | STATE | NAME        | CENSUS2010POP | ESTIMATESBASE2010 | POPESTIMATE2010 | POPESTIMATE2011 | POPESTIMATE2012 | POPESTIMATE2013 | POPESTIMATE2014 | POPESTIMATE2015 | POPESTIMATE2016 | NPOPCHG_2010 | NPOPCHG_2011 | NPOPCHG_2012 | NPOPCHG_2013 | NPOPCHG_2014 | NPOPCHG_2015 | NPOPCHG_2016 | BIRTHS2010 | BIRTHS2011 | BIRTHS2012 | BIRTHS2013 | BIRTHS2014 | BIRTHS2015 | BIRTHS2016 | DEATHS2010 | DEATHS2011 | DEATHS2012 | DEATHS2013 | DEATHS2014 | DEATHS2015 | DEATHS2016 | NATURALINC2010 | NATURALINC2011 | NATURALINC2012 | NATURALINC2013 | NATURALINC2014 | NATURALINC2015 | NATURALINC2016 | INTERNATIONALMIG2010 | INTERNATIONALMIG2011 | INTERNATIONALMIG2012 | INTERNATIONALMIG2013 | INTERNATIONALMIG2014 | INTERNATIONALMIG2015 | INTERNATIONALMIG2016 | DOMESTICMIG2010 | DOMESTICMIG2011 | DOMESTICMIG2012 | DOMESTICMIG2013 | DOMESTICMIG2014 | DOMESTICMIG2015 | DOMESTICMIG2016 | NETMIG2010 | NETMIG2011 | NETMIG2012 | NETMIG2013 | NETMIG2014 | NETMIG2015 | NETMIG2016 | RESIDUAL2010 | RESIDUAL2011 | RESIDUAL2012 | RESIDUAL2013 | RESIDUAL2014 | RESIDUAL2015 | RESIDUAL2016 | RBIRTH2011 | RBIRTH2012 | RBIRTH2013 | RBIRTH2014 | RBIRTH2015 | RBIRTH2016 | RDEATH2011 | RDEATH2012 | RDEATH2013 | RDEATH2014 | RDEATH2015 | RDEATH2016 | RNATURALINC2011 | RNATURALINC2012 | RNATURALINC2013 | RNATURALINC2014 | RNATURALINC2015 | RNATURALINC2016 | RINTERNATIONALMIG2011 | RINTERNATIONALMIG2012 | RINTERNATIONALMIG2013 | RINTERNATIONALMIG2014 | RINTERNATIONALMIG2015 | RINTERNATIONALMIG2016 | RDOMESTICMIG2011 | RDOMESTICMIG2012 | RDOMESTICMIG2013 | RDOMESTICMIG2014 | RDOMESTICMIG2015 | RDOMESTICMIG2016 | RNETMIG2011 | RNETMIG2012 | RNETMIG2013 | RNETMIG2014 | RNETMIG2015 | RNETMIG2016\n",
       "20     | 4      | 0        | 0     | West Region | 71945553      | 71946922          | 72118421        | 72815460        | 73537829        | 74247869        | 75023986        | 75834288        | 76657000        | 171499       | 697039       | 722369       | 710040       | 776117       | 810302       | 822712       | 243012     | 982737     | 963425     | 969187     | 968953     | 978082     | 979657     | 118428     | 491871     | 495057     | 511600     | 509132     | 542640     | 560581     | 124584         | 490866         | 468368         | 457587         | 459821         | 435442         | 419076         | 45482                | 191053               | 200462               | 196615               | 222209               | 238752               | 227265               | 357             | 20675           | 55206           | 50641           | 92366           | 125218          | 169992          | 45839      | 211728     | 255668     | 247256     | 314575     | 363970     | 397257     | 1076         | -5555        | -1667        | 5197         | 1721         | 10890        | 6379         | 13.5612    | 13.1657    | 13.1161    | 12.9824    | 12.9669    | 12.8487    | 6.78752    | 6.76523    | 6.92354    | 6.82154    | 7.19404    | 7.3523     | 6.77365         | 6.40051         | 6.19257         | 6.16085         | 5.77286         | 5.49639         | 2.63642               | 2.73943               | 2.66081               | 2.97724               | 3.16525               | 2.98069               | 0.285303         | 0.754421         | 0.68533          | 1.23755          | 1.66007          | 2.22953          | 2.92172     | 3.49385     | 3.34614     | 4.21479     | 4.82532     | 5.21023\n",
       "40     | 4      | 9        | 2     | Alaska      | 710231        | 710249            | 714031          | 722713          | 731089          | 736879          | 736705          | 737709          | 741894          | 3782         | 8682         | 8376         | 5790         | -174         | 1004         | 4185         | 2891       | 11707      | 11126      | 11347      | 11448      | 11314      | 11255      | 919        | 3937       | 3937       | 4047       | 4047       | 4315       | 4511       | 1972           | 7770           | 7189           | 7300           | 7401           | 6999           | 6744           | 574                  | 1480                 | 2723                 | 2249                 | 2208                 | 2527                 | 2030                 | 1199            | -795            | -1549           | -3223           | -10408          | -7882           | -4587           | 1773       | 685        | 1174       | -974       | -8200      | -5355      | -2557      | 37           | 227          | 13           | -536         | 625          | -640         | -2           | 16.2966    | 15.3061    | 15.4595    | 15.5376    | 15.3471    | 15.2135    | 5.48045    | 5.41614    | 5.51374    | 5.49273    | 5.85317    | 6.09758    | 10.8161         | 9.88993         | 9.94572         | 10.0449         | 9.49394         | 9.11596         | 2.06021               | 3.74604               | 3.0641                | 2.99678               | 3.4278                | 2.74398               | -1.10667         | -2.13096         | -4.3911          | -14.1261         | -10.6917         | -6.20031         | 0.953545    | 1.61508     | -1.327      | -11.1293    | -7.2639     | -3.45633\n",
       "40     | 4      | 8        | 4     | Arizona     | 6392017       | 6392301           | 6408312         | 6467163         | 6549634         | 6624617         | 6719993         | 6817565         | 6931071         | 16011        | 58851        | 82471        | 74983        | 95376        | 97572        | 113506       | 20941      | 86106      | 85573      | 86097      | 86128      | 87258      | 87204      | 11486      | 48164      | 48756      | 50609      | 50249      | 54576      | 56564      | 9455           | 37942          | 36817          | 35488          | 35879          | 32682          | 30640          | 2373                 | 10947                | 11686                | 12282                | 14290                | 15414                | 14861                | 4420            | 8535            | 33964           | 25538           | 41038           | 48341           | 61544           | 6793       | 19482      | 45650      | 37820      | 55328      | 63755      | 76405      | -237         | 1427         | 4            | 1675         | 4169         | 1135         | 6461         | 13.3752    | 13.1481    | 13.0705    | 12.9083    | 12.8912    | 12.6855    | 7.48151    | 7.49124    | 7.68302    | 7.53098    | 8.0629     | 8.22831    | 5.89369         | 5.65684         | 5.38748         | 5.3773          | 4.82834         | 4.45717         | 1.70044               | 1.79553               | 1.86455               | 2.14169               | 2.27722               | 2.16181               | 1.32578          | 5.21849          | 3.87696          | 6.1505           | 7.14176          | 8.95274          | 3.02622     | 7.01401     | 5.7415      | 8.29219     | 9.41898     | 11.1146\n",
       "40     | 4      | 9        | 6     | California  | 37253956      | 37254522          | 37332685        | 37676861        | 38011074        | 38335203        | 38680810        | 38993940        | 39250017        | 78163        | 344176       | 334213       | 324129       | 345607       | 313130       | 256077       | 123306     | 509772     | 497438     | 499642     | 498910     | 503303     | 502848     | 57299      | 238419     | 239600     | 247773     | 244043     | 262984     | 273850     | 66007          | 271353         | 257838         | 251869         | 254867         | 240319         | 228998         | 28560                | 124150               | 122429               | 121944               | 138820               | 148098               | 142553               | -17304          | -42576          | -43897          | -51795          | -41146          | -77603          | -109023         | 11256      | 81574      | 78532      | 70149      | 97674      | 70495      | 33530      | 900          | -8751        | -2157        | 2111         | -6934        | 2316         | -6451        | 13.5922    | 13.1444    | 13.0888    | 12.956     | 12.9592    | 12.8533    | 6.35703    | 6.33126    | 6.49077    | 6.33746    | 6.77142    | 6.9999     | 7.23516         | 6.81319         | 6.59807         | 6.61855         | 6.18783         | 5.85344         | 3.31025               | 3.2351                | 3.1945                | 3.60496               | 3.81329               | 3.64381               | -1.13522         | -1.15995         | -1.35684         | -1.06851         | -1.99815         | -2.78675         | 2.17503     | 2.07515     | 1.83765     | 2.53646     | 1.81513     | 0.857063\n",
       "40     | 4      | 8        | 8     | Colorado    | 5029196       | 5029324           | 5048644         | 5118360         | 5189867         | 5267603         | 5349648         | 5448819         | 5540545         | 19320        | 69716        | 71507        | 77736        | 82045        | 99171        | 91726        | 16793      | 65911      | 64733      | 64738      | 65713      | 66427      | 67453      | 7855       | 32009      | 32714      | 33597      | 33943      | 36381      | 37121      | 8938           | 33902          | 32019          | 31141          | 31770          | 30046          | 30332          | 2031                 | 8238                 | 10445                | 9364                 | 10391                | 11505                | 10557                | 7797            | 25703           | 28485           | 36296           | 39052           | 56122           | 50216           | 9828       | 33941      | 38930      | 45660      | 49443      | 67627      | 60773      | 554          | 1873         | 558          | 935          | 832          | 1498         | 621          | 12.9657    | 12.5595    | 12.3812    | 12.3785    | 12.303     | 12.2761    | 6.29664    | 6.34716    | 6.42545    | 6.39393    | 6.73818    | 6.7558     | 6.66902         | 6.21232         | 5.95574         | 5.9846          | 5.56486         | 5.52025         | 1.62054               | 2.02654               | 1.79087               | 1.95738               | 2.13086               | 1.92131               | 5.05616          | 5.52665          | 6.94164          | 7.35633          | 10.3944          | 9.13902          | 6.6767      | 7.55319     | 8.73251     | 9.31371     | 12.5253     | 11.0603\n",
       "40     | 4      | 9        | 15    | Hawaii      | 1360301       | 1360301           | 1363945         | 1377864         | 1391820         | 1406481         | 1416349         | 1425157         | 1428557         | 3644         | 13919        | 13956        | 14661        | 9868         | 8808         | 3400         | 4645       | 19157      | 18895      | 19037      | 18954      | 18307      | 18507      | 2531       | 10073      | 10244      | 10342      | 10754      | 11864      | 12237      | 2114           | 9084           | 8651           | 8695           | 8200           | 6443           | 6270           | 1963                 | 6443                 | 8998                 | 7434                 | 7677                 | 8596                 | 7438                 | -420            | -941            | -3556           | -1443           | -5359           | -6759           | -10021          | 1543       | 5502       | 5442       | 5991       | 2318       | 1837       | -2583      | -13          | -667         | -137         | -25          | -650         | 528          | -287         | 13.974     | 13.6442    | 13.6061    | 13.4291    | 12.8854    | 12.9705    | 7.3477     | 7.39723    | 7.39163    | 7.6193     | 8.3505     | 8.57619    | 6.62628         | 6.24692         | 6.21449         | 5.80977         | 4.53492         | 4.39427         | 4.69982               | 6.49749               | 5.31322               | 5.43922               | 6.05031               | 5.21286               | -0.686408        | -2.5678          | -1.03134         | -3.7969          | -4.75734         | -7.02313         | 4.01341     | 3.92969     | 4.28188     | 1.64232     | 1.29298     | -1.81027\n",
       "40     | 4      | 8        | 16    | Idaho       | 1567582       | 1567650           | 1571010         | 1584143         | 1595911         | 1612011         | 1633532         | 1652828         | 1683140         | 3360         | 13133        | 11768        | 16100        | 21521        | 19296        | 30312        | 5973       | 22957      | 22366      | 22705      | 22430      | 23001      | 22792      | 2567       | 11885      | 11902      | 12301      | 12546      | 12348      | 12496      | 3406           | 11072          | 10464          | 10404          | 9884           | 10653          | 10296          | 372                  | 1313                 | 1600                 | 1458                 | 1669                 | 1848                 | 1726                 | -371            | 152             | -307            | 4786            | 8916            | 6748            | 17143           | 1          | 1465       | 1293       | 6244       | 10585      | 8596       | 18869      | -47          | 596          | 11           | -548         | 1052         | 47           | 1147         | 14.5521    | 14.0664    | 14.1556    | 13.822     | 13.9979    | 13.6644    | 7.53371    | 7.48541    | 7.66914    | 7.73122    | 7.5147     | 7.49168    | 7.01836         | 6.58102         | 6.48644         | 6.09081         | 6.48316         | 6.17272         | 0.832289              | 1.00627               | 0.909                 | 1.02849               | 1.12465               | 1.03478               | 0.0963503        | -0.193078        | 2.98386          | 5.4943           | 4.10667          | 10.2777          | 0.92864     | 0.813194    | 3.89286     | 6.52279     | 5.23132     | 11.3125\n",
       "40     | 4      | 8        | 30    | Montana     | 989415        | 989414            | 990641          | 997821          | 1005196         | 1014314         | 1022867         | 1032073         | 1042520         | 1227         | 7180         | 7375         | 9118         | 8553         | 9206         | 10447        | 3067       | 12003      | 12036      | 12201      | 12387      | 12519      | 12431      | 2387       | 9128       | 8961       | 9448       | 9380       | 9228       | 9597       | 680            | 2875           | 3075           | 2753           | 3007           | 3291           | 2834           | 205                  | 621                  | 753                  | 565                  | 586                  | 646                  | 569                  | 412             | 3493            | 3515            | 5678            | 4742            | 5035            | 6853            | 617        | 4114       | 4268       | 6243       | 5328       | 5681       | 7422       | -70          | 191          | 32           | 122          | 218          | 234          | 191          | 12.0726    | 12.0179    | 12.0831    | 12.1609    | 12.1843    | 11.984     | 9.18096    | 8.9475     | 9.35673    | 9.2088     | 8.98128    | 9.25194    | 2.89168         | 3.07037         | 2.7264          | 2.95212         | 3.20301         | 2.7321          | 0.624603              | 0.751866              | 0.559542              | 0.575305              | 0.628729              | 0.548541              | 3.51327          | 3.50971          | 5.62315          | 4.65545          | 4.90039          | 6.6066           | 4.13787     | 4.26157     | 6.18269     | 5.23076     | 5.52912     | 7.15514\n",
       "40     | 4      | 8        | 32    | Nevada      | 2700551       | 2700691           | 2703284         | 2718379         | 2752565         | 2786464         | 2833013         | 2883758         | 2940058         | 2593         | 15095        | 34186        | 33899        | 46549        | 50745        | 56300        | 8891       | 35847      | 34712      | 35084      | 35226      | 36286      | 36462      | 4944       | 20200      | 20412      | 21267      | 21280      | 23053      | 23771      | 3947           | 15647          | 14300          | 13817          | 13946          | 13233          | 12691          | 1507                 | 6432                 | 6153                 | 6220                 | 7163                 | 7727                 | 7392                 | -2859           | -6661           | 13649           | 13342           | 23610           | 28376           | 34575           | -1352      | -229       | 19802      | 19562      | 30773      | 36103      | 41967      | -2           | -323         | 84           | 520          | 1830         | 1409         | 1642         | 13.2236    | 12.6896    | 12.6679    | 12.5371    | 12.6946    | 12.5217    | 7.45159    | 7.46197    | 7.67896    | 7.57366    | 8.06504    | 8.16338    | 5.77203         | 5.22762         | 4.98896         | 4.96345         | 4.62954         | 4.35831         | 2.3727                | 2.24934               | 2.24588               | 2.54935               | 2.70327               | 2.53854               | -2.45718         | 4.98963          | 4.81745          | 8.40292          | 9.92728          | 11.8737          | -0.0844759  | 7.23897     | 7.06333     | 10.9523     | 12.6306     | 14.4122\n",
       "40     | 4      | 8        | 35    | New Mexico  | 2059179       | 2059198           | 2064756         | 2077756         | 2083784         | 2085193         | 2083024         | 2080328         | 2081015         | 5558         | 13000        | 6028         | 1409         | -2169        | -2696        | 687          | 6645       | 27799      | 27043      | 26738      | 26357      | 25650      | 25491      | 3809       | 16380      | 16467      | 16803      | 17138      | 17742      | 17799      | 2836           | 11419          | 10576          | 9935           | 9219           | 7908           | 7692           | 528                  | 1736                 | 2629                 | 2183                 | 2571                 | 2899                 | 2637                 | 2093            | 84              | -7116           | -10541          | -14067          | -13668          | -9748           | 2621       | 1820       | -4487      | -8358      | -11496     | -10769     | -7111      | 101          | -239         | -61          | -168         | 108          | 165          | 106          | 13.4213    | 12.9966    | 12.8271    | 12.6467    | 12.3218    | 12.2513    | 7.90825    | 7.9139     | 8.06097    | 8.22318    | 8.52294    | 8.55445    | 5.51308         | 5.08273         | 4.76616         | 4.42347         | 3.79886         | 3.69688         | 0.838139              | 1.26347               | 1.04726               | 1.23362               | 1.39263               | 1.26738               | 0.0405551        | -3.41989         | -5.05688         | -6.74965         | -6.56586         | -4.68503         | 0.878694    | -2.15641    | -4.00962    | -5.51603    | -5.17324    | -3.41765\n",
       "... (4 rows omitted)"
      ]
     },
     "execution_count": 32,
     "metadata": {},
     "output_type": "execute_result"
    }
   ],
   "source": [
    "west_births = tbl.where('REGION', are.equal_to('4'))\n",
    "west_births"
   ]
  },
  {
   "cell_type": "code",
   "execution_count": null,
   "id": "4b280f19",
   "metadata": {
    "deletable": false,
    "editable": false
   },
   "outputs": [],
   "source": [
    "grader.check(\"q2_3\")"
   ]
  },
  {
   "cell_type": "markdown",
   "id": "a8f9e32f",
   "metadata": {},
   "source": [
    "**Question 4.** In the next question, you will be creating a visualization to understand the relationship between birth and death rates. The annual death rate for a year-long period is the total number of deaths in that period as a proportion of the population size at the start of the time period.\n",
    "\n",
    "What visualization is most appropriate to see if there is an association between birth and death rates during a given time interval?\n",
    "\n",
    "1. Line Graph\n",
    "2. Bar Chart\n",
    "3. Scatter Plot\n",
    "\n",
    "Assign `visualization` below to the number corresponding to the correct visualization. **(4 Points)**\n"
   ]
  },
  {
   "cell_type": "code",
   "execution_count": 33,
   "id": "dd8acd9f",
   "metadata": {
    "tags": []
   },
   "outputs": [],
   "source": [
    "visualization = 1"
   ]
  },
  {
   "cell_type": "code",
   "execution_count": 34,
   "id": "6dd096bd",
   "metadata": {
    "deletable": false,
    "editable": false
   },
   "outputs": [
    {
     "data": {
      "text/html": [
       "<p><strong><pre style='display: inline;'>q2_4</pre></strong> passed! 🎉</p>"
      ],
      "text/plain": [
       "q2_4 results: All test cases passed!"
      ]
     },
     "execution_count": 34,
     "metadata": {},
     "output_type": "execute_result"
    }
   ],
   "source": [
    "grader.check(\"q2_4\")"
   ]
  },
  {
   "cell_type": "markdown",
   "id": "598fee3d",
   "metadata": {},
   "source": [
    "<!-- BEGIN QUESTION -->\n",
    "\n",
    "**Question 5.** In the code cell below, create a visualization that will help us determine if there is an association between birth rate and death rate during this time interval. It may be helpful to create an intermediate table here. **(4 Points)**\n",
    "\n",
    "Things to consider:\n",
    "\n",
    "- What type of chart will help us illustrate an association between 2 variables?\n",
    "- How can you manipulate a certain table to help generate your chart?\n",
    "- Check out the Recommended Reading for this homework!\n"
   ]
  },
  {
   "cell_type": "code",
   "execution_count": 56,
   "id": "d39c3889",
   "metadata": {
    "deletable": false,
    "manual_problem_id": "birth_death_rates_graph",
    "tags": []
   },
   "outputs": [
    {
     "data": {
      "text/plain": [
       "(0.0, 1.5)"
      ]
     },
     "execution_count": 56,
     "metadata": {},
     "output_type": "execute_result"
    },
    {
     "data": {
      "image/png": "[encoded data removed]",
      "text/plain": [
       "<Figure size 600x600 with 1 Axes>"
      ]
     },
     "metadata": {},
     "output_type": "display_data"
    },
    {
     "data": {
      "image/png": "[encoded data removed]",
      "text/plain": [
       "<Figure size 600x600 with 1 Axes>"
      ]
     },
     "metadata": {},
     "output_type": "display_data"
    }
   ],
   "source": [
    "# Extract the relevant columns from pop\n",
    "birth_rates = (pop.column('BIRTHS') / pop.column('2015'))*100\n",
    "death_rates = (pop.column('DEATHS') / pop.column('2015'))*100\n",
    "\n",
    "# Create a new table with birth_rates and death_rates\n",
    "birthVdeath = Table().with_columns(\n",
    "    'BIRTHS', birth_rates,\n",
    "    'DEATHS', death_rates\n",
    ")\n",
    "\n",
    "# Create a line plot\n",
    "birthVdeath.plot('BIRTHS')\n",
    "birthVdeath.plot('DEATHS')\n",
    "\n",
    "# Set the y-axis limits\n",
    "plots.ylim(0, 1.5)\n"
   ]
  },
  {
   "cell_type": "markdown",
   "id": "dbdd8fc3",
   "metadata": {},
   "source": [
    "<!-- END QUESTION -->\n",
    "\n",
    "**Question 6.** True or False: There is an association between birth rate and death rate during this time interval. \n",
    "\n",
    "Assign `assoc` to `True` or `False` in the cell below. **(4 Points)**\n"
   ]
  },
  {
   "cell_type": "code",
   "execution_count": 57,
   "id": "479c38ec",
   "metadata": {
    "tags": []
   },
   "outputs": [],
   "source": [
    "assoc = True"
   ]
  },
  {
   "cell_type": "code",
   "execution_count": 58,
   "id": "6eb0ca7e",
   "metadata": {
    "deletable": false,
    "editable": false
   },
   "outputs": [
    {
     "data": {
      "text/html": [
       "<p><strong><pre style='display: inline;'>q2_6</pre></strong> passed! 🚀</p>"
      ],
      "text/plain": [
       "q2_6 results: All test cases passed!"
      ]
     },
     "execution_count": 58,
     "metadata": {},
     "output_type": "execute_result"
    }
   ],
   "source": [
    "grader.check(\"q2_6\")"
   ]
  },
  {
   "cell_type": "markdown",
   "id": "6090a98a",
   "metadata": {},
   "source": [
    "## 3. Uber"
   ]
  },
  {
   "cell_type": "markdown",
   "id": "367d8295",
   "metadata": {},
   "source": [
    "Below we load tables containing 200,000 weekday Uber rides in the Manila, Philippines, and Boston, Massachusetts metropolitan areas from the [Uber Movement](https://movement.uber.com) project. The `sourceid` and `dstid` columns contain codes corresponding to start and end locations of each ride. The `hod` column contains codes corresponding to the hour of the day the ride took place. The `ride time` column contains the length of the ride in minutes."
   ]
  },
  {
   "cell_type": "code",
   "execution_count": 59,
   "id": "a2322bb3",
   "metadata": {
    "for_question_type": "solution",
    "scrolled": true
   },
   "outputs": [
    {
     "name": "stdout",
     "output_type": "stream",
     "text": [
      "Boston Table\n"
     ]
    },
    {
     "data": {
      "text/html": [
       "<table border=\"1\" class=\"dataframe\">\n",
       "    <thead>\n",
       "        <tr>\n",
       "            <th>sourceid</th> <th>dstid</th> <th>hod</th> <th>ride time</th>\n",
       "        </tr>\n",
       "    </thead>\n",
       "    <tbody>\n",
       "        <tr>\n",
       "            <td>584     </td> <td>33   </td> <td>7   </td> <td>11.866   </td>\n",
       "        </tr>\n",
       "        <tr>\n",
       "            <td>1013    </td> <td>1116 </td> <td>13  </td> <td>17.7993  </td>\n",
       "        </tr>\n",
       "        <tr>\n",
       "            <td>884     </td> <td>1190 </td> <td>22  </td> <td>19.3488  </td>\n",
       "        </tr>\n",
       "        <tr>\n",
       "            <td>211     </td> <td>364  </td> <td>1   </td> <td>1.7235   </td>\n",
       "        </tr>\n",
       "    </tbody>\n",
       "</table>\n",
       "<p>... (199996 rows omitted)</p>"
      ],
      "text/plain": [
       "<IPython.core.display.HTML object>"
      ]
     },
     "metadata": {},
     "output_type": "display_data"
    },
    {
     "name": "stdout",
     "output_type": "stream",
     "text": [
      "Manila Table\n"
     ]
    },
    {
     "data": {
      "text/html": [
       "<table border=\"1\" class=\"dataframe\">\n",
       "    <thead>\n",
       "        <tr>\n",
       "            <th>sourceid</th> <th>dstid</th> <th>hod</th> <th>ride time</th>\n",
       "        </tr>\n",
       "    </thead>\n",
       "    <tbody>\n",
       "        <tr>\n",
       "            <td>544     </td> <td>5    </td> <td>22  </td> <td>22.8115  </td>\n",
       "        </tr>\n",
       "        <tr>\n",
       "            <td>302     </td> <td>240  </td> <td>21  </td> <td>7.02267  </td>\n",
       "        </tr>\n",
       "        <tr>\n",
       "            <td>278     </td> <td>99   </td> <td>16  </td> <td>21.6437  </td>\n",
       "        </tr>\n",
       "        <tr>\n",
       "            <td>720     </td> <td>775  </td> <td>18  </td> <td>13.0597  </td>\n",
       "        </tr>\n",
       "    </tbody>\n",
       "</table>\n",
       "<p>... (199996 rows omitted)</p>"
      ],
      "text/plain": [
       "<IPython.core.display.HTML object>"
      ]
     },
     "metadata": {},
     "output_type": "display_data"
    }
   ],
   "source": [
    "boston = Table.read_table(\"boston.csv\")\n",
    "manila = Table.read_table(\"manila.csv\")\n",
    "print(\"Boston Table\")\n",
    "boston.show(4)\n",
    "print(\"Manila Table\")\n",
    "manila.show(4)"
   ]
  },
  {
   "cell_type": "markdown",
   "id": "a5501619",
   "metadata": {},
   "source": [
    "<!-- BEGIN QUESTION -->\n",
    "\n",
    "**Question 1.** Produce a histogram that visualizes the distributions of all ride times in Boston using the given bins in `equal_bins`. **(4 Points)**\n"
   ]
  },
  {
   "cell_type": "code",
   "execution_count": 64,
   "id": "85a1df0b",
   "metadata": {
    "deletable": false,
    "manual_problem_id": "uber_1",
    "scrolled": true,
    "tags": []
   },
   "outputs": [
    {
     "data": {
      "text/plain": [
       "Text(0.5, 1.0, 'Distribution of Ride Times in Boston')"
      ]
     },
     "execution_count": 64,
     "metadata": {},
     "output_type": "execute_result"
    },
    {
     "data": {
      "image/png": "[encoded data removed]",
      "text/plain": [
       "<Figure size 640x480 with 1 Axes>"
      ]
     },
     "metadata": {},
     "output_type": "display_data"
    }
   ],
   "source": [
    "import matplotlib.pyplot as plt  \n",
    "\n",
    "equal_bins = np.arange(0, 120, 5)\n",
    "boston_ride_times = boston.column('ride time')\n",
    "\n",
    "plt.hist(boston_ride_times, bins=equal_bins, edgecolor='black')\n",
    "\n",
    "plt.xlabel('Ride Time (minutes)')\n",
    "plt.ylabel('Frequency')\n",
    "plt.title('Distribution of Ride Times in Boston')\n",
    "\n",
    "\n",
    "\n",
    "\n",
    "\n"
   ]
  },
  {
   "cell_type": "markdown",
   "id": "7f584dfa",
   "metadata": {},
   "source": [
    "<!-- END QUESTION -->\n",
    "\n",
    "<!-- BEGIN QUESTION -->\n",
    "\n",
    "**Question 2.** Now, produce a histogram that visualizes the distribution of all ride times in Manila using the given bins. **(4 Points)**\n"
   ]
  },
  {
   "cell_type": "code",
   "execution_count": 85,
   "id": "b4f57cc6",
   "metadata": {
    "scrolled": true,
    "tags": []
   },
   "outputs": [
    {
     "data": {
      "text/plain": [
       "(0.0, 0.05)"
      ]
     },
     "execution_count": 85,
     "metadata": {},
     "output_type": "execute_result"
    },
    {
     "data": {
      "image/png": "[encoded data removed]",
      "text/plain": [
       "<Figure size 640x480 with 1 Axes>"
      ]
     },
     "metadata": {},
     "output_type": "display_data"
    }
   ],
   "source": [
    "equal_bins = np.arange(0, 120, 5)\n",
    "manila_ride_times = manila.column('ride time')\n",
    "\n",
    "plt.hist(manila_ride_times, bins=equal_bins, edgecolor='black')\n",
    "\n",
    "plt.xlabel('Ride Time (minutes)')\n",
    "plt.ylabel('Frequency')\n",
    "plt.title('Distribution of Ride Times in Manila') \n",
    "\n",
    "# Don't delete the following line!\n",
    "plots.ylim(0, 0.05)\n"
   ]
  },
  {
   "cell_type": "markdown",
   "id": "b156c830",
   "metadata": {},
   "source": [
    "<!-- END QUESTION -->\n",
    "\n",
    "**Question 3.** Let's take a closer look at the y-axis label. Assign `unit_meaning` to an integer (1, 2, 3) that corresponds to the \"unit\" in \"Percent per unit\". **(4 Points)**\n",
    "\n",
    "1. minute  \n",
    "2. ride time  \n",
    "3. second\n"
   ]
  },
  {
   "cell_type": "code",
   "execution_count": 71,
   "id": "af282d56",
   "metadata": {
    "tags": []
   },
   "outputs": [
    {
     "data": {
      "text/plain": [
       "1"
      ]
     },
     "execution_count": 71,
     "metadata": {},
     "output_type": "execute_result"
    }
   ],
   "source": [
    "unit_meaning = 1\n",
    "unit_meaning"
   ]
  },
  {
   "cell_type": "code",
   "execution_count": 72,
   "id": "854db29c",
   "metadata": {
    "deletable": false,
    "editable": false
   },
   "outputs": [
    {
     "data": {
      "text/html": [
       "<p><strong><pre style='display: inline;'>q3_3</pre></strong> passed! 💯</p>"
      ],
      "text/plain": [
       "q3_3 results: All test cases passed!"
      ]
     },
     "execution_count": 72,
     "metadata": {},
     "output_type": "execute_result"
    }
   ],
   "source": [
    "grader.check(\"q3_3\")"
   ]
  },
  {
   "cell_type": "markdown",
   "id": "7f63da08",
   "metadata": {},
   "source": [
    "**Question 4.** Assign `boston_under_15` and `manila_under_15` to the percentage of rides that are less than 15 minutes in their respective metropolitan areas. Use the height variables provided below in order to compute the percentages. Your solution should only use height variables, numbers, and mathematical operations. You should **not** access the tables `boston` and `manila` in any way. **(4 Points)**\n"
   ]
  },
  {
   "cell_type": "code",
   "execution_count": 73,
   "id": "99ea818c",
   "metadata": {
    "deletable": false,
    "manual_problem_id": "uber_2",
    "tags": []
   },
   "outputs": [
    {
     "data": {
      "text/plain": [
       "(9.3, 4.2)"
      ]
     },
     "execution_count": 73,
     "metadata": {},
     "output_type": "execute_result"
    }
   ],
   "source": [
    "boston_under_5_height = 1.2\n",
    "manila_under_5_height = 0.6\n",
    "boston_5_to_under_10_height = 3.2\n",
    "manila_5_to_under_10_height = 1.4\n",
    "boston_10_to_under_15_height = 4.9\n",
    "manila_10_to_under_15_height = 2.2\n",
    "\n",
    "boston_under_15 = boston_under_5_height + boston_5_to_under_10_height + boston_10_to_under_15_height\n",
    "manila_under_15 = manila_under_5_height + manila_5_to_under_10_height + manila_10_to_under_15_height\n",
    "\n",
    "boston_under_15, manila_under_15"
   ]
  },
  {
   "cell_type": "code",
   "execution_count": 74,
   "id": "8edc89a1",
   "metadata": {
    "deletable": false,
    "editable": false
   },
   "outputs": [
    {
     "data": {
      "text/html": [
       "<p><strong><pre style='display: inline;'>q3_4</pre></strong> passed! 🌈</p>"
      ],
      "text/plain": [
       "q3_4 results: All test cases passed!"
      ]
     },
     "execution_count": 74,
     "metadata": {},
     "output_type": "execute_result"
    }
   ],
   "source": [
    "grader.check(\"q3_4\")"
   ]
  },
  {
   "cell_type": "markdown",
   "id": "9cc0235f",
   "metadata": {},
   "source": [
    "**Question 5.** Let's take a closer look at the distribution of ride times in Boston. Assign `boston_median_bin` to an integer (1, 2, 3, or 4) that corresponds to the bin that contains the median time. **(4 Points)**\n",
    "\n",
    "1. 0-8 minutes  \n",
    "2. 8-14 minutes  \n",
    "3. 14-20 minutes  \n",
    "4. 20-40 minutes  \n",
    "\n",
    "*Hint:* The median of a sorted list has half of the list elements to its left, and half to its right.\n"
   ]
  },
  {
   "cell_type": "code",
   "execution_count": 79,
   "id": "d9619c7a",
   "metadata": {
    "tags": []
   },
   "outputs": [
    {
     "data": {
      "text/plain": [
       "3"
      ]
     },
     "execution_count": 79,
     "metadata": {},
     "output_type": "execute_result"
    }
   ],
   "source": [
    "sortedTable = boston.sort('ride time', descending=True)\n",
    "num_rows = sortedTable.num_rows\n",
    "middle_index = num_rows // 2\n",
    "boston_median_bin = sortedTable.column('ride time')[middle_index]\n",
    "\n",
    "if 0 <= boston_median_bin < 8:\n",
    "    boston_median_bin = 1\n",
    "elif 8 <= boston_median_bin < 14:\n",
    "    boston_median_bin = 2\n",
    "elif 14 <= boston_median_bin < 20:\n",
    "    boston_median_bin = 3\n",
    "elif 20 <= boston_median_bin < 40:\n",
    "    boston_median_bin = 4\n",
    "else:\n",
    "    boston_median_bin = 0\n",
    "boston_median_bin"
   ]
  },
  {
   "cell_type": "code",
   "execution_count": 80,
   "id": "c044c509",
   "metadata": {
    "deletable": false,
    "editable": false
   },
   "outputs": [
    {
     "data": {
      "text/html": [
       "<p><strong><pre style='display: inline;'>q3_5</pre></strong> passed! 🙌</p>"
      ],
      "text/plain": [
       "q3_5 results: All test cases passed!"
      ]
     },
     "execution_count": 80,
     "metadata": {},
     "output_type": "execute_result"
    }
   ],
   "source": [
    "grader.check(\"q3_5\")"
   ]
  },
  {
   "cell_type": "markdown",
   "id": "b92e14c7",
   "metadata": {},
   "source": [
    "<!-- BEGIN QUESTION -->\n",
    "\n",
    "**Question 6.** Identify one difference between the histograms, in terms of the statistical properties. Can you comment on the average and/or skew of each histogram? **(4 Points)**\n",
    "\n",
    "*Hint*: The best way to do this is to compare the two histograms (from 3.1 and 3.2) visually.\n"
   ]
  },
  {
   "cell_type": "markdown",
   "id": "d9cec274",
   "metadata": {},
   "source": [
    "_Type your answer here, replacing this text._"
   ]
  },
  {
   "cell_type": "markdown",
   "id": "bb019a89",
   "metadata": {},
   "source": [
    "<!-- END QUESTION -->\n",
    "\n",
    "<!-- BEGIN QUESTION -->\n",
    "\n",
    "**Question 7.** Why is your solution in Question 6 the case? Based on one of the following two readings, why are the distributions for Boston and Manila different? **(4 Points)**\n",
    "\n",
    "- [Boston reading](https://www.climatestotravel.com/climate/united-states/boston)\n",
    "- [Manila reading](https://manilafyi.com/why-is-manila-traffic-so-bad/)\n",
    "\n",
    "*Hint:* Try thinking about external factors of the two cities that may be causing the difference! There may be multiple different factors that come into play.\n"
   ]
  },
  {
   "cell_type": "markdown",
   "id": "6fcbf58a",
   "metadata": {},
   "source": [
    "I'd assume that the heavy traffic in Manilla heavily influences this statistic, as well as the fact that they have quite tropical weather, meaning that generally, it's not too difficult for people to walk around. Meanwhile in Boston, the traffic isn't as crazy, but the weather, especially in the winter is much more intense."
   ]
  },
  {
   "cell_type": "markdown",
   "id": "e33a0afc",
   "metadata": {
    "tags": []
   },
   "source": [
    "<!-- END QUESTION -->\n",
    "\n",
    "## 4. Histograms"
   ]
  },
  {
   "cell_type": "markdown",
   "id": "aa1dbc4f",
   "metadata": {},
   "source": [
    "Consider the following scatter plot: \n",
    "\n",
    "![](scatter.png)\n",
    "\n",
    "The axes of the plot represent values of two variables: $x$ and $y$. "
   ]
  },
  {
   "cell_type": "markdown",
   "id": "4838c980",
   "metadata": {},
   "source": [
    "Suppose we have a table called `t` that has two columns in it:\n",
    "\n",
    "- `x`: a column containing the x-values of the points in the scatter plot\n",
    "- `y`: a column containing the y-values of the points in the scatter plot"
   ]
  },
  {
   "cell_type": "markdown",
   "id": "f5b35863",
   "metadata": {},
   "source": [
    "Below, you are given three histograms—one corresponds to column `x`, one corresponds to column `y`, and one does not correspond to either column. "
   ]
  },
  {
   "cell_type": "markdown",
   "id": "8911e7a0",
   "metadata": {},
   "source": [
    "**Histogram A:**\n",
    "\n",
    "![](var3.png)\n",
    "\n",
    "**Histogram B:**\n",
    "\n",
    "![](var1.png)\n",
    "\n",
    "**Histogram C:**\n",
    "\n",
    "![](var2.png)"
   ]
  },
  {
   "cell_type": "markdown",
   "id": "b00365d9",
   "metadata": {},
   "source": [
    "**Question 1.** Suppose we run `t.hist('x')`. Which histogram does this code produce? Assign `histogram_column_x` to either 1, 2, or 3. **(5 Points)**\n",
    "\n",
    "1. Histogram A\n",
    "2. Histogram B\n",
    "3. Histogram C\n"
   ]
  },
  {
   "cell_type": "code",
   "execution_count": 86,
   "id": "146fc246",
   "metadata": {
    "tags": []
   },
   "outputs": [],
   "source": [
    "histogram_column_x = 3"
   ]
  },
  {
   "cell_type": "code",
   "execution_count": 87,
   "id": "8866ebe3",
   "metadata": {
    "deletable": false,
    "editable": false
   },
   "outputs": [
    {
     "data": {
      "text/html": [
       "<p><strong><pre style='display: inline;'>q4_1</pre></strong> passed! 🙌</p>"
      ],
      "text/plain": [
       "q4_1 results: All test cases passed!"
      ]
     },
     "execution_count": 87,
     "metadata": {},
     "output_type": "execute_result"
    }
   ],
   "source": [
    "grader.check(\"q4_1\")"
   ]
  },
  {
   "cell_type": "markdown",
   "id": "3b3d9527",
   "metadata": {},
   "source": [
    "<!-- BEGIN QUESTION -->\n",
    "\n",
    "**Question 2.** State at least one reason why you chose the histogram from Question 1. **Make sure to clearly indicate which histogram you selected** (ex: \"I chose histogram A because ...\"). **(5 Points)**\n"
   ]
  },
  {
   "cell_type": "markdown",
   "id": "ca3b71ac",
   "metadata": {},
   "source": [
    "It best matched the scatter plot. In the left side of the plot, there was a higher density of dots, while as you went right, it thinned out. I chose C."
   ]
  },
  {
   "cell_type": "markdown",
   "id": "2b6d66eb",
   "metadata": {},
   "source": [
    "<!-- END QUESTION -->\n",
    "\n",
    "**Question 3.** Suppose we run `t.hist('y')`. Which histogram does this code produce? Assign `histogram_column_y` to either 1, 2, or 3. **(5 Points)**\n",
    "\n",
    "1. Histogram A\n",
    "2. Histogram B\n",
    "3. Histogram C\n"
   ]
  },
  {
   "cell_type": "code",
   "execution_count": null,
   "id": "8fe5b367",
   "metadata": {
    "tags": []
   },
   "outputs": [],
   "source": [
    "histogram_column_y = B"
   ]
  },
  {
   "cell_type": "code",
   "execution_count": null,
   "id": "7d49505a",
   "metadata": {
    "deletable": false,
    "editable": false
   },
   "outputs": [],
   "source": [
    "grader.check(\"q4_3\")"
   ]
  },
  {
   "cell_type": "markdown",
   "id": "26c2eb77",
   "metadata": {},
   "source": [
    "<!-- BEGIN QUESTION -->\n",
    "\n",
    "**Question 4.** State at least one reason why you chose the histogram from Question 3.  **Make sure to clearly indicate which histogram you selected** (ex: \"I chose histogram A because ...\"). **(5 Points)**\n"
   ]
  },
  {
   "cell_type": "markdown",
   "id": "8b76f3c5",
   "metadata": {},
   "source": [
    "I chose B mainly because of the fact that relative to y, there is a massive gap, which was only reflected in B."
   ]
  },
  {
   "cell_type": "markdown",
   "id": "cb0f8ae5",
   "metadata": {},
   "source": [
    "<!-- END QUESTION -->\n",
    "\n",
    "You're done with Homework 3!  \n",
    "\n",
    "**Important submission steps:** \n",
    "1. Run the tests and verify that they all pass.\n",
    "2. Choose **Save Notebook** from the **File** menu, then **run the final cell**. \n",
    "3. Click the link to download the zip file.\n",
    "4. Then submit the zip file to the corresponding assignment according to your instructor's directions. \n",
    "\n",
    "**It is your responsibility to make sure your work is saved before running the last cell.**"
   ]
  },
  {
   "cell_type": "markdown",
   "id": "56cb228f",
   "metadata": {
    "deletable": false,
    "editable": false
   },
   "source": [
    "## Submission\n",
    "\n",
    "Make sure you have run all cells in your notebook in order before running the cell below, so that all images/graphs appear in the output. The cell below will generate a zip file for you to submit. **Please save before exporting!**"
   ]
  },
  {
   "cell_type": "code",
   "execution_count": 88,
   "id": "0e00637b",
   "metadata": {
    "deletable": false,
    "editable": false
   },
   "outputs": [
    {
     "name": "stdout",
     "output_type": "stream",
     "text": [
      "Running your submission against local test cases...\n",
      "\n",
      "\n",
      "\n",
      "Your submission received the following results when run against available test cases:\n",
      "\n",
      "    q1_1 results: All test cases passed!\n",
      "\n",
      "    q1_2 results: All test cases passed!\n",
      "\n",
      "    q1_3 results: All test cases passed!\n",
      "\n",
      "    q1_4 results: All test cases passed!\n",
      "\n",
      "    q1_5 results: All test cases passed!\n",
      "\n",
      "    q1_6 results: All test cases passed!\n",
      "\n",
      "    q1_7 results: All test cases passed!\n",
      "\n",
      "    q2_1 results: All test cases passed!\n",
      "\n",
      "    q2_2 results:\n",
      "        q2_2 - 1 result:\n",
      "            ❌ Test case failed\n",
      "            Trying:\n",
      "                0 < movers <= 52\n",
      "            Expecting:\n",
      "                True\n",
      "            **********************************************************************\n",
      "            Line 1, in q2_2 0\n",
      "            Failed example:\n",
      "                0 < movers <= 52\n",
      "            Exception raised:\n",
      "                Traceback (most recent call last):\n",
      "                  File \"/opt/conda/lib/python3.10/doctest.py\", line 1350, in __run\n",
      "                    exec(compile(example.source, filename, \"single\",\n",
      "                  File \"<doctest q2_2 0[0]>\", line 1, in <module>\n",
      "                    0 < movers <= 52\n",
      "                NameError: name 'movers' is not defined\n",
      "\n",
      "    q2_3 results:\n",
      "        q2_3 - 1 result:\n",
      "            ❌ Test case failed\n",
      "            Trying:\n",
      "                5e5 < west_births < 1e6\n",
      "            Expecting:\n",
      "                True\n",
      "            **********************************************************************\n",
      "            Line 1, in q2_3 0\n",
      "            Failed example:\n",
      "                5e5 < west_births < 1e6\n",
      "            Exception raised:\n",
      "                Traceback (most recent call last):\n",
      "                  File \"/opt/conda/lib/python3.10/doctest.py\", line 1350, in __run\n",
      "                    exec(compile(example.source, filename, \"single\",\n",
      "                  File \"<doctest q2_3 0[0]>\", line 1, in <module>\n",
      "                    5e5 < west_births < 1e6\n",
      "                TypeError: '<' not supported between instances of 'float' and 'Table'\n",
      "\n",
      "    q2_4 results: All test cases passed!\n",
      "\n",
      "    q2_6 results: All test cases passed!\n",
      "\n",
      "    q3_3 results: All test cases passed!\n",
      "\n",
      "    q3_4 results: All test cases passed!\n",
      "\n",
      "    q3_5 results: All test cases passed!\n",
      "\n",
      "    q4_1 results: All test cases passed!\n",
      "\n",
      "    q4_3 results:\n",
      "        q4_3 - 1 result:\n",
      "            ❌ Test case failed\n",
      "            Trying:\n",
      "                type(histogram_column_y) == int\n",
      "            Expecting:\n",
      "                True\n",
      "            **********************************************************************\n",
      "            Line 2, in q4_3 0\n",
      "            Failed example:\n",
      "                type(histogram_column_y) == int\n",
      "            Exception raised:\n",
      "                Traceback (most recent call last):\n",
      "                  File \"/opt/conda/lib/python3.10/doctest.py\", line 1350, in __run\n",
      "                    exec(compile(example.source, filename, \"single\",\n",
      "                  File \"<doctest q4_3 0[0]>\", line 1, in <module>\n",
      "                    type(histogram_column_y) == int\n",
      "                NameError: name 'histogram_column_y' is not defined\n",
      "\n",
      "        q4_3 - 2 result:\n",
      "            ❌ Test case failed\n",
      "            Trying:\n",
      "                histogram_column_y == 1 or histogram_column_y == 2 or histogram_column_y == 3\n",
      "            Expecting:\n",
      "                True\n",
      "            **********************************************************************\n",
      "            Line 2, in q4_3 1\n",
      "            Failed example:\n",
      "                histogram_column_y == 1 or histogram_column_y == 2 or histogram_column_y == 3\n",
      "            Exception raised:\n",
      "                Traceback (most recent call last):\n",
      "                  File \"/opt/conda/lib/python3.10/doctest.py\", line 1350, in __run\n",
      "                    exec(compile(example.source, filename, \"single\",\n",
      "                  File \"<doctest q4_3 1[0]>\", line 1, in <module>\n",
      "                    histogram_column_y == 1 or histogram_column_y == 2 or histogram_column_y == 3\n",
      "                NameError: name 'histogram_column_y' is not defined\n"
     ]
    },
    {
     "data": {
      "text/html": [
       "\n",
       "            <p>Your submission has been exported. Click <a href=\"hw03_2023_09_21T05_23_22_743259.zip\" download=\"hw03_2023_09_21T05_23_22_743259.zip\" target=\"_blank\">here</a>\n",
       "            to download the zip file.</p>\n",
       "            "
      ],
      "text/plain": [
       "<IPython.core.display.HTML object>"
      ]
     },
     "metadata": {},
     "output_type": "display_data"
    }
   ],
   "source": [
    "# Save your notebook first, then run this cell to export your submission.\n",
    "grader.export(pdf=False, run_tests=True)"
   ]
  },
  {
   "cell_type": "markdown",
   "id": "bb04812d",
   "metadata": {},
   "source": [
    " "
   ]
  }
 ],
 "metadata": {
  "kernelspec": {
   "display_name": "Python 3 (ipykernel)",
   "language": "python",
   "name": "python3"
  },
  "language_info": {
   "codemirror_mode": {
    "name": "ipython",
    "version": 3
   },
   "file_extension": ".py",
   "mimetype": "text/x-python",
   "name": "python",
   "nbconvert_exporter": "python",
   "pygments_lexer": "ipython3",
   "version": "3.10.11"
  },
  "otter": {
   "OK_FORMAT": true,
   "tests": {
    "q1_1": {
     "name": "q1_1",
     "points": [
      4
     ],
     "suites": [
      {
       "cases": [
        {
         "code": ">>> unemployment.select('Date', 'NEI', 'NEI-PTER').take(0)\nDate       | NEI     | NEI-PTER\n1994-01-01 | 10.0974 | 11.172",
         "hidden": false,
         "locked": false
        }
       ],
       "scored": true,
       "setup": "",
       "teardown": "",
       "type": "doctest"
      }
     ]
    },
    "q1_2": {
     "name": "q1_2",
     "points": [
      2,
      2
     ],
     "suites": [
      {
       "cases": [
        {
         "code": ">>> by_nei.take(0)\nDate       | NEI     | NEI-PTER\n2009-10-01 | 10.9698 | 12.8557",
         "hidden": false,
         "locked": false
        },
        {
         "code": ">>> by_nei_pter.take(0)\nDate       | NEI     | NEI-PTER\n2009-10-01 | 10.9698 | 12.8557",
         "hidden": false,
         "locked": false
        }
       ],
       "scored": true,
       "setup": "",
       "teardown": "",
       "type": "doctest"
      }
     ]
    },
    "q1_3": {
     "name": "q1_3",
     "points": [
      2
     ],
     "suites": [
      {
       "cases": [
        {
         "code": ">>> greatest_nei.take(0)\nDate       | NEI     | NEI-PTER\n2009-10-01 | 10.9698 | 12.8557",
         "hidden": false,
         "locked": false
        }
       ],
       "scored": true,
       "setup": "",
       "teardown": "",
       "type": "doctest"
      }
     ]
    },
    "q1_4": {
     "name": "q1_4",
     "points": [
      1,
      3
     ],
     "suites": [
      {
       "cases": [
        {
         "code": ">>> # It looks like you subtracted in the wrong order.\n>>> round(pter.item(6), 4) != -1.1282\nTrue",
         "hidden": false,
         "locked": false
        },
        {
         "code": ">>> round(pter.item(6), 4)\n1.1282",
         "hidden": false,
         "locked": false
        }
       ],
       "scored": true,
       "setup": "",
       "teardown": "",
       "type": "doctest"
      }
     ]
    },
    "q1_5": {
     "name": "q1_5",
     "points": [
      4
     ],
     "suites": [
      {
       "cases": [
        {
         "code": ">>> by_pter.take(0)\nDate       | NEI     | NEI-PTER | PTER\n2009-07-01 | 10.8089 | 12.7404  | 1.9315",
         "hidden": false,
         "locked": false
        }
       ],
       "scored": true,
       "setup": "",
       "teardown": "",
       "type": "doctest"
      }
     ]
    },
    "q1_6": {
     "name": "q1_6",
     "points": [
      0
     ],
     "suites": [
      {
       "cases": [
        {
         "code": ">>> pter_over_time.take(0)\nDate       | NEI     | NEI-PTER | Year | PTER\n1994-01-01 | 10.0974 | 11.172   | 1994 | 1.0746",
         "hidden": false,
         "locked": false
        }
       ],
       "scored": true,
       "setup": "",
       "teardown": "",
       "type": "doctest"
      }
     ]
    },
    "q1_7": {
     "name": "q1_7",
     "points": [
      0
     ],
     "suites": [
      {
       "cases": [
        {
         "code": ">>> highPTER == True or highPTER == False\nTrue",
         "hidden": false,
         "locked": false
        }
       ],
       "scored": true,
       "setup": "",
       "teardown": "",
       "type": "doctest"
      }
     ]
    },
    "q2_1": {
     "name": "q2_1",
     "points": [
      0
     ],
     "suites": [
      {
       "cases": [
        {
         "code": ">>> 0 < us_birth_rate < 1\nTrue",
         "hidden": false,
         "locked": false
        }
       ],
       "scored": true,
       "setup": "",
       "teardown": "",
       "type": "doctest"
      }
     ]
    },
    "q2_2": {
     "name": "q2_2",
     "points": [
      0
     ],
     "suites": [
      {
       "cases": [
        {
         "code": ">>> 0 < movers <= 52\nTrue",
         "hidden": false,
         "locked": false
        }
       ],
       "scored": true,
       "setup": "",
       "teardown": "",
       "type": "doctest"
      }
     ]
    },
    "q2_3": {
     "name": "q2_3",
     "points": [
      0
     ],
     "suites": [
      {
       "cases": [
        {
         "code": ">>> 5e5 < west_births < 1e6\nTrue",
         "hidden": false,
         "locked": false
        }
       ],
       "scored": true,
       "setup": "",
       "teardown": "",
       "type": "doctest"
      }
     ]
    },
    "q2_4": {
     "name": "q2_4",
     "points": [
      0,
      0
     ],
     "suites": [
      {
       "cases": [
        {
         "code": ">>> # visualization should be assigned to an integer.\n>>> type(visualization) == int\nTrue",
         "hidden": false,
         "locked": false
        },
        {
         "code": ">>> # Make sure visualization is assigned to 1, 2 or 3.\n>>> 1 <= visualization <= 3\nTrue",
         "hidden": false,
         "locked": false
        }
       ],
       "scored": true,
       "setup": "",
       "teardown": "",
       "type": "doctest"
      }
     ]
    },
    "q2_6": {
     "name": "q2_6",
     "points": [
      0
     ],
     "suites": [
      {
       "cases": [
        {
         "code": ">>> type(assoc) is bool\nTrue",
         "hidden": false,
         "locked": false
        }
       ],
       "scored": true,
       "setup": "",
       "teardown": "",
       "type": "doctest"
      }
     ]
    },
    "q3_3": {
     "name": "q3_3",
     "points": [
      0
     ],
     "suites": [
      {
       "cases": [
        {
         "code": ">>> 1 <= unit_meaning <= 3\nTrue",
         "hidden": false,
         "locked": false
        }
       ],
       "scored": true,
       "setup": "",
       "teardown": "",
       "type": "doctest"
      }
     ]
    },
    "q3_4": {
     "name": "q3_4",
     "points": [
      0,
      0
     ],
     "suites": [
      {
       "cases": [
        {
         "code": ">>> boston_under_15 >= 0 and boston_under_15 <= 100\nTrue",
         "hidden": false,
         "locked": false
        },
        {
         "code": ">>> manila_under_15 >= 0 and manila_under_15 <= 100\nTrue",
         "hidden": false,
         "locked": false
        }
       ],
       "scored": true,
       "setup": "",
       "teardown": "",
       "type": "doctest"
      }
     ]
    },
    "q3_5": {
     "name": "q3_5",
     "points": [
      0
     ],
     "suites": [
      {
       "cases": [
        {
         "code": ">>> # Make sure boston_median_bin is assigned to 1, 2, 3, or 4.\n>>> 1 <= boston_median_bin <= 4\nTrue",
         "hidden": false,
         "locked": false
        }
       ],
       "scored": true,
       "setup": "",
       "teardown": "",
       "type": "doctest"
      }
     ]
    },
    "q4_1": {
     "name": "q4_1",
     "points": [
      0,
      1
     ],
     "suites": [
      {
       "cases": [
        {
         "code": ">>> # Make sure you assign histogram_column_x to either 1 or 2!\n>>> type(histogram_column_x) == int\nTrue",
         "hidden": false,
         "locked": false
        },
        {
         "code": ">>> histogram_column_x == 1 or histogram_column_x == 2 or histogram_column_x == 3\nTrue",
         "hidden": false,
         "locked": false
        }
       ],
       "scored": true,
       "setup": "",
       "teardown": "",
       "type": "doctest"
      }
     ]
    },
    "q4_3": {
     "name": "q4_3",
     "points": [
      0,
      1
     ],
     "suites": [
      {
       "cases": [
        {
         "code": ">>> # Make sure you assign histogram_column_y to either 1 or 2!\n>>> type(histogram_column_y) == int\nTrue",
         "hidden": false,
         "locked": false
        },
        {
         "code": ">>> # Make sure histogram_column_y is assigned to 1, 2 or 3.\n>>> histogram_column_y == 1 or histogram_column_y == 2 or histogram_column_y == 3\nTrue",
         "hidden": false,
         "locked": false
        }
       ],
       "scored": true,
       "setup": "",
       "teardown": "",
       "type": "doctest"
      }
     ]
    }
   }
  }
 },
 "nbformat": 4,
 "nbformat_minor": 5
}
