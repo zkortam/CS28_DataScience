{
 "cells": [
  {
   "cell_type": "code",
   "execution_count": 19,
   "id": "39a4dc50",
   "metadata": {
    "deletable": false,
    "editable": false
   },
   "outputs": [],
   "source": [
    "# Initialize Otter\n",
    "import otter\n",
    "grader = otter.Notebook(\"hw02.ipynb\")"
   ]
  },
  {
   "attachments": {},
   "cell_type": "markdown",
   "id": "4c1f5cae",
   "metadata": {},
   "source": [
    "# Homework 2: Arrays and Tables\n",
    "\n",
    "Please complete this notebook by filling in the cells provided. Before you begin, execute the previous cell to load the provided tests."
   ]
  },
  {
   "cell_type": "code",
   "execution_count": 20,
   "id": "6f5f14b7",
   "metadata": {},
   "outputs": [
    {
     "data": {
      "text/plain": [
       "<otter.check.notebook.Notebook at 0x7f62dcfc91e0>"
      ]
     },
     "execution_count": 20,
     "metadata": {},
     "output_type": "execute_result"
    }
   ],
   "source": [
    "# Run this cell and ignore the output. It is checking to see if you ran the first cell! \n",
    "# If you get a NameError, please run the cell at the very TOP of this notebook!\n",
    "\n",
    "grader"
   ]
  },
  {
   "attachments": {},
   "cell_type": "markdown",
   "id": "5049c064",
   "metadata": {},
   "source": [
    "**Helpful Resource:**\n",
    "- [Python Reference](http://data8.org/sp22/python-reference.html): Cheat sheet of helpful array & table methods used in Data 8!\n",
    "\n",
    "**Recommended Readings:**\n",
    "- [Arrays](https://inferentialthinking.com/chapters/05/1/Arrays.html)\n",
    "- [What is Data Science?](http://www.inferentialthinking.com/chapters/01/what-is-data-science.html)\n",
    "- [Causality and Experiments](http://www.inferentialthinking.com/chapters/02/causality-and-experiments.html) \n",
    "- [Programming in Python](http://www.inferentialthinking.com/chapters/03/programming-in-python.html)\n",
    "\n",
    "For all problems that you must write explanations and sentences for, you **must** provide your answer in the designated space. Moreover, throughout this homework and all future ones, **please be sure to not re-assign variables throughout the notebook!** For example, if you use `max_temperature` in your answer to one question, do not reassign it later on. Otherwise, you will fail tests that you thought you were passing previously!\n",
    "\n",
    "\n",
    "**Note: This homework has hidden tests on it. That means even though tests may say 100% passed, it doesn't mean your final grade will be 100%. We will be running more tests for correctness once everyone turns in the homework.**\n",
    "\n",
    "Directly sharing answers is not okay, but discussing problems with the course staff or with other students is encouraged. Refer to the policies page to learn more about how to learn cooperatively.\n",
    "\n",
    "You should start early so that you have time to get help if you're stuck."
   ]
  },
  {
   "attachments": {},
   "cell_type": "markdown",
   "id": "9dd57077",
   "metadata": {},
   "source": [
    "## 1. Creating Arrays"
   ]
  },
  {
   "cell_type": "code",
   "execution_count": 21,
   "id": "1ec1756a",
   "metadata": {},
   "outputs": [],
   "source": [
    "# Run this cell to set up the notebook, but please don't change it.\n",
    "\n",
    "import numpy as np\n",
    "from datascience import *\n",
    "import d8error\n",
    "import warnings\n",
    "warnings.simplefilter('ignore', FutureWarning)"
   ]
  },
  {
   "attachments": {},
   "cell_type": "markdown",
   "id": "1f17b715",
   "metadata": {},
   "source": [
    "**Question 1.** Make an array called `weird_numbers` containing the following numbers (in the given order) **(4 Points)**:\n",
    "\n",
    "1. -2\n",
    "2. the floor of 12.6\n",
    "3. 3\n",
    "4. 5 to the power of the ceil of 5.3\n",
    "\n",
    "*Hint:* `floor` and `ceil` are functions in the `math` module. Importing modules is covered in Lab 2!\n",
    "\n",
    "*Note:* Python lists are different/behave differently than NumPy arrays. In Data 8, we use NumPy arrays, so please make an **array**, not a Python list.\n"
   ]
  },
  {
   "cell_type": "code",
   "execution_count": 31,
   "id": "5c1de6dc",
   "metadata": {
    "tags": []
   },
   "outputs": [
    {
     "data": {
      "text/plain": [
       "[-2, 12, 3, 6]"
      ]
     },
     "execution_count": 31,
     "metadata": {},
     "output_type": "execute_result"
    }
   ],
   "source": [
    "# Our solution involved one extra line of code before creating\n",
    "# weird_numbers.\n",
    "\n",
    "from math import floor, ceil\n",
    "\n",
    "weird_numbers = [-2,floor(12.6),3,ceil(5.3)]\n",
    "weird_numbers"
   ]
  },
  {
   "cell_type": "code",
   "execution_count": 32,
   "id": "b57cb18a",
   "metadata": {
    "deletable": false,
    "editable": false
   },
   "outputs": [
    {
     "data": {
      "text/html": [
       "<p><strong style='color: red;'><pre style='display: inline;'>q1_1</pre> results:</strong></p><p><strong><pre style='display: inline;'>q1_1 - 1</pre> result:</strong></p><pre>    ❌ Test case failed\n",
       "    Trying:\n",
       "        import numpy as np\n",
       "    Expecting nothing\n",
       "    ok\n",
       "    Trying:\n",
       "        type(weird_numbers) == np.ndarray\n",
       "    Expecting:\n",
       "        True\n",
       "    **********************************************************************\n",
       "    Line 3, in q1_1 0\n",
       "    Failed example:\n",
       "        type(weird_numbers) == np.ndarray\n",
       "    Expected:\n",
       "        True\n",
       "    Got:\n",
       "        False\n",
       "</pre><p><strong><pre style='display: inline;'>q1_1 - 2</pre> result:</strong></p><pre>    ✅ Test case passed</pre>"
      ],
      "text/plain": [
       "q1_1 results:\n",
       "    q1_1 - 1 result:\n",
       "        ❌ Test case failed\n",
       "        Trying:\n",
       "            import numpy as np\n",
       "        Expecting nothing\n",
       "        ok\n",
       "        Trying:\n",
       "            type(weird_numbers) == np.ndarray\n",
       "        Expecting:\n",
       "            True\n",
       "        **********************************************************************\n",
       "        Line 3, in q1_1 0\n",
       "        Failed example:\n",
       "            type(weird_numbers) == np.ndarray\n",
       "        Expected:\n",
       "            True\n",
       "        Got:\n",
       "            False\n",
       "\n",
       "    q1_1 - 2 result:\n",
       "        ✅ Test case passed"
      ]
     },
     "execution_count": 32,
     "metadata": {},
     "output_type": "execute_result"
    }
   ],
   "source": [
    "grader.check(\"q1_1\")"
   ]
  },
  {
   "attachments": {},
   "cell_type": "markdown",
   "id": "b09f11d4",
   "metadata": {},
   "source": [
    "**Question 2.** Make an array called `book_title_words` containing the following three strings: \"Eats\", \"Shoots\", and \"and Leaves\". **(4 Points)**\n"
   ]
  },
  {
   "cell_type": "code",
   "execution_count": 47,
   "id": "e76fb65d",
   "metadata": {
    "tags": []
   },
   "outputs": [
    {
     "data": {
      "text/plain": [
       "['Eats', 'Shoots', 'and Leaves']"
      ]
     },
     "execution_count": 47,
     "metadata": {},
     "output_type": "execute_result"
    }
   ],
   "source": [
    "book_title_words = ['Eats','Shoots','and Leaves']\n",
    "book_title_words"
   ]
  },
  {
   "cell_type": "code",
   "execution_count": 49,
   "id": "18648a5d",
   "metadata": {
    "deletable": false,
    "editable": false
   },
   "outputs": [
    {
     "data": {
      "text/html": [
       "<p><strong style='color: red;'><pre style='display: inline;'>q1_2</pre> results:</strong></p><p><strong><pre style='display: inline;'>q1_2 - 1</pre> result:</strong></p><pre>    ❌ Test case failed\n",
       "    Trying:\n",
       "        import numpy as np\n",
       "    Expecting nothing\n",
       "    ok\n",
       "    Trying:\n",
       "        type(book_title_words) == np.ndarray\n",
       "    Expecting:\n",
       "        True\n",
       "    **********************************************************************\n",
       "    Line 3, in q1_2 0\n",
       "    Failed example:\n",
       "        type(book_title_words) == np.ndarray\n",
       "    Expected:\n",
       "        True\n",
       "    Got:\n",
       "        False\n",
       "</pre><p><strong><pre style='display: inline;'>q1_2 - 2</pre> result:</strong></p><pre>    ✅ Test case passed</pre><p><strong><pre style='display: inline;'>q1_2 - 3</pre> result:</strong></p><pre>    ❌ Test case failed\n",
       "    Trying:\n",
       "        'and ' in book_title_words.item(2)\n",
       "    Expecting:\n",
       "        True\n",
       "    **********************************************************************\n",
       "    Line 4, in q1_2 2\n",
       "    Failed example:\n",
       "        'and ' in book_title_words.item(2)\n",
       "    Exception raised:\n",
       "        Traceback (most recent call last):\n",
       "          File \"/opt/conda/lib/python3.10/doctest.py\", line 1350, in __run\n",
       "            exec(compile(example.source, filename, \"single\",\n",
       "          File \"<doctest q1_2 2[0]>\", line 1, in <module>\n",
       "            'and ' in book_title_words.item(2)\n",
       "        AttributeError: 'list' object has no attribute 'item'\n",
       "</pre><p><strong><pre style='display: inline;'>q1_2 - 4</pre> result:</strong></p><pre>    ✅ Test case passed</pre><p><strong><pre style='display: inline;'>q1_2 - 5</pre> result:</strong></p><pre>    ❌ Test case failed\n",
       "    Trying:\n",
       "        book_title_words.item(0) == 'Eats' and book_title_words.item(1) == 'Shoots' and book_title_words.item(2) == 'and Leaves'\n",
       "    Expecting:\n",
       "        True\n",
       "    **********************************************************************\n",
       "    Line 1, in q1_2 4\n",
       "    Failed example:\n",
       "        book_title_words.item(0) == 'Eats' and book_title_words.item(1) == 'Shoots' and book_title_words.item(2) == 'and Leaves'\n",
       "    Exception raised:\n",
       "        Traceback (most recent call last):\n",
       "          File \"/opt/conda/lib/python3.10/doctest.py\", line 1350, in __run\n",
       "            exec(compile(example.source, filename, \"single\",\n",
       "          File \"<doctest q1_2 4[0]>\", line 1, in <module>\n",
       "            book_title_words.item(0) == 'Eats' and book_title_words.item(1) == 'Shoots' and book_title_words.item(2) == 'and Leaves'\n",
       "        AttributeError: 'list' object has no attribute 'item'\n",
       "</pre>"
      ],
      "text/plain": [
       "q1_2 results:\n",
       "    q1_2 - 1 result:\n",
       "        ❌ Test case failed\n",
       "        Trying:\n",
       "            import numpy as np\n",
       "        Expecting nothing\n",
       "        ok\n",
       "        Trying:\n",
       "            type(book_title_words) == np.ndarray\n",
       "        Expecting:\n",
       "            True\n",
       "        **********************************************************************\n",
       "        Line 3, in q1_2 0\n",
       "        Failed example:\n",
       "            type(book_title_words) == np.ndarray\n",
       "        Expected:\n",
       "            True\n",
       "        Got:\n",
       "            False\n",
       "\n",
       "    q1_2 - 2 result:\n",
       "        ✅ Test case passed\n",
       "\n",
       "    q1_2 - 3 result:\n",
       "        ❌ Test case failed\n",
       "        Trying:\n",
       "            'and ' in book_title_words.item(2)\n",
       "        Expecting:\n",
       "            True\n",
       "        **********************************************************************\n",
       "        Line 4, in q1_2 2\n",
       "        Failed example:\n",
       "            'and ' in book_title_words.item(2)\n",
       "        Exception raised:\n",
       "            Traceback (most recent call last):\n",
       "              File \"/opt/conda/lib/python3.10/doctest.py\", line 1350, in __run\n",
       "                exec(compile(example.source, filename, \"single\",\n",
       "              File \"<doctest q1_2 2[0]>\", line 1, in <module>\n",
       "                'and ' in book_title_words.item(2)\n",
       "            AttributeError: 'list' object has no attribute 'item'\n",
       "\n",
       "    q1_2 - 4 result:\n",
       "        ✅ Test case passed\n",
       "\n",
       "    q1_2 - 5 result:\n",
       "        ❌ Test case failed\n",
       "        Trying:\n",
       "            book_title_words.item(0) == 'Eats' and book_title_words.item(1) == 'Shoots' and book_title_words.item(2) == 'and Leaves'\n",
       "        Expecting:\n",
       "            True\n",
       "        **********************************************************************\n",
       "        Line 1, in q1_2 4\n",
       "        Failed example:\n",
       "            book_title_words.item(0) == 'Eats' and book_title_words.item(1) == 'Shoots' and book_title_words.item(2) == 'and Leaves'\n",
       "        Exception raised:\n",
       "            Traceback (most recent call last):\n",
       "              File \"/opt/conda/lib/python3.10/doctest.py\", line 1350, in __run\n",
       "                exec(compile(example.source, filename, \"single\",\n",
       "              File \"<doctest q1_2 4[0]>\", line 1, in <module>\n",
       "                book_title_words.item(0) == 'Eats' and book_title_words.item(1) == 'Shoots' and book_title_words.item(2) == 'and Leaves'\n",
       "            AttributeError: 'list' object has no attribute 'item'"
      ]
     },
     "execution_count": 49,
     "metadata": {},
     "output_type": "execute_result"
    }
   ],
   "source": [
    "grader.check(\"q1_2\")"
   ]
  },
  {
   "attachments": {},
   "cell_type": "markdown",
   "id": "2aff6c5a",
   "metadata": {},
   "source": [
    "Strings have a method called `join`.  `join` takes one argument, an array of strings.  It returns a single string.  Specifically, the value of `a_string.join(an_array)` is a single string that's the [concatenation](https://en.wikipedia.org/wiki/Concatenation) (\"putting together\") of all the strings in `an_array`, **except** `a_string` is inserted in between each string.\n",
    "\n",
    "**Question 3.** Use the array `book_title_words` and the method `join` to make two strings **(4 Points)**:\n",
    "\n",
    "1. \"Eats, Shoots, and Leaves\" (call this one `with_commas`)\n",
    "2. \"Eats Shoots and Leaves\" (call this one `without_commas`)\n",
    "\n",
    "*Hint:* If you're not sure what `join` does, first try just calling, for example, `\"data8\".join(book_title_words)` .\n"
   ]
  },
  {
   "cell_type": "code",
   "execution_count": 44,
   "id": "c96c4b6a",
   "metadata": {
    "tags": []
   },
   "outputs": [
    {
     "name": "stdout",
     "output_type": "stream",
     "text": [
      "with_commas: Eats, Shoots, and Leaves\n",
      "without_commas: Eats Shoots and Leaves\n"
     ]
    }
   ],
   "source": [
    "with_commas = \"Eats, Shoots, and Leaves\"\n",
    "without_commas = \"Eats Shoots and Leaves\"\n",
    "\n",
    "\"with_commas:\".join(with_commas) # or +\n",
    "\"without_commas:\".join(without_commas) # or +\n",
    "\n",
    "# These lines are provided just to print out your answers.\n",
    "print('with_commas:', with_commas)\n",
    "print('without_commas:', without_commas)\n"
   ]
  },
  {
   "cell_type": "code",
   "execution_count": 45,
   "id": "0fbd2971",
   "metadata": {
    "deletable": false,
    "editable": false
   },
   "outputs": [
    {
     "data": {
      "text/html": [
       "<p><strong><pre style='display: inline;'>q1_3</pre></strong> passed! 🚀</p>"
      ],
      "text/plain": [
       "q1_3 results: All test cases passed!"
      ]
     },
     "execution_count": 45,
     "metadata": {},
     "output_type": "execute_result"
    }
   ],
   "source": [
    "grader.check(\"q1_3\")"
   ]
  },
  {
   "attachments": {},
   "cell_type": "markdown",
   "id": "12e374a7",
   "metadata": {},
   "source": [
    "## 2. Indexing Arrays"
   ]
  },
  {
   "attachments": {},
   "cell_type": "markdown",
   "id": "e306ddef",
   "metadata": {},
   "source": [
    "These exercises give you practice accessing individual elements of arrays.  In Python (and in many programming languages), each element is accessed by its *index*; for example, the first element is the element at index 0. Indices must be **integers**.\n",
    "\n",
    "***Note:* If you have previous coding experience, you may be familiar with bracket notation. DO NOT use bracket notation when indexing (i.e. `arr[0]`), as this can yield different data type outputs than what we will be expecting. This can cause you to fail an autograder test.**\n",
    "\n",
    "Be sure to refer to the [Python Reference](http://data8.org/sp22/python-reference.html) on the website if you feel stuck!"
   ]
  },
  {
   "attachments": {},
   "cell_type": "markdown",
   "id": "1d4a7f4e",
   "metadata": {},
   "source": [
    "**Question 1.** The cell below creates an array of some numbers.  Set `third_element` to the third element of `some_numbers`. **(4 Points)**\n"
   ]
  },
  {
   "cell_type": "code",
   "execution_count": 51,
   "id": "a097075d",
   "metadata": {
    "tags": []
   },
   "outputs": [
    {
     "data": {
      "text/plain": [
       "-6"
      ]
     },
     "execution_count": 51,
     "metadata": {},
     "output_type": "execute_result"
    }
   ],
   "source": [
    "some_numbers = make_array(-1, -3, -6, -10, -15)\n",
    "\n",
    "third_element = some_numbers[2]\n",
    "third_element"
   ]
  },
  {
   "cell_type": "code",
   "execution_count": 52,
   "id": "45de8ce8",
   "metadata": {
    "deletable": false,
    "editable": false
   },
   "outputs": [
    {
     "data": {
      "text/html": [
       "<p><strong><pre style='display: inline;'>q2_1</pre></strong> passed! 💯</p>"
      ],
      "text/plain": [
       "q2_1 results: All test cases passed!"
      ]
     },
     "execution_count": 52,
     "metadata": {},
     "output_type": "execute_result"
    }
   ],
   "source": [
    "grader.check(\"q2_1\")"
   ]
  },
  {
   "attachments": {},
   "cell_type": "markdown",
   "id": "4dcb7e8e",
   "metadata": {},
   "source": [
    "**Question 2.** The next cell creates a table that displays some information about the elements of `some_numbers` and their order.  Run the cell to see the partially-completed table, then fill in the missing information (the cells that say \"Ellipsis\") by assigning `blank_a`, `blank_b`, `blank_c`, and `blank_d` to the correct elements in the table. **(4 Points)**\n",
    "\n",
    "*Hint:* Replace the `...` with strings or numbers. As a reminder, indices should be **integers**.\n"
   ]
  },
  {
   "cell_type": "code",
   "execution_count": 56,
   "id": "5a1f670d",
   "metadata": {
    "for_assignment_type": "student",
    "tags": []
   },
   "outputs": [
    {
     "data": {
      "text/html": [
       "<table border=\"1\" class=\"dataframe\">\n",
       "    <thead>\n",
       "        <tr>\n",
       "            <th>English name for position</th> <th>Index</th> <th>Element</th>\n",
       "        </tr>\n",
       "    </thead>\n",
       "    <tbody>\n",
       "        <tr>\n",
       "            <td>first                    </td> <td>0    </td> <td>-1     </td>\n",
       "        </tr>\n",
       "        <tr>\n",
       "            <td>second                   </td> <td>1    </td> <td>-3     </td>\n",
       "        </tr>\n",
       "        <tr>\n",
       "            <td>third                    </td> <td>2    </td> <td>-6     </td>\n",
       "        </tr>\n",
       "        <tr>\n",
       "            <td>fourth                   </td> <td>3    </td> <td>-10    </td>\n",
       "        </tr>\n",
       "        <tr>\n",
       "            <td>fifth                    </td> <td>4    </td> <td>-15    </td>\n",
       "        </tr>\n",
       "    </tbody>\n",
       "</table>"
      ],
      "text/plain": [
       "English name for position | Index | Element\n",
       "first                     | 0     | -1\n",
       "second                    | 1     | -3\n",
       "third                     | 2     | -6\n",
       "fourth                    | 3     | -10\n",
       "fifth                     | 4     | -15"
      ]
     },
     "execution_count": 56,
     "metadata": {},
     "output_type": "execute_result"
    }
   ],
   "source": [
    "blank_a = \"third\"\n",
    "blank_b = \"fourth\"\n",
    "blank_c = 0\n",
    "blank_d = 3\n",
    "elements_of_some_numbers = Table().with_columns(\n",
    "    \"English name for position\", make_array(\"first\", \"second\", blank_a, blank_b, \"fifth\"),\n",
    "    \"Index\",                     make_array(blank_c, 1, 2, blank_d, 4),\n",
    "    \"Element\",                   some_numbers)\n",
    "elements_of_some_numbers"
   ]
  },
  {
   "cell_type": "code",
   "execution_count": 57,
   "id": "a7377491",
   "metadata": {
    "deletable": false,
    "editable": false
   },
   "outputs": [
    {
     "data": {
      "text/html": [
       "<p><strong><pre style='display: inline;'>q2_2</pre></strong> passed! 🌈</p>"
      ],
      "text/plain": [
       "q2_2 results: All test cases passed!"
      ]
     },
     "execution_count": 57,
     "metadata": {},
     "output_type": "execute_result"
    }
   ],
   "source": [
    "grader.check(\"q2_2\")"
   ]
  },
  {
   "attachments": {},
   "cell_type": "markdown",
   "id": "044d0ca4",
   "metadata": {},
   "source": [
    "**Question 3.** You'll sometimes want to find the **last** element of an array.  Suppose an array has 142 elements.  What is the index of its last element? **(4 Points)**\n"
   ]
  },
  {
   "cell_type": "code",
   "execution_count": 58,
   "id": "042402d7",
   "metadata": {
    "tags": []
   },
   "outputs": [],
   "source": [
    "index_of_last_element = 141"
   ]
  },
  {
   "cell_type": "code",
   "execution_count": 59,
   "id": "6f978d57",
   "metadata": {
    "deletable": false,
    "editable": false
   },
   "outputs": [
    {
     "data": {
      "text/html": [
       "<p><strong><pre style='display: inline;'>q2_3</pre></strong> passed! 🚀</p>"
      ],
      "text/plain": [
       "q2_3 results: All test cases passed!"
      ]
     },
     "execution_count": 59,
     "metadata": {},
     "output_type": "execute_result"
    }
   ],
   "source": [
    "grader.check(\"q2_3\")"
   ]
  },
  {
   "attachments": {},
   "cell_type": "markdown",
   "id": "3494f8b6",
   "metadata": {},
   "source": [
    "More often, you don't know the number of elements in an array, its *length*.  (For example, it might be a large dataset you found on the Internet.)  The function `len` takes a single argument, an array, and returns an integer that represents the `len`gth of that array.\n",
    "\n",
    "**Question 4.** The cell below loads an array called `president_birth_years`.  Calling `tbl.column(...)` on a table returns an array of the column specified, in this case the `Birth Year` column of the `president_births` table. The last element in that array is the most recent among the birth years of all the deceased Presidents. Assign that year to `most_recent_birth_year`. **(4 Points)**\n"
   ]
  },
  {
   "cell_type": "code",
   "execution_count": 65,
   "id": "5153a3ae",
   "metadata": {
    "tags": []
   },
   "outputs": [
    {
     "data": {
      "text/plain": [
       "1917"
      ]
     },
     "execution_count": 65,
     "metadata": {},
     "output_type": "execute_result"
    }
   ],
   "source": [
    "president_birth_years = Table.read_table(\"president_births.csv\").column('Birth Year')\n",
    "\n",
    "most_recent_birth_year = president_birth_years[-1]\n",
    "most_recent_birth_year"
   ]
  },
  {
   "cell_type": "code",
   "execution_count": null,
   "id": "7bf53cbc",
   "metadata": {
    "deletable": false,
    "editable": false
   },
   "outputs": [],
   "source": [
    "grader.check(\"q2_4\")"
   ]
  },
  {
   "attachments": {},
   "cell_type": "markdown",
   "id": "5ebe432d",
   "metadata": {},
   "source": [
    "**Question 5.** Finally, assign `min_of_birth_years` to the minimum of the first, sixteenth, and last birth years listed in `president_birth_years`. **(4 Points)**\n"
   ]
  },
  {
   "cell_type": "code",
   "execution_count": 66,
   "id": "23055696",
   "metadata": {
    "tags": []
   },
   "outputs": [
    {
     "data": {
      "text/plain": [
       "1732"
      ]
     },
     "execution_count": 66,
     "metadata": {},
     "output_type": "execute_result"
    }
   ],
   "source": [
    "min_of_birth_years = min(president_birth_years[0],president_birth_years[15],president_birth_years[-1])\n",
    "min_of_birth_years"
   ]
  },
  {
   "cell_type": "code",
   "execution_count": 67,
   "id": "547e0924",
   "metadata": {
    "deletable": false,
    "editable": false
   },
   "outputs": [
    {
     "data": {
      "text/html": [
       "<p><strong><pre style='display: inline;'>q2_5</pre></strong> passed! ✨</p>"
      ],
      "text/plain": [
       "q2_5 results: All test cases passed!"
      ]
     },
     "execution_count": 67,
     "metadata": {},
     "output_type": "execute_result"
    }
   ],
   "source": [
    "grader.check(\"q2_5\")"
   ]
  },
  {
   "attachments": {},
   "cell_type": "markdown",
   "id": "a0233df7",
   "metadata": {},
   "source": [
    "## 3. Basic Array Arithmetic"
   ]
  },
  {
   "attachments": {},
   "cell_type": "markdown",
   "id": "4cca8ca1",
   "metadata": {},
   "source": [
    "**Question 1.** Multiply the numbers 42, -4224, 424224242, and 250 by 157. Assign each variable below such that `first_product` is assigned to the result of $42 * 157$, `second_product` is assigned to the result of $-4224 * 157$, and so on. **(4 Points)**\n",
    "\n",
    "*Note*: For this question, **don't** use arrays.\n"
   ]
  },
  {
   "cell_type": "code",
   "execution_count": 68,
   "id": "2b978318",
   "metadata": {
    "tags": []
   },
   "outputs": [
    {
     "name": "stdout",
     "output_type": "stream",
     "text": [
      "First Product: 6594\n",
      "Second Product: -663168\n",
      "Third Product: 66603205994\n",
      "Fourth Product: 39250\n"
     ]
    }
   ],
   "source": [
    "first_product = 42*157\n",
    "second_product = -4224*157\n",
    "third_product =  424224242*157\n",
    "fourth_product = 250*157\n",
    "print(\"First Product:\", first_product)\n",
    "print(\"Second Product:\", second_product)\n",
    "print(\"Third Product:\", third_product)\n",
    "print(\"Fourth Product:\", fourth_product)"
   ]
  },
  {
   "cell_type": "code",
   "execution_count": 69,
   "id": "3224720d",
   "metadata": {
    "deletable": false,
    "editable": false
   },
   "outputs": [
    {
     "data": {
      "text/html": [
       "<p><strong><pre style='display: inline;'>q3_1</pre></strong> passed! 🌈</p>"
      ],
      "text/plain": [
       "q3_1 results: All test cases passed!"
      ]
     },
     "execution_count": 69,
     "metadata": {},
     "output_type": "execute_result"
    }
   ],
   "source": [
    "grader.check(\"q3_1\")"
   ]
  },
  {
   "attachments": {},
   "cell_type": "markdown",
   "id": "acedbb5d",
   "metadata": {},
   "source": [
    "**Question 2.** Now, do the same calculation, but using an array called `numbers` and only a single multiplication (`*`) operator.  Store the 4 results in an array named `products`. **(4 Points)**\n"
   ]
  },
  {
   "cell_type": "code",
   "execution_count": 73,
   "id": "8857b3ad",
   "metadata": {
    "tags": []
   },
   "outputs": [
    {
     "data": {
      "text/plain": [
       "[6594, -663168, 66603205994, 39250]"
      ]
     },
     "execution_count": 73,
     "metadata": {},
     "output_type": "execute_result"
    }
   ],
   "source": [
    "numbers = [42,-4224, 424224242, 250]\n",
    "products = [x * 157 for x in numbers]\n",
    "products"
   ]
  },
  {
   "cell_type": "code",
   "execution_count": null,
   "id": "072d57ca",
   "metadata": {
    "deletable": false,
    "editable": false
   },
   "outputs": [],
   "source": [
    "grader.check(\"q3_2\")"
   ]
  },
  {
   "attachments": {},
   "cell_type": "markdown",
   "id": "f5689cf9",
   "metadata": {},
   "source": [
    "**Question 3.** Oops, we made a typo!  Instead of 157, we wanted to multiply each number by 1577.  Compute the correct products in the cell below using array arithmetic.  Notice that your job is really easy if you previously defined an array containing the 4 numbers. **(4 Points)**\n"
   ]
  },
  {
   "cell_type": "code",
   "execution_count": 72,
   "id": "45f71631",
   "metadata": {
    "tags": []
   },
   "outputs": [
    {
     "data": {
      "text/plain": [
       "[66234, -6661248, 669001629634, 394250]"
      ]
     },
     "execution_count": 72,
     "metadata": {},
     "output_type": "execute_result"
    }
   ],
   "source": [
    "correct_products = [x * 1577 for x in numbers]\n",
    "correct_products"
   ]
  },
  {
   "cell_type": "code",
   "execution_count": null,
   "id": "bb06d123",
   "metadata": {
    "deletable": false,
    "editable": false
   },
   "outputs": [],
   "source": [
    "grader.check(\"q3_3\")"
   ]
  },
  {
   "attachments": {},
   "cell_type": "markdown",
   "id": "1a93d50e",
   "metadata": {},
   "source": [
    "**Question 4.** We've loaded an array of temperatures in the next cell.  Each number is the highest temperature observed on a day at a climate observation station, mostly from the US.  Since they're from the US government agency [NOAA](https://www.noaa.gov/), all the temperatures are in Fahrenheit.\n",
    "\n",
    "Convert all the temperatures to Celsius by first subtracting 32 from them, then multiplying the results by $\\frac{5}{9}$, i.e. $C = (F - 32) * \\frac{5}{9}$. After converting the temperatures to Celsius, make sure to **ROUND** the final result  to the nearest integer using the `np.round` function. **(4 Points)**\n"
   ]
  },
  {
   "cell_type": "code",
   "execution_count": 79,
   "id": "8650f535",
   "metadata": {
    "tags": []
   },
   "outputs": [
    {
     "data": {
      "text/plain": [
       "[-4.0,\n",
       " 31.0,\n",
       " 32.0,\n",
       " 36.0,\n",
       " 26.0,\n",
       " 33.0,\n",
       " 24.0,\n",
       " 29.0,\n",
       " 21.0,\n",
       " -14.0,\n",
       " 33.0,\n",
       " 9.0,\n",
       " -14.0,\n",
       " 24.0,\n",
       " 17.0,\n",
       " 7.0,\n",
       " 28.0,\n",
       " 24.0,\n",
       " 6.0,\n",
       " 23.0,\n",
       " 18.0,\n",
       " 13.0,\n",
       " 21.0,\n",
       " 28.0,\n",
       " 18.0,\n",
       " 41.0,\n",
       " 20.0,\n",
       " -8.0,\n",
       " 2.0,\n",
       " 4.0,\n",
       " 26.0,\n",
       " 34.0,\n",
       " 16.0,\n",
       " 8.0,\n",
       " -6.0,\n",
       " 17.0,\n",
       " 23.0,\n",
       " 19.0,\n",
       " 32.0,\n",
       " 0.0,\n",
       " 33.0,\n",
       " 7.0,\n",
       " 26.0,\n",
       " 26.0,\n",
       " 13.0,\n",
       " 21.0,\n",
       " 24.0,\n",
       " 35.0,\n",
       " 29.0,\n",
       " 30.0,\n",
       " 11.0,\n",
       " 9.0,\n",
       " 22.0,\n",
       " 11.0,\n",
       " 27.0,\n",
       " 8.0,\n",
       " 40.0,\n",
       " 35.0,\n",
       " 19.0,\n",
       " 29.0,\n",
       " 27.0,\n",
       " 17.0,\n",
       " 16.0,\n",
       " -1.0,\n",
       " 12.0,\n",
       " 32.0,\n",
       " -2.0,\n",
       " 13.0,\n",
       " -5.0,\n",
       " 21.0,\n",
       " 7.0,\n",
       " 15.0,\n",
       " -5.0,\n",
       " 14.0,\n",
       " 4.0,\n",
       " 19.0,\n",
       " 26.0,\n",
       " 21.0,\n",
       " -3.0,\n",
       " 34.0,\n",
       " 35.0,\n",
       " 21.0,\n",
       " 13.0,\n",
       " 14.0,\n",
       " 34.0,\n",
       " 29.0,\n",
       " 17.0,\n",
       " 27.0,\n",
       " 27.0,\n",
       " 30.0,\n",
       " 36.0,\n",
       " -4.0,\n",
       " 25.0,\n",
       " 30.0,\n",
       " 24.0,\n",
       " 19.0,\n",
       " 16.0,\n",
       " 30.0,\n",
       " 14.0,\n",
       " 28.0,\n",
       " 29.0,\n",
       " 22.0,\n",
       " 2.0,\n",
       " 33.0,\n",
       " 9.0,\n",
       " 29.0,\n",
       " 11.0,\n",
       " -8.0,\n",
       " 29.0,\n",
       " 26.0,\n",
       " 10.0,\n",
       " 22.0,\n",
       " 11.0,\n",
       " -2.0,\n",
       " 7.0,\n",
       " 23.0,\n",
       " 25.0,\n",
       " 7.0,\n",
       " 33.0,\n",
       " 13.0,\n",
       " 23.0,\n",
       " 21.0,\n",
       " 15.0,\n",
       " 25.0,\n",
       " 34.0,\n",
       " 1.0,\n",
       " 18.0,\n",
       " 27.0,\n",
       " 26.0,\n",
       " 13.0,\n",
       " 14.0,\n",
       " 12.0,\n",
       " 9.0,\n",
       " 39.0,\n",
       " 22.0,\n",
       " 33.0,\n",
       " 23.0,\n",
       " 16.0,\n",
       " 12.0,\n",
       " 9.0,\n",
       " 31.0,\n",
       " 22.0,\n",
       " 22.0,\n",
       " 3.0,\n",
       " 1.0,\n",
       " -2.0,\n",
       " 4.0,\n",
       " 37.0,\n",
       " 14.0,\n",
       " 29.0,\n",
       " 32.0,\n",
       " -5.0,\n",
       " 9.0,\n",
       " 25.0,\n",
       " 28.0,\n",
       " 17.0,\n",
       " -3.0,\n",
       " 28.0,\n",
       " 36.0,\n",
       " 32.0,\n",
       " 19.0,\n",
       " 18.0,\n",
       " 33.0,\n",
       " 19.0,\n",
       " 11.0,\n",
       " 25.0,\n",
       " 9.0,\n",
       " -6.0,\n",
       " 7.0,\n",
       " 21.0,\n",
       " 8.0,\n",
       " 26.0,\n",
       " 24.0,\n",
       " 24.0,\n",
       " 9.0,\n",
       " 31.0,\n",
       " 35.0,\n",
       " 24.0,\n",
       " 24.0,\n",
       " 29.0,\n",
       " 27.0,\n",
       " 29.0,\n",
       " 27.0,\n",
       " 13.0,\n",
       " 27.0,\n",
       " 0.0,\n",
       " 9.0,\n",
       " 28.0,\n",
       " 8.0,\n",
       " -4.0,\n",
       " 3.0,\n",
       " 22.0,\n",
       " 40.0,\n",
       " 8.0,\n",
       " 29.0,\n",
       " 30.0,\n",
       " -2.0,\n",
       " 8.0,\n",
       " 28.0,\n",
       " 14.0,\n",
       " 18.0,\n",
       " 24.0,\n",
       " 14.0,\n",
       " 11.0,\n",
       " 33.0,\n",
       " 10.0,\n",
       " 13.0,\n",
       " 27.0,\n",
       " 27.0,\n",
       " 26.0,\n",
       " 16.0,\n",
       " 17.0,\n",
       " 30.0,\n",
       " 36.0,\n",
       " 6.0,\n",
       " 22.0,\n",
       " 32.0,\n",
       " 17.0,\n",
       " 32.0,\n",
       " 29.0,\n",
       " 19.0,\n",
       " 4.0,\n",
       " 12.0,\n",
       " 8.0,\n",
       " 22.0,\n",
       " 29.0,\n",
       " -9.0,\n",
       " 22.0,\n",
       " 20.0,\n",
       " 21.0,\n",
       " 29.0,\n",
       " 22.0,\n",
       " 26.0,\n",
       " 29.0,\n",
       " 29.0,\n",
       " 15.0,\n",
       " 34.0,\n",
       " 16.0,\n",
       " 28.0,\n",
       " 31.0,\n",
       " 27.0,\n",
       " 23.0,\n",
       " 21.0,\n",
       " 31.0,\n",
       " 17.0,\n",
       " 16.0,\n",
       " 33.0,\n",
       " 34.0,\n",
       " 12.0,\n",
       " 32.0,\n",
       " 27.0,\n",
       " 18.0,\n",
       " 32.0,\n",
       " 19.0,\n",
       " 21.0,\n",
       " 17.0,\n",
       " 9.0,\n",
       " 3.0,\n",
       " 13.0,\n",
       " 10.0,\n",
       " 18.0,\n",
       " 22.0,\n",
       " 29.0,\n",
       " 34.0,\n",
       " 29.0,\n",
       " 16.0,\n",
       " 14.0,\n",
       " 18.0,\n",
       " 15.0,\n",
       " 32.0,\n",
       " 6.0,\n",
       " 32.0,\n",
       " 24.0,\n",
       " 16.0,\n",
       " 26.0,\n",
       " 23.0,\n",
       " 29.0,\n",
       " 34.0,\n",
       " 34.0,\n",
       " 11.0,\n",
       " 29.0,\n",
       " 27.0,\n",
       " 13.0,\n",
       " 19.0,\n",
       " 1.0,\n",
       " -7.0,\n",
       " -11.0,\n",
       " 30.0,\n",
       " 26.0,\n",
       " 16.0,\n",
       " 29.0,\n",
       " 24.0,\n",
       " 26.0,\n",
       " 29.0,\n",
       " 14.0,\n",
       " 17.0,\n",
       " 18.0,\n",
       " 36.0,\n",
       " 32.0,\n",
       " 27.0,\n",
       " 17.0,\n",
       " 18.0,\n",
       " 9.0,\n",
       " 33.0,\n",
       " 1.0,\n",
       " 22.0,\n",
       " 34.0,\n",
       " 24.0,\n",
       " 15.0,\n",
       " 20.0,\n",
       " 24.0,\n",
       " 34.0,\n",
       " 24.0,\n",
       " 14.0,\n",
       " 32.0,\n",
       " 32.0,\n",
       " 22.0,\n",
       " -9.0,\n",
       " 42.0,\n",
       " 16.0,\n",
       " 34.0,\n",
       " 31.0,\n",
       " 26.0,\n",
       " 12.0,\n",
       " -1.0,\n",
       " 32.0,\n",
       " 9.0,\n",
       " 29.0,\n",
       " 37.0,\n",
       " 4.0,\n",
       " 21.0,\n",
       " 11.0,\n",
       " 14.0,\n",
       " 34.0,\n",
       " -4.0,\n",
       " 26.0,\n",
       " 35.0,\n",
       " -3.0,\n",
       " -4.0,\n",
       " 38.0,\n",
       " 6.0,\n",
       " 32.0,\n",
       " 32.0,\n",
       " 36.0,\n",
       " 17.0,\n",
       " 34.0,\n",
       " 23.0,\n",
       " 12.0,\n",
       " 30.0,\n",
       " 23.0,\n",
       " -11.0,\n",
       " 34.0,\n",
       " 40.0,\n",
       " 2.0,\n",
       " 32.0,\n",
       " 26.0,\n",
       " 3.0,\n",
       " 14.0,\n",
       " -1.0,\n",
       " 36.0,\n",
       " 35.0,\n",
       " 36.0,\n",
       " 29.0,\n",
       " 24.0,\n",
       " 19.0,\n",
       " 23.0,\n",
       " 6.0,\n",
       " -5.0,\n",
       " 23.0,\n",
       " 18.0,\n",
       " 30.0,\n",
       " 3.0,\n",
       " 33.0,\n",
       " 29.0,\n",
       " 19.0,\n",
       " -6.0,\n",
       " 33.0,\n",
       " 23.0,\n",
       " 27.0,\n",
       " 22.0,\n",
       " 16.0,\n",
       " 7.0,\n",
       " -6.0,\n",
       " 23.0,\n",
       " 21.0,\n",
       " 13.0,\n",
       " 36.0,\n",
       " 18.0,\n",
       " 23.0,\n",
       " 26.0,\n",
       " 22.0,\n",
       " 26.0,\n",
       " 17.0,\n",
       " 27.0,\n",
       " 24.0,\n",
       " 11.0,\n",
       " 36.0,\n",
       " 7.0,\n",
       " 4.0,\n",
       " 4.0,\n",
       " 12.0,\n",
       " -11.0,\n",
       " 27.0,\n",
       " 12.0,\n",
       " 12.0,\n",
       " 3.0,\n",
       " 27.0,\n",
       " 32.0,\n",
       " 33.0,\n",
       " 19.0,\n",
       " 32.0,\n",
       " 14.0,\n",
       " 16.0,\n",
       " 1.0,\n",
       " 28.0,\n",
       " 18.0,\n",
       " -13.0,\n",
       " 26.0,\n",
       " 34.0,\n",
       " 17.0,\n",
       " 26.0,\n",
       " 28.0,\n",
       " 17.0,\n",
       " 26.0,\n",
       " 16.0,\n",
       " 4.0,\n",
       " 10.0,\n",
       " 25.0,\n",
       " 31.0,\n",
       " 19.0,\n",
       " -17.0,\n",
       " 13.0,\n",
       " 30.0,\n",
       " -4.0,\n",
       " 38.0,\n",
       " 32.0,\n",
       " 8.0,\n",
       " 2.0,\n",
       " 27.0,\n",
       " 9.0,\n",
       " 16.0,\n",
       " 18.0,\n",
       " 33.0,\n",
       " -6.0,\n",
       " 36.0,\n",
       " 19.0,\n",
       " 28.0,\n",
       " -2.0,\n",
       " -3.0,\n",
       " 18.0,\n",
       " 24.0,\n",
       " 36.0,\n",
       " 29.0,\n",
       " 14.0,\n",
       " 26.0,\n",
       " 20.0,\n",
       " 7.0,\n",
       " 34.0,\n",
       " 33.0,\n",
       " 23.0,\n",
       " 24.0,\n",
       " -3.0,\n",
       " 17.0,\n",
       " 33.0,\n",
       " 29.0,\n",
       " 7.0,\n",
       " 27.0,\n",
       " 27.0,\n",
       " 24.0,\n",
       " 16.0,\n",
       " 29.0,\n",
       " 29.0,\n",
       " 26.0,\n",
       " 23.0,\n",
       " 7.0,\n",
       " 23.0,\n",
       " 35.0,\n",
       " 24.0,\n",
       " 18.0,\n",
       " 27.0,\n",
       " 28.0,\n",
       " 14.0,\n",
       " 2.0,\n",
       " 34.0,\n",
       " 20.0,\n",
       " 36.0,\n",
       " 4.0,\n",
       " 21.0,\n",
       " 19.0,\n",
       " 33.0,\n",
       " 6.0,\n",
       " 25.0,\n",
       " 25.0,\n",
       " 23.0,\n",
       " 21.0,\n",
       " 28.0,\n",
       " 35.0,\n",
       " 21.0,\n",
       " -4.0,\n",
       " 30.0,\n",
       " 27.0,\n",
       " 36.0,\n",
       " 29.0,\n",
       " 17.0,\n",
       " 39.0,\n",
       " -5.0,\n",
       " 1.0,\n",
       " 31.0,\n",
       " 7.0,\n",
       " 11.0,\n",
       " 28.0,\n",
       " 17.0,\n",
       " 16.0,\n",
       " 16.0,\n",
       " 43.0,\n",
       " -10.0,\n",
       " -11.0,\n",
       " 23.0,\n",
       " 22.0,\n",
       " -8.0,\n",
       " 24.0,\n",
       " 9.0,\n",
       " 12.0,\n",
       " 24.0,\n",
       " 36.0,\n",
       " 35.0,\n",
       " 18.0,\n",
       " 12.0,\n",
       " 11.0,\n",
       " 21.0,\n",
       " 26.0,\n",
       " 31.0,\n",
       " 0.0,\n",
       " -22.0,\n",
       " -3.0,\n",
       " 36.0,\n",
       " 32.0,\n",
       " 18.0,\n",
       " 30.0,\n",
       " 15.0,\n",
       " 27.0,\n",
       " 17.0,\n",
       " 28.0,\n",
       " 25.0,\n",
       " 34.0,\n",
       " 14.0,\n",
       " 23.0,\n",
       " 26.0,\n",
       " 17.0,\n",
       " 10.0,\n",
       " 16.0,\n",
       " 37.0,\n",
       " 27.0,\n",
       " -1.0,\n",
       " 18.0,\n",
       " 24.0,\n",
       " 32.0,\n",
       " -3.0,\n",
       " 32.0,\n",
       " 37.0,\n",
       " 25.0,\n",
       " 23.0,\n",
       " 23.0,\n",
       " 23.0,\n",
       " 8.0,\n",
       " 17.0,\n",
       " 28.0,\n",
       " 22.0,\n",
       " 30.0,\n",
       " 22.0,\n",
       " 29.0,\n",
       " 33.0,\n",
       " 21.0,\n",
       " 31.0,\n",
       " 24.0,\n",
       " 31.0,\n",
       " 24.0,\n",
       " 22.0,\n",
       " 28.0,\n",
       " 31.0,\n",
       " 22.0,\n",
       " 2.0,\n",
       " 39.0,\n",
       " 21.0,\n",
       " 23.0,\n",
       " 27.0,\n",
       " 18.0,\n",
       " 17.0,\n",
       " 1.0,\n",
       " 26.0,\n",
       " 17.0,\n",
       " 36.0,\n",
       " 5.0,\n",
       " 17.0,\n",
       " 13.0,\n",
       " 15.0,\n",
       " 20.0,\n",
       " 30.0,\n",
       " 6.0,\n",
       " 0.0,\n",
       " 3.0,\n",
       " 31.0,\n",
       " 24.0,\n",
       " 30.0,\n",
       " 38.0,\n",
       " 13.0,\n",
       " 29.0,\n",
       " 4.0,\n",
       " 24.0,\n",
       " 32.0,\n",
       " 2.0,\n",
       " 36.0,\n",
       " 1.0,\n",
       " 19.0,\n",
       " 41.0,\n",
       " 4.0,\n",
       " 27.0,\n",
       " 32.0,\n",
       " 26.0,\n",
       " 29.0,\n",
       " 28.0,\n",
       " 7.0,\n",
       " 29.0,\n",
       " 1.0,\n",
       " 33.0,\n",
       " 28.0,\n",
       " 30.0,\n",
       " 29.0,\n",
       " 37.0,\n",
       " 6.0,\n",
       " 22.0,\n",
       " 36.0,\n",
       " 29.0,\n",
       " 25.0,\n",
       " 27.0,\n",
       " 13.0,\n",
       " 19.0,\n",
       " 29.0,\n",
       " 29.0,\n",
       " 19.0,\n",
       " 13.0,\n",
       " 12.0,\n",
       " 13.0,\n",
       " 31.0,\n",
       " 4.0,\n",
       " 20.0,\n",
       " 3.0,\n",
       " 16.0,\n",
       " 12.0,\n",
       " 23.0,\n",
       " 16.0,\n",
       " 14.0,\n",
       " 25.0,\n",
       " 32.0,\n",
       " 19.0,\n",
       " 14.0,\n",
       " 35.0,\n",
       " 8.0,\n",
       " -8.0,\n",
       " 13.0,\n",
       " 34.0,\n",
       " 22.0,\n",
       " 26.0,\n",
       " 29.0,\n",
       " -6.0,\n",
       " 27.0,\n",
       " 2.0,\n",
       " 17.0,\n",
       " 24.0,\n",
       " 23.0,\n",
       " 31.0,\n",
       " 19.0,\n",
       " 18.0,\n",
       " 4.0,\n",
       " 12.0,\n",
       " 11.0,\n",
       " 28.0,\n",
       " 38.0,\n",
       " 14.0,\n",
       " 18.0,\n",
       " 25.0,\n",
       " -15.0,\n",
       " -2.0,\n",
       " 24.0,\n",
       " -9.0,\n",
       " 33.0,\n",
       " 27.0,\n",
       " 25.0,\n",
       " 20.0,\n",
       " 11.0,\n",
       " 9.0,\n",
       " 29.0,\n",
       " 31.0,\n",
       " 24.0,\n",
       " 31.0,\n",
       " 0.0,\n",
       " 23.0,\n",
       " 16.0,\n",
       " 25.0,\n",
       " 16.0,\n",
       " -12.0,\n",
       " 10.0,\n",
       " 33.0,\n",
       " -4.0,\n",
       " 38.0,\n",
       " -4.0,\n",
       " 10.0,\n",
       " 15.0,\n",
       " 32.0,\n",
       " 19.0,\n",
       " 28.0,\n",
       " 22.0,\n",
       " 38.0,\n",
       " 21.0,\n",
       " 12.0,\n",
       " 1.0,\n",
       " 1.0,\n",
       " 7.0,\n",
       " 32.0,\n",
       " 9.0,\n",
       " 19.0,\n",
       " 27.0,\n",
       " 29.0,\n",
       " 17.0,\n",
       " 24.0,\n",
       " 7.0,\n",
       " -1.0,\n",
       " 29.0,\n",
       " 39.0,\n",
       " -10.0,\n",
       " 27.0,\n",
       " 4.0,\n",
       " 16.0,\n",
       " 31.0,\n",
       " 35.0,\n",
       " 21.0,\n",
       " 14.0,\n",
       " 24.0,\n",
       " 32.0,\n",
       " 28.0,\n",
       " 35.0,\n",
       " 21.0,\n",
       " 13.0,\n",
       " 20.0,\n",
       " 21.0,\n",
       " 6.0,\n",
       " 9.0,\n",
       " 31.0,\n",
       " 29.0,\n",
       " 19.0,\n",
       " 17.0,\n",
       " 26.0,\n",
       " 4.0,\n",
       " 31.0,\n",
       " 19.0,\n",
       " 39.0,\n",
       " 35.0,\n",
       " 15.0,\n",
       " 14.0,\n",
       " 12.0,\n",
       " 34.0,\n",
       " 18.0,\n",
       " 26.0,\n",
       " 32.0,\n",
       " 24.0,\n",
       " 32.0,\n",
       " 33.0,\n",
       " 29.0,\n",
       " 31.0,\n",
       " 22.0,\n",
       " 27.0,\n",
       " 29.0,\n",
       " 8.0,\n",
       " 19.0,\n",
       " 27.0,\n",
       " 27.0,\n",
       " 20.0,\n",
       " 29.0,\n",
       " 26.0,\n",
       " 16.0,\n",
       " 14.0,\n",
       " 29.0,\n",
       " 16.0,\n",
       " 23.0,\n",
       " 5.0,\n",
       " 8.0,\n",
       " 19.0,\n",
       " 10.0,\n",
       " 33.0,\n",
       " 26.0,\n",
       " -5.0,\n",
       " 11.0,\n",
       " 20.0,\n",
       " 13.0,\n",
       " 31.0,\n",
       " 23.0,\n",
       " 24.0,\n",
       " -13.0,\n",
       " 27.0,\n",
       " 24.0,\n",
       " 31.0,\n",
       " 4.0,\n",
       " 6.0,\n",
       " 21.0,\n",
       " 24.0,\n",
       " 3.0,\n",
       " 31.0,\n",
       " 26.0,\n",
       " 26.0,\n",
       " -17.0,\n",
       " 7.0,\n",
       " 0.0,\n",
       " 12.0,\n",
       " 29.0,\n",
       " 0.0,\n",
       " 23.0,\n",
       " 31.0,\n",
       " -6.0,\n",
       " 24.0,\n",
       " 3.0,\n",
       " 31.0,\n",
       " 22.0,\n",
       " 31.0,\n",
       " 25.0,\n",
       " 23.0,\n",
       " 31.0,\n",
       " 24.0,\n",
       " 38.0,\n",
       " 38.0,\n",
       " 27.0,\n",
       " 14.0,\n",
       " 27.0,\n",
       " 1.0,\n",
       " 35.0,\n",
       " 27.0,\n",
       " 28.0,\n",
       " 24.0,\n",
       " 33.0,\n",
       " -12.0,\n",
       " 13.0,\n",
       " 15.0,\n",
       " 33.0,\n",
       " 3.0,\n",
       " 33.0,\n",
       " 7.0,\n",
       " -3.0,\n",
       " 27.0,\n",
       " 33.0,\n",
       " 29.0,\n",
       " 28.0,\n",
       " 28.0,\n",
       " 11.0,\n",
       " 23.0,\n",
       " 27.0,\n",
       " 21.0,\n",
       " 3.0,\n",
       " 13.0,\n",
       " 7.0,\n",
       " 31.0,\n",
       " 19.0,\n",
       " 18.0,\n",
       " 18.0,\n",
       " 23.0,\n",
       " 14.0,\n",
       " 21.0,\n",
       " 19.0,\n",
       " 24.0,\n",
       " 35.0,\n",
       " 29.0,\n",
       " 21.0,\n",
       " 18.0,\n",
       " 35.0,\n",
       " 10.0,\n",
       " 1.0,\n",
       " 33.0,\n",
       " 4.0,\n",
       " 14.0,\n",
       " 31.0,\n",
       " 35.0,\n",
       " 18.0,\n",
       " 23.0,\n",
       " 25.0,\n",
       " -5.0,\n",
       " 31.0,\n",
       " 31.0,\n",
       " 26.0,\n",
       " 35.0,\n",
       " 3.0,\n",
       " 32.0,\n",
       " 29.0,\n",
       " 17.0,\n",
       " 28.0,\n",
       " 20.0,\n",
       " 16.0,\n",
       " 8.0,\n",
       " 4.0,\n",
       " 7.0,\n",
       " 14.0,\n",
       " 29.0,\n",
       " 23.0,\n",
       " 9.0,\n",
       " 19.0,\n",
       " 12.0,\n",
       " 29.0,\n",
       " 22.0,\n",
       " 11.0,\n",
       " 22.0,\n",
       " 28.0,\n",
       " 8.0,\n",
       " -1.0,\n",
       " 2.0,\n",
       " 37.0,\n",
       " 3.0,\n",
       " 30.0,\n",
       " 16.0,\n",
       " 19.0,\n",
       " 4.0,\n",
       " 24.0,\n",
       " 21.0,\n",
       " 35.0,\n",
       " 20.0,\n",
       " 23.0,\n",
       " 27.0,\n",
       " 31.0,\n",
       " 24.0,\n",
       " 1.0,\n",
       " 15.0,\n",
       " 29.0,\n",
       " 13.0,\n",
       " 16.0,\n",
       " 22.0,\n",
       " 5.0,\n",
       " 27.0,\n",
       " 31.0,\n",
       " 14.0,\n",
       " 22.0,\n",
       " 19.0,\n",
       " 24.0,\n",
       " 18.0,\n",
       " 15.0,\n",
       " 19.0,\n",
       " 14.0,\n",
       " 19.0,\n",
       " 13.0,\n",
       " 27.0,\n",
       " 27.0,\n",
       " 32.0,\n",
       " 36.0,\n",
       " -4.0,\n",
       " 5.0,\n",
       " 26.0,\n",
       " 12.0,\n",
       " 14.0,\n",
       " 37.0,\n",
       " 17.0,\n",
       " -4.0,\n",
       " 6.0,\n",
       " 3.0,\n",
       " 22.0,\n",
       " 2.0,\n",
       " 36.0,\n",
       " 21.0,\n",
       " 31.0,\n",
       " 30.0,\n",
       " 30.0,\n",
       " 12.0,\n",
       " 11.0,\n",
       " 37.0,\n",
       " 29.0,\n",
       " 28.0,\n",
       " 9.0,\n",
       " 33.0,\n",
       " 9.0,\n",
       " 19.0,\n",
       " 22.0,\n",
       " 15.0,\n",
       " 32.0,\n",
       " 21.0,\n",
       " 31.0,\n",
       " 33.0,\n",
       " 30.0,\n",
       " 26.0,\n",
       " 27.0,\n",
       " -1.0,\n",
       " 9.0,\n",
       " 22.0,\n",
       " 12.0,\n",
       " 13.0,\n",
       " -2.0,\n",
       " 37.0,\n",
       " 28.0,\n",
       " 25.0,\n",
       " 14.0,\n",
       " 16.0,\n",
       " 22.0,\n",
       " 30.0,\n",
       " 18.0,\n",
       " 12.0,\n",
       " -2.0,\n",
       " 28.0,\n",
       " ...]"
      ]
     },
     "execution_count": 79,
     "metadata": {},
     "output_type": "execute_result"
    }
   ],
   "source": [
    "max_temperatures = Table.read_table(\"temperatures.csv\").column(\"Daily Max Temperature\")\n",
    "\n",
    "celsius_max_temperatures = [float(round((x-32)*(5/9))) for x in max_temperatures]\n",
    "celsius_max_temperatures"
   ]
  },
  {
   "cell_type": "code",
   "execution_count": 80,
   "id": "01d5d924",
   "metadata": {
    "deletable": false,
    "editable": false
   },
   "outputs": [
    {
     "data": {
      "text/html": [
       "<p><strong style='color: red;'><pre style='display: inline;'>q3_4</pre> results:</strong></p><p><strong><pre style='display: inline;'>q3_4 - 1</pre> result:</strong></p><pre>    ✅ Test case passed</pre><p><strong><pre style='display: inline;'>q3_4 - 2</pre> result:</strong></p><pre>    ✅ Test case passed</pre><p><strong><pre style='display: inline;'>q3_4 - 3</pre> result:</strong></p><pre>    ✅ Test case passed</pre><p><strong><pre style='display: inline;'>q3_4 - 4</pre> result:</strong></p><pre>    ❌ Test case failed\n",
       "    Trying:\n",
       "        celsius_max_temperatures.item(2003)\n",
       "    Expecting:\n",
       "        20.0\n",
       "    **********************************************************************\n",
       "    Line 1, in q3_4 3\n",
       "    Failed example:\n",
       "        celsius_max_temperatures.item(2003)\n",
       "    Exception raised:\n",
       "        Traceback (most recent call last):\n",
       "          File \"/opt/conda/lib/python3.10/doctest.py\", line 1350, in __run\n",
       "            exec(compile(example.source, filename, \"single\",\n",
       "          File \"<doctest q3_4 3[0]>\", line 1, in <module>\n",
       "            celsius_max_temperatures.item(2003)\n",
       "        AttributeError: 'list' object has no attribute 'item'\n",
       "</pre>"
      ],
      "text/plain": [
       "q3_4 results:\n",
       "    q3_4 - 1 result:\n",
       "        ✅ Test case passed\n",
       "\n",
       "    q3_4 - 2 result:\n",
       "        ✅ Test case passed\n",
       "\n",
       "    q3_4 - 3 result:\n",
       "        ✅ Test case passed\n",
       "\n",
       "    q3_4 - 4 result:\n",
       "        ❌ Test case failed\n",
       "        Trying:\n",
       "            celsius_max_temperatures.item(2003)\n",
       "        Expecting:\n",
       "            20.0\n",
       "        **********************************************************************\n",
       "        Line 1, in q3_4 3\n",
       "        Failed example:\n",
       "            celsius_max_temperatures.item(2003)\n",
       "        Exception raised:\n",
       "            Traceback (most recent call last):\n",
       "              File \"/opt/conda/lib/python3.10/doctest.py\", line 1350, in __run\n",
       "                exec(compile(example.source, filename, \"single\",\n",
       "              File \"<doctest q3_4 3[0]>\", line 1, in <module>\n",
       "                celsius_max_temperatures.item(2003)\n",
       "            AttributeError: 'list' object has no attribute 'item'"
      ]
     },
     "execution_count": 80,
     "metadata": {},
     "output_type": "execute_result"
    }
   ],
   "source": [
    "grader.check(\"q3_4\")"
   ]
  },
  {
   "attachments": {},
   "cell_type": "markdown",
   "id": "a2dcc37b",
   "metadata": {},
   "source": [
    "**Question 5.** The cell below loads all the *lowest* temperatures from each day (in Fahrenheit).  Compute the daily temperature range for each day. That is, compute the difference between each daily maximum temperature and the corresponding daily minimum temperature.  **Pay attention to the units and give your answer in Celsius!** Make sure **NOT** to round your answer for this question! **(4 Points)**\n",
    "\n",
    "*Note:* Remember that in Question 4, `celsius_max_temperatures` was rounded, so you might not want to use that variable in this question.\n",
    "\n"
   ]
  },
  {
   "cell_type": "code",
   "execution_count": null,
   "id": "fb288a39",
   "metadata": {
    "tags": []
   },
   "outputs": [],
   "source": [
    "min_temperatures = Table.read_table(\"temperatures.csv\").column(\"Daily Min Temperature\")\n",
    "\n",
    "celsius_temperature_ranges = max(min_temperatures) - min(min_temperatures)\n",
    "celsius_temperature_ranges"
   ]
  },
  {
   "cell_type": "code",
   "execution_count": null,
   "id": "f7eae232",
   "metadata": {
    "deletable": false,
    "editable": false
   },
   "outputs": [],
   "source": [
    "grader.check(\"q3_5\")"
   ]
  },
  {
   "attachments": {},
   "cell_type": "markdown",
   "id": "2660f41b",
   "metadata": {},
   "source": [
    "## 4. Old Faithful"
   ]
  },
  {
   "attachments": {},
   "cell_type": "markdown",
   "id": "8334d108",
   "metadata": {},
   "source": [
    "Old Faithful is a geyser in Yellowstone that erupts every 44 to 125 minutes (according to [Wikipedia](https://en.wikipedia.org/wiki/Old_Faithful)). People are [often told that the geyser erupts every hour](http://yellowstone.net/geysers/old-faithful/), but in fact the waiting time between eruptions is more variable. Let's take a look."
   ]
  },
  {
   "attachments": {},
   "cell_type": "markdown",
   "id": "f66acbbd",
   "metadata": {},
   "source": [
    "**Question 1.** The first line below assigns `waiting_times` to an array of 272 consecutive waiting times between eruptions, taken from a classic 1938 dataset. Assign the names `shortest`, `longest`, and `average` so that the `print` statement is correct. **(4 Points)**\n"
   ]
  },
  {
   "cell_type": "code",
   "execution_count": 87,
   "id": "0319d011",
   "metadata": {
    "tags": []
   },
   "outputs": [
    {
     "name": "stdout",
     "output_type": "stream",
     "text": [
      "Old Faithful erupts every 43 to 96 minutes and every 70.8970588235 minutes on average.\n"
     ]
    }
   ],
   "source": [
    "waiting_times = Table.read_table('old_faithful.csv').column('waiting')\n",
    "\n",
    "shortest = min(waiting_times)\n",
    "longest = max(waiting_times)\n",
    "average = sum(waiting_times)/len(waiting_times)\n",
    "\n",
    "print(\"Old Faithful erupts every\", shortest, \"to\", longest, \"minutes and every\", average, \"minutes on average.\")"
   ]
  },
  {
   "cell_type": "code",
   "execution_count": null,
   "id": "8214ac50",
   "metadata": {
    "deletable": false,
    "editable": false
   },
   "outputs": [],
   "source": [
    "grader.check(\"q4_1\")"
   ]
  },
  {
   "attachments": {},
   "cell_type": "markdown",
   "id": "3bebcd16",
   "metadata": {},
   "source": [
    "**Question 2.** Assign `biggest_decrease` to the biggest decrease in waiting time between two consecutive eruptions. For example, the third eruption occurred after 74 minutes and the fourth after 62 minutes, so the decrease in waiting time was 74 - 62 = 12 minutes. **(4 Points)**\n",
    "\n",
    "*Hint*: We want to return the absolute value of the biggest decrease.\n",
    "\n",
    "*Note*: `np.diff()` calculates the difference between subsequent values in an array. For example, calling `np.diff()` on the array `make_array(1, 8, 3, 5)` evaluates to `array([8 - 1, 3 - 8, 5 - 3])`, or `array([7, -5, 2])`.\n"
   ]
  },
  {
   "cell_type": "code",
   "execution_count": 88,
   "id": "5ab82ef9",
   "metadata": {
    "tags": []
   },
   "outputs": [
    {
     "data": {
      "text/plain": [
       "47"
      ]
     },
     "execution_count": 88,
     "metadata": {},
     "output_type": "execute_result"
    }
   ],
   "source": [
    "# np.diff() calculates the difference between subsequent values  \n",
    "# in a NumPy array.\n",
    "differences = np.diff(waiting_times)\n",
    "biggest_decrease = max(differences)\n",
    "biggest_decrease"
   ]
  },
  {
   "cell_type": "code",
   "execution_count": 89,
   "id": "a5749b9b",
   "metadata": {
    "deletable": false,
    "editable": false
   },
   "outputs": [
    {
     "data": {
      "text/html": [
       "<p><strong style='color: red;'><pre style='display: inline;'>q4_2</pre> results:</strong></p><p><strong><pre style='display: inline;'>q4_2 - 1</pre> result:</strong></p><pre>    ❌ Test case failed\n",
       "    Trying:\n",
       "        biggest_decrease == 47\n",
       "    Expecting:\n",
       "        False\n",
       "    **********************************************************************\n",
       "    Line 3, in q4_2 0\n",
       "    Failed example:\n",
       "        biggest_decrease == 47\n",
       "    Expected:\n",
       "        False\n",
       "    Got:\n",
       "        True\n",
       "</pre><p><strong><pre style='display: inline;'>q4_2 - 2</pre> result:</strong></p><pre>    ❌ Test case failed\n",
       "    Trying:\n",
       "        30 <= biggest_decrease < 47\n",
       "    Expecting:\n",
       "        True\n",
       "    **********************************************************************\n",
       "    Line 2, in q4_2 1\n",
       "    Failed example:\n",
       "        30 <= biggest_decrease < 47\n",
       "    Expected:\n",
       "        True\n",
       "    Got:\n",
       "        False\n",
       "</pre>"
      ],
      "text/plain": [
       "q4_2 results:\n",
       "    q4_2 - 1 result:\n",
       "        ❌ Test case failed\n",
       "        Trying:\n",
       "            biggest_decrease == 47\n",
       "        Expecting:\n",
       "            False\n",
       "        **********************************************************************\n",
       "        Line 3, in q4_2 0\n",
       "        Failed example:\n",
       "            biggest_decrease == 47\n",
       "        Expected:\n",
       "            False\n",
       "        Got:\n",
       "            True\n",
       "\n",
       "    q4_2 - 2 result:\n",
       "        ❌ Test case failed\n",
       "        Trying:\n",
       "            30 <= biggest_decrease < 47\n",
       "        Expecting:\n",
       "            True\n",
       "        **********************************************************************\n",
       "        Line 2, in q4_2 1\n",
       "        Failed example:\n",
       "            30 <= biggest_decrease < 47\n",
       "        Expected:\n",
       "            True\n",
       "        Got:\n",
       "            False"
      ]
     },
     "execution_count": 89,
     "metadata": {},
     "output_type": "execute_result"
    }
   ],
   "source": [
    "grader.check(\"q4_2\")"
   ]
  },
  {
   "attachments": {},
   "cell_type": "markdown",
   "id": "4599a1f8",
   "metadata": {},
   "source": [
    "**Question 3.** The `faithful_with_eruption_nums` table contains two columns: `eruption_number`, which represents the number of that eruption, and `waiting`, which represents the time spent waiting after that eruption. For example, take the first two rows of the table:\n",
    "\n",
    "| eruption number | waiting |\n",
    "|-----------------|---------|\n",
    "| 1               | 79      |\n",
    "| 2               | 54      |\n",
    "\n",
    "We can read this as follows: after the first eruption, we waited 79 minutes for the second eruption. Then, after the second eruption, we waited 54 minutes for the third eruption.\n",
    "\n",
    "Suppose Oscar and Wendy started watching Old Faithful at the start of the first eruption. Assume that they watch until the end of the tenth eruption. For some of that time they will be watching eruptions, and for the rest of the time they will be waiting for Old Faithful to erupt. How many minutes will they spend waiting for eruptions? **(4 Points)**\n",
    "\n",
    "*Hint #1:* One way to approach this problem is to use the `take` or `where` method on the table `faithful_with_eruption_nums`. \n",
    "\n",
    "*Hint #2:* `first_nine_waiting_times` must be an array.\n"
   ]
  },
  {
   "cell_type": "code",
   "execution_count": null,
   "id": "f0e36e53",
   "metadata": {
    "tags": []
   },
   "outputs": [],
   "source": [
    "# The following two lines load in our faithful_with_eruption_nums table\n",
    "faithful = Table.read_table('old_faithful.csv').drop(\"eruptions\")\n",
    "faithful_with_eruption_nums = faithful.with_column(\"eruption number\", np.arange(faithful.num_rows) + 1).select(1, 0)\n",
    "\n",
    "first_nine_waiting_times = ...\n",
    "total_waiting_time_until_tenth = ...\n",
    "total_waiting_time_until_tenth"
   ]
  },
  {
   "cell_type": "code",
   "execution_count": null,
   "id": "4278cd9e",
   "metadata": {
    "deletable": false,
    "editable": false
   },
   "outputs": [],
   "source": [
    "grader.check(\"q4_3\")"
   ]
  },
  {
   "attachments": {},
   "cell_type": "markdown",
   "id": "5cc2c5cd",
   "metadata": {},
   "source": [
    "**Question 4.** Let’s imagine your guess for the next waiting time was always just the length of the previous waiting time. If you always guessed the previous waiting time, how big would your error in guessing the waiting times be, on average? **(4 Points)**\n",
    "\n",
    "For example, since the first four waiting times are 79, 54, 74, and 62, the average difference between your guess and the actual time for just the second, third, and fourth eruptions would be $\\frac{|79-54|+ |54-74|+ |74-62|}{3} = 19$.\n"
   ]
  },
  {
   "cell_type": "code",
   "execution_count": null,
   "id": "98d38471",
   "metadata": {
    "tags": []
   },
   "outputs": [],
   "source": [
    "differences = np.diff(waiting_times)\n",
    "average_error = ...\n",
    "average_error"
   ]
  },
  {
   "cell_type": "code",
   "execution_count": null,
   "id": "8f7e8392",
   "metadata": {
    "deletable": false,
    "editable": false
   },
   "outputs": [],
   "source": [
    "grader.check(\"q4_4\")"
   ]
  },
  {
   "attachments": {},
   "cell_type": "markdown",
   "id": "81b5d300",
   "metadata": {},
   "source": [
    "## 5. Tables"
   ]
  },
  {
   "attachments": {},
   "cell_type": "markdown",
   "id": "f85fd653",
   "metadata": {},
   "source": [
    "**Question 1.** Suppose you have 4 apples, 3 oranges, and 3 pineapples.  (Perhaps you're using Python to solve a high school Algebra problem.)  Create a table that contains this information.  It should have two columns: `fruit name` and `count`.  Assign the new table to the variable `fruits`. **(4 Points)**\n",
    "\n",
    "*Note:* Use lower-case and singular words for the name of each fruit, like `\"apple\"`.\n"
   ]
  },
  {
   "cell_type": "code",
   "execution_count": 94,
   "id": "2b8d0be8",
   "metadata": {
    "tags": []
   },
   "outputs": [
    {
     "data": {
      "text/html": [
       "<table border=\"1\" class=\"dataframe\">\n",
       "    <thead>\n",
       "        <tr>\n",
       "            <th>Fruit name</th> <th>Count</th>\n",
       "        </tr>\n",
       "    </thead>\n",
       "    <tbody>\n",
       "        <tr>\n",
       "            <td>Apples    </td> <td>4    </td>\n",
       "        </tr>\n",
       "        <tr>\n",
       "            <td>Oranges   </td> <td>3    </td>\n",
       "        </tr>\n",
       "        <tr>\n",
       "            <td>Pineapples</td> <td>3    </td>\n",
       "        </tr>\n",
       "    </tbody>\n",
       "</table>"
      ],
      "text/plain": [
       "Fruit name | Count\n",
       "Apples     | 4\n",
       "Oranges    | 3\n",
       "Pineapples | 3"
      ]
     },
     "execution_count": 94,
     "metadata": {},
     "output_type": "execute_result"
    }
   ],
   "source": [
    "fruits = Table().with_columns(\n",
    "    \"Fruit name\", make_array(\"Apples\", \"Oranges\", \"Pineapples\"),\n",
    "    \"Count\", make_array(4, 3, 3)\n",
    ")\n",
    "fruits\n"
   ]
  },
  {
   "cell_type": "code",
   "execution_count": 95,
   "id": "2fe0f2ab",
   "metadata": {
    "deletable": false,
    "editable": false
   },
   "outputs": [
    {
     "data": {
      "text/html": [
       "<p><strong style='color: red;'><pre style='display: inline;'>q5_1</pre> results:</strong></p><p><strong><pre style='display: inline;'>q5_1 - 1</pre> result:</strong></p><pre>    ❌ Test case failed\n",
       "    Trying:\n",
       "        fruits.sort(0)\n",
       "    Expecting:\n",
       "        fruit name | count\n",
       "        apple      | 4\n",
       "        orange     | 3\n",
       "        pineapple  | 3\n",
       "    **********************************************************************\n",
       "    Line 1, in q5_1 0\n",
       "    Failed example:\n",
       "        fruits.sort(0)\n",
       "    Expected:\n",
       "        fruit name | count\n",
       "        apple      | 4\n",
       "        orange     | 3\n",
       "        pineapple  | 3\n",
       "    Got:\n",
       "        Fruit name | Count\n",
       "        Apples     | 4\n",
       "        Oranges    | 3\n",
       "        Pineapples | 3\n",
       "</pre>"
      ],
      "text/plain": [
       "q5_1 results:\n",
       "    q5_1 - 1 result:\n",
       "        ❌ Test case failed\n",
       "        Trying:\n",
       "            fruits.sort(0)\n",
       "        Expecting:\n",
       "            fruit name | count\n",
       "            apple      | 4\n",
       "            orange     | 3\n",
       "            pineapple  | 3\n",
       "        **********************************************************************\n",
       "        Line 1, in q5_1 0\n",
       "        Failed example:\n",
       "            fruits.sort(0)\n",
       "        Expected:\n",
       "            fruit name | count\n",
       "            apple      | 4\n",
       "            orange     | 3\n",
       "            pineapple  | 3\n",
       "        Got:\n",
       "            Fruit name | Count\n",
       "            Apples     | 4\n",
       "            Oranges    | 3\n",
       "            Pineapples | 3"
      ]
     },
     "execution_count": 95,
     "metadata": {},
     "output_type": "execute_result"
    }
   ],
   "source": [
    "grader.check(\"q5_1\")"
   ]
  },
  {
   "attachments": {},
   "cell_type": "markdown",
   "id": "5a05f433",
   "metadata": {},
   "source": [
    "**Question 2.** The file `inventory.csv` contains information about the inventory at a fruit stand.  Each row represents the contents of one box of fruit. Load it as a table named `inventory` using the `Table.read_table()` function. `Table.read_table(...)` takes one argument (data file name in string format) and returns a table. **(4 Points)**\n"
   ]
  },
  {
   "cell_type": "code",
   "execution_count": 97,
   "id": "d0c43f41",
   "metadata": {
    "tags": []
   },
   "outputs": [
    {
     "data": {
      "text/html": [
       "<table border=\"1\" class=\"dataframe\">\n",
       "    <thead>\n",
       "        <tr>\n",
       "            <th>box ID</th> <th>fruit name</th> <th>count</th>\n",
       "        </tr>\n",
       "    </thead>\n",
       "    <tbody>\n",
       "        <tr>\n",
       "            <td>53686 </td> <td>kiwi      </td> <td>45   </td>\n",
       "        </tr>\n",
       "        <tr>\n",
       "            <td>57181 </td> <td>strawberry</td> <td>123  </td>\n",
       "        </tr>\n",
       "        <tr>\n",
       "            <td>25274 </td> <td>apple     </td> <td>20   </td>\n",
       "        </tr>\n",
       "        <tr>\n",
       "            <td>48800 </td> <td>orange    </td> <td>35   </td>\n",
       "        </tr>\n",
       "        <tr>\n",
       "            <td>26187 </td> <td>strawberry</td> <td>255  </td>\n",
       "        </tr>\n",
       "        <tr>\n",
       "            <td>57930 </td> <td>grape     </td> <td>517  </td>\n",
       "        </tr>\n",
       "        <tr>\n",
       "            <td>52357 </td> <td>strawberry</td> <td>102  </td>\n",
       "        </tr>\n",
       "        <tr>\n",
       "            <td>43566 </td> <td>peach     </td> <td>40   </td>\n",
       "        </tr>\n",
       "    </tbody>\n",
       "</table>"
      ],
      "text/plain": [
       "box ID | fruit name | count\n",
       "53686  | kiwi       | 45\n",
       "57181  | strawberry | 123\n",
       "25274  | apple      | 20\n",
       "48800  | orange     | 35\n",
       "26187  | strawberry | 255\n",
       "57930  | grape      | 517\n",
       "52357  | strawberry | 102\n",
       "43566  | peach      | 40"
      ]
     },
     "execution_count": 97,
     "metadata": {},
     "output_type": "execute_result"
    }
   ],
   "source": [
    "inventory = Table.read_table(\"inventory.csv\")\n",
    "inventory"
   ]
  },
  {
   "cell_type": "code",
   "execution_count": 98,
   "id": "a884e286",
   "metadata": {
    "deletable": false,
    "editable": false
   },
   "outputs": [
    {
     "data": {
      "text/html": [
       "<p><strong><pre style='display: inline;'>q5_2</pre></strong> passed! 🌟</p>"
      ],
      "text/plain": [
       "q5_2 results: All test cases passed!"
      ]
     },
     "execution_count": 98,
     "metadata": {},
     "output_type": "execute_result"
    }
   ],
   "source": [
    "grader.check(\"q5_2\")"
   ]
  },
  {
   "attachments": {},
   "cell_type": "markdown",
   "id": "3860df84",
   "metadata": {},
   "source": [
    "**Question 3.** Does each box at the fruit stand contain a different fruit? Set `all_different` to `True` if each box contains a different fruit or to `False` if multiple boxes contain the same fruit. **(4 Points)**\n",
    "\n",
    "*Hint:* You don't have to write code to calculate the True/False value for `all_different`. Just look at the `inventory` table and assign `all_different` to either `True` or `False` according to what you can see from the table in answering the question.\n"
   ]
  },
  {
   "cell_type": "code",
   "execution_count": 99,
   "id": "f250ebd7",
   "metadata": {
    "tags": []
   },
   "outputs": [
    {
     "data": {
      "text/plain": [
       "False"
      ]
     },
     "execution_count": 99,
     "metadata": {},
     "output_type": "execute_result"
    }
   ],
   "source": [
    "all_different = False\n",
    "all_different"
   ]
  },
  {
   "cell_type": "code",
   "execution_count": 100,
   "id": "ea588b84",
   "metadata": {
    "deletable": false,
    "editable": false
   },
   "outputs": [
    {
     "data": {
      "text/html": [
       "<p><strong><pre style='display: inline;'>q5_3</pre></strong> passed! 💯</p>"
      ],
      "text/plain": [
       "q5_3 results: All test cases passed!"
      ]
     },
     "execution_count": 100,
     "metadata": {},
     "output_type": "execute_result"
    }
   ],
   "source": [
    "grader.check(\"q5_3\")"
   ]
  },
  {
   "attachments": {},
   "cell_type": "markdown",
   "id": "cb72955a",
   "metadata": {},
   "source": [
    "**Question 4.** The file `sales.csv` contains the number of fruit sold from each box last Saturday.  It has an extra column called `price per fruit ($)` that's the price *per item of fruit* for fruit in that box.  The rows are in the same order as the `inventory` table.  Load these data into a table called `sales`. **(5 Points)**\n"
   ]
  },
  {
   "cell_type": "code",
   "execution_count": 104,
   "id": "ac4f49e4",
   "metadata": {
    "tags": []
   },
   "outputs": [
    {
     "data": {
      "text/html": [
       "<table border=\"1\" class=\"dataframe\">\n",
       "    <thead>\n",
       "        <tr>\n",
       "            <th>box ID</th> <th>fruit name</th> <th>count sold</th> <th>price per fruit ($)</th>\n",
       "        </tr>\n",
       "    </thead>\n",
       "    <tbody>\n",
       "        <tr>\n",
       "            <td>53686 </td> <td>kiwi      </td> <td>3         </td> <td>0.5                </td>\n",
       "        </tr>\n",
       "        <tr>\n",
       "            <td>57181 </td> <td>strawberry</td> <td>101       </td> <td>0.2                </td>\n",
       "        </tr>\n",
       "        <tr>\n",
       "            <td>25274 </td> <td>apple     </td> <td>0         </td> <td>0.8                </td>\n",
       "        </tr>\n",
       "        <tr>\n",
       "            <td>48800 </td> <td>orange    </td> <td>35        </td> <td>0.6                </td>\n",
       "        </tr>\n",
       "        <tr>\n",
       "            <td>26187 </td> <td>strawberry</td> <td>25        </td> <td>0.15               </td>\n",
       "        </tr>\n",
       "        <tr>\n",
       "            <td>57930 </td> <td>grape     </td> <td>355       </td> <td>0.06               </td>\n",
       "        </tr>\n",
       "        <tr>\n",
       "            <td>52357 </td> <td>strawberry</td> <td>102       </td> <td>0.25               </td>\n",
       "        </tr>\n",
       "        <tr>\n",
       "            <td>43566 </td> <td>peach     </td> <td>17        </td> <td>0.8                </td>\n",
       "        </tr>\n",
       "    </tbody>\n",
       "</table>"
      ],
      "text/plain": [
       "box ID | fruit name | count sold | price per fruit ($)\n",
       "53686  | kiwi       | 3          | 0.5\n",
       "57181  | strawberry | 101        | 0.2\n",
       "25274  | apple      | 0          | 0.8\n",
       "48800  | orange     | 35         | 0.6\n",
       "26187  | strawberry | 25         | 0.15\n",
       "57930  | grape      | 355        | 0.06\n",
       "52357  | strawberry | 102        | 0.25\n",
       "43566  | peach      | 17         | 0.8"
      ]
     },
     "execution_count": 104,
     "metadata": {},
     "output_type": "execute_result"
    }
   ],
   "source": [
    "sales = Table.read_table('sales.csv')\n",
    "sales"
   ]
  },
  {
   "cell_type": "code",
   "execution_count": 105,
   "id": "56d716cb",
   "metadata": {
    "deletable": false,
    "editable": false
   },
   "outputs": [
    {
     "data": {
      "text/html": [
       "<p><strong><pre style='display: inline;'>q5_4</pre></strong> passed! 🍀</p>"
      ],
      "text/plain": [
       "q5_4 results: All test cases passed!"
      ]
     },
     "execution_count": 105,
     "metadata": {},
     "output_type": "execute_result"
    }
   ],
   "source": [
    "grader.check(\"q5_4\")"
   ]
  },
  {
   "attachments": {},
   "cell_type": "markdown",
   "id": "0f723d9c",
   "metadata": {},
   "source": [
    "**Question 5.** How many fruits did the store sell in total on that day? **(5 Points)**\n"
   ]
  },
  {
   "cell_type": "code",
   "execution_count": 111,
   "id": "0e7574c5",
   "metadata": {
    "tags": []
   },
   "outputs": [
    {
     "data": {
      "text/plain": [
       "638"
      ]
     },
     "execution_count": 111,
     "metadata": {},
     "output_type": "execute_result"
    }
   ],
   "source": [
    "fr = Table.read_table('sales.csv').column(\"count sold\")\n",
    "sales\n",
    "total_fruits_sold = sum(fr)\n",
    "total_fruits_sold"
   ]
  },
  {
   "cell_type": "code",
   "execution_count": 112,
   "id": "ea7c5da5",
   "metadata": {
    "deletable": false,
    "editable": false
   },
   "outputs": [
    {
     "data": {
      "text/html": [
       "<p><strong><pre style='display: inline;'>q5_5</pre></strong> passed! 💯</p>"
      ],
      "text/plain": [
       "q5_5 results: All test cases passed!"
      ]
     },
     "execution_count": 112,
     "metadata": {},
     "output_type": "execute_result"
    }
   ],
   "source": [
    "grader.check(\"q5_5\")"
   ]
  },
  {
   "attachments": {},
   "cell_type": "markdown",
   "id": "58f1bd60",
   "metadata": {},
   "source": [
    "**Question 6.** What was the store's total revenue (the total price of all fruits sold) on that day? **(5 Points)**\n",
    "\n",
    "*Hint:* If you're stuck, think first about how you would compute the total revenue from just the grape sales.\n"
   ]
  },
  {
   "cell_type": "code",
   "execution_count": 129,
   "id": "61fd132c",
   "metadata": {
    "tags": []
   },
   "outputs": [
    {
     "data": {
      "text/plain": [
       "106.85"
      ]
     },
     "execution_count": 129,
     "metadata": {},
     "output_type": "execute_result"
    }
   ],
   "source": [
    "sales = Table.read_table('sales.csv')\n",
    "\n",
    "cs = sales.column(\"count sold\")\n",
    "ppf = sales.column(\"price per fruit ($)\")\n",
    "\n",
    "total_fruits_sold = sum(cs)\n",
    "total_revenue = sum(cs * ppf)\n",
    "total_revenue = float(total_revenue)\n",
    "\n",
    "total_revenue\n"
   ]
  },
  {
   "cell_type": "code",
   "execution_count": 130,
   "id": "2951de20",
   "metadata": {
    "deletable": false,
    "editable": false
   },
   "outputs": [
    {
     "data": {
      "text/html": [
       "<p><strong><pre style='display: inline;'>q5_6</pre></strong> passed! 🎉</p>"
      ],
      "text/plain": [
       "q5_6 results: All test cases passed!"
      ]
     },
     "execution_count": 130,
     "metadata": {},
     "output_type": "execute_result"
    }
   ],
   "source": [
    "grader.check(\"q5_6\")"
   ]
  },
  {
   "attachments": {},
   "cell_type": "markdown",
   "id": "4d357263",
   "metadata": {},
   "source": [
    "**Question 7.** Make a new table called `remaining_inventory`.  It should have the same rows and columns as `inventory`, except that the amount of fruit sold from each box should be subtracted from that box's **original** count, so that the `count` column is **updated to be** the amount of fruit remaining after Saturday. **(5 Points)**\n"
   ]
  },
  {
   "cell_type": "code",
   "execution_count": 139,
   "id": "0c8fe185",
   "metadata": {
    "tags": []
   },
   "outputs": [
    {
     "data": {
      "text/html": [
       "<table border=\"1\" class=\"dataframe\">\n",
       "    <thead>\n",
       "        <tr>\n",
       "            <th>box ID</th> <th>fruit name</th> <th>count</th>\n",
       "        </tr>\n",
       "    </thead>\n",
       "    <tbody>\n",
       "        <tr>\n",
       "            <td>53686 </td> <td>kiwi      </td> <td>42   </td>\n",
       "        </tr>\n",
       "        <tr>\n",
       "            <td>57181 </td> <td>strawberry</td> <td>22   </td>\n",
       "        </tr>\n",
       "        <tr>\n",
       "            <td>25274 </td> <td>apple     </td> <td>20   </td>\n",
       "        </tr>\n",
       "        <tr>\n",
       "            <td>48800 </td> <td>orange    </td> <td>0    </td>\n",
       "        </tr>\n",
       "        <tr>\n",
       "            <td>26187 </td> <td>strawberry</td> <td>230  </td>\n",
       "        </tr>\n",
       "        <tr>\n",
       "            <td>57930 </td> <td>grape     </td> <td>162  </td>\n",
       "        </tr>\n",
       "        <tr>\n",
       "            <td>52357 </td> <td>strawberry</td> <td>0    </td>\n",
       "        </tr>\n",
       "        <tr>\n",
       "            <td>43566 </td> <td>peach     </td> <td>23   </td>\n",
       "        </tr>\n",
       "    </tbody>\n",
       "</table>"
      ],
      "text/plain": [
       "<IPython.core.display.HTML object>"
      ]
     },
     "metadata": {},
     "output_type": "display_data"
    }
   ],
   "source": [
    "inventory_table = Table.read_table(\"inventory.csv\")\n",
    "inventory = inventory_table.column(\"count\")\n",
    "sales = Table.read_table(\"sales.csv\").column(\"count sold\")\n",
    "remaining_inventory = inventory - sales\n",
    "inventory_table = inventory_table.with_column(\"count\", remaining_inventory)\n",
    "inventory_table.show()\n"
   ]
  },
  {
   "cell_type": "code",
   "execution_count": 140,
   "id": "7f252b8d",
   "metadata": {
    "deletable": false,
    "editable": false
   },
   "outputs": [
    {
     "data": {
      "text/html": [
       "<p><strong style='color: red;'><pre style='display: inline;'>q5_7</pre> results:</strong></p><p><strong><pre style='display: inline;'>q5_7 - 1</pre> result:</strong></p><pre>    ❌ Test case failed\n",
       "    Trying:\n",
       "        remaining_inventory.num_columns\n",
       "    Expecting:\n",
       "        3\n",
       "    **********************************************************************\n",
       "    Line 3, in q5_7 0\n",
       "    Failed example:\n",
       "        remaining_inventory.num_columns\n",
       "    Exception raised:\n",
       "        Traceback (most recent call last):\n",
       "          File \"/opt/conda/lib/python3.10/doctest.py\", line 1350, in __run\n",
       "            exec(compile(example.source, filename, \"single\",\n",
       "          File \"<doctest q5_7 0[0]>\", line 1, in <module>\n",
       "            remaining_inventory.num_columns\n",
       "        AttributeError: 'numpy.ndarray' object has no attribute 'num_columns'\n",
       "</pre><p><strong><pre style='display: inline;'>q5_7 - 2</pre> result:</strong></p><pre>    ❌ Test case failed\n",
       "    Trying:\n",
       "        remaining_inventory.column(\"count\").item(0) != 45\n",
       "    Expecting:\n",
       "        True\n",
       "    **********************************************************************\n",
       "    Line 2, in q5_7 1\n",
       "    Failed example:\n",
       "        remaining_inventory.column(\"count\").item(0) != 45\n",
       "    Exception raised:\n",
       "        Traceback (most recent call last):\n",
       "          File \"/opt/conda/lib/python3.10/doctest.py\", line 1350, in __run\n",
       "            exec(compile(example.source, filename, \"single\",\n",
       "          File \"<doctest q5_7 1[0]>\", line 1, in <module>\n",
       "            remaining_inventory.column(\"count\").item(0) != 45\n",
       "        AttributeError: 'numpy.ndarray' object has no attribute 'column'\n",
       "</pre><p><strong><pre style='display: inline;'>q5_7 - 3</pre> result:</strong></p><pre>    ❌ Test case failed\n",
       "    Trying:\n",
       "        remaining_inventory.where(1, 'grape')\n",
       "    Expecting:\n",
       "        box ID | fruit name | count\n",
       "        57930  | grape      | 162\n",
       "    **********************************************************************\n",
       "    Line 1, in q5_7 2\n",
       "    Failed example:\n",
       "        remaining_inventory.where(1, 'grape')\n",
       "    Exception raised:\n",
       "        Traceback (most recent call last):\n",
       "          File \"/opt/conda/lib/python3.10/doctest.py\", line 1350, in __run\n",
       "            exec(compile(example.source, filename, \"single\",\n",
       "          File \"<doctest q5_7 2[0]>\", line 1, in <module>\n",
       "            remaining_inventory.where(1, 'grape')\n",
       "        AttributeError: 'numpy.ndarray' object has no attribute 'where'\n",
       "</pre>"
      ],
      "text/plain": [
       "q5_7 results:\n",
       "    q5_7 - 1 result:\n",
       "        ❌ Test case failed\n",
       "        Trying:\n",
       "            remaining_inventory.num_columns\n",
       "        Expecting:\n",
       "            3\n",
       "        **********************************************************************\n",
       "        Line 3, in q5_7 0\n",
       "        Failed example:\n",
       "            remaining_inventory.num_columns\n",
       "        Exception raised:\n",
       "            Traceback (most recent call last):\n",
       "              File \"/opt/conda/lib/python3.10/doctest.py\", line 1350, in __run\n",
       "                exec(compile(example.source, filename, \"single\",\n",
       "              File \"<doctest q5_7 0[0]>\", line 1, in <module>\n",
       "                remaining_inventory.num_columns\n",
       "            AttributeError: 'numpy.ndarray' object has no attribute 'num_columns'\n",
       "\n",
       "    q5_7 - 2 result:\n",
       "        ❌ Test case failed\n",
       "        Trying:\n",
       "            remaining_inventory.column(\"count\").item(0) != 45\n",
       "        Expecting:\n",
       "            True\n",
       "        **********************************************************************\n",
       "        Line 2, in q5_7 1\n",
       "        Failed example:\n",
       "            remaining_inventory.column(\"count\").item(0) != 45\n",
       "        Exception raised:\n",
       "            Traceback (most recent call last):\n",
       "              File \"/opt/conda/lib/python3.10/doctest.py\", line 1350, in __run\n",
       "                exec(compile(example.source, filename, \"single\",\n",
       "              File \"<doctest q5_7 1[0]>\", line 1, in <module>\n",
       "                remaining_inventory.column(\"count\").item(0) != 45\n",
       "            AttributeError: 'numpy.ndarray' object has no attribute 'column'\n",
       "\n",
       "    q5_7 - 3 result:\n",
       "        ❌ Test case failed\n",
       "        Trying:\n",
       "            remaining_inventory.where(1, 'grape')\n",
       "        Expecting:\n",
       "            box ID | fruit name | count\n",
       "            57930  | grape      | 162\n",
       "        **********************************************************************\n",
       "        Line 1, in q5_7 2\n",
       "        Failed example:\n",
       "            remaining_inventory.where(1, 'grape')\n",
       "        Exception raised:\n",
       "            Traceback (most recent call last):\n",
       "              File \"/opt/conda/lib/python3.10/doctest.py\", line 1350, in __run\n",
       "                exec(compile(example.source, filename, \"single\",\n",
       "              File \"<doctest q5_7 2[0]>\", line 1, in <module>\n",
       "                remaining_inventory.where(1, 'grape')\n",
       "            AttributeError: 'numpy.ndarray' object has no attribute 'where'"
      ]
     },
     "execution_count": 140,
     "metadata": {},
     "output_type": "execute_result"
    }
   ],
   "source": [
    "grader.check(\"q5_7\")"
   ]
  },
  {
   "attachments": {},
   "cell_type": "markdown",
   "id": "9d7d73e3",
   "metadata": {},
   "source": [
    "You're done with Homework 2!  \n",
    "\n",
    "**Important submission steps:** \n",
    "1. Run the tests and verify that they all pass.\n",
    "2. Choose **Save Notebook** from the **File** menu, then **run the final cell**. \n",
    "3. Click the link to download the zip file.\n",
    "4. Then submit the zip file to the corresponding assignment according to your instructor's directions. \n",
    "\n",
    "**It is your responsibility to make sure your work is saved before running the last cell.**\n"
   ]
  },
  {
   "attachments": {},
   "cell_type": "markdown",
   "id": "033707bb",
   "metadata": {
    "deletable": false,
    "editable": false
   },
   "source": [
    "## Submission\n",
    "\n",
    "Make sure you have run all cells in your notebook in order before running the cell below, so that all images/graphs appear in the output. The cell below will generate a zip file for you to submit. **Please save before exporting!**"
   ]
  },
  {
   "cell_type": "code",
   "execution_count": 141,
   "id": "8c1ad5fc",
   "metadata": {
    "deletable": false,
    "editable": false
   },
   "outputs": [
    {
     "name": "stdout",
     "output_type": "stream",
     "text": [
      "Running your submission against local test cases...\n",
      "\n",
      "\n",
      "\n",
      "Your submission received the following results when run against available test cases:\n",
      "\n",
      "    q1_1 results:\n",
      "        q1_1 - 1 result:\n",
      "            ❌ Test case failed\n",
      "            Trying:\n",
      "                import numpy as np\n",
      "            Expecting nothing\n",
      "            ok\n",
      "            Trying:\n",
      "                type(weird_numbers) == np.ndarray\n",
      "            Expecting:\n",
      "                True\n",
      "            **********************************************************************\n",
      "            Line 3, in q1_1 0\n",
      "            Failed example:\n",
      "                type(weird_numbers) == np.ndarray\n",
      "            Expected:\n",
      "                True\n",
      "            Got:\n",
      "                False\n",
      "\n",
      "        q1_1 - 2 result:\n",
      "            ✅ Test case passed\n",
      "\n",
      "    q1_2 results:\n",
      "        q1_2 - 1 result:\n",
      "            ❌ Test case failed\n",
      "            Trying:\n",
      "                import numpy as np\n",
      "            Expecting nothing\n",
      "            ok\n",
      "            Trying:\n",
      "                type(book_title_words) == np.ndarray\n",
      "            Expecting:\n",
      "                True\n",
      "            **********************************************************************\n",
      "            Line 3, in q1_2 0\n",
      "            Failed example:\n",
      "                type(book_title_words) == np.ndarray\n",
      "            Expected:\n",
      "                True\n",
      "            Got:\n",
      "                False\n",
      "\n",
      "        q1_2 - 2 result:\n",
      "            ✅ Test case passed\n",
      "\n",
      "        q1_2 - 3 result:\n",
      "            ❌ Test case failed\n",
      "            Trying:\n",
      "                'and ' in book_title_words.item(2)\n",
      "            Expecting:\n",
      "                True\n",
      "            **********************************************************************\n",
      "            Line 4, in q1_2 2\n",
      "            Failed example:\n",
      "                'and ' in book_title_words.item(2)\n",
      "            Exception raised:\n",
      "                Traceback (most recent call last):\n",
      "                  File \"/opt/conda/lib/python3.10/doctest.py\", line 1350, in __run\n",
      "                    exec(compile(example.source, filename, \"single\",\n",
      "                  File \"<doctest q1_2 2[0]>\", line 1, in <module>\n",
      "                    'and ' in book_title_words.item(2)\n",
      "                AttributeError: 'list' object has no attribute 'item'\n",
      "\n",
      "        q1_2 - 4 result:\n",
      "            ✅ Test case passed\n",
      "\n",
      "        q1_2 - 5 result:\n",
      "            ❌ Test case failed\n",
      "            Trying:\n",
      "                book_title_words.item(0) == 'Eats' and book_title_words.item(1) == 'Shoots' and book_title_words.item(2) == 'and Leaves'\n",
      "            Expecting:\n",
      "                True\n",
      "            **********************************************************************\n",
      "            Line 1, in q1_2 4\n",
      "            Failed example:\n",
      "                book_title_words.item(0) == 'Eats' and book_title_words.item(1) == 'Shoots' and book_title_words.item(2) == 'and Leaves'\n",
      "            Exception raised:\n",
      "                Traceback (most recent call last):\n",
      "                  File \"/opt/conda/lib/python3.10/doctest.py\", line 1350, in __run\n",
      "                    exec(compile(example.source, filename, \"single\",\n",
      "                  File \"<doctest q1_2 4[0]>\", line 1, in <module>\n",
      "                    book_title_words.item(0) == 'Eats' and book_title_words.item(1) == 'Shoots' and book_title_words.item(2) == 'and Leaves'\n",
      "                AttributeError: 'list' object has no attribute 'item'\n",
      "\n",
      "    q1_3 results: All test cases passed!\n",
      "\n",
      "    q2_1 results: All test cases passed!\n",
      "\n",
      "    q2_2 results: All test cases passed!\n",
      "\n",
      "    q2_3 results: All test cases passed!\n",
      "\n",
      "    q2_4 results: All test cases passed!\n",
      "\n",
      "    q2_5 results: All test cases passed!\n",
      "\n",
      "    q3_1 results: All test cases passed!\n",
      "\n",
      "    q3_2 results: All test cases passed!\n",
      "\n",
      "    q3_3 results: All test cases passed!\n",
      "\n",
      "    q3_4 results:\n",
      "        q3_4 - 1 result:\n",
      "            ✅ Test case passed\n",
      "\n",
      "        q3_4 - 2 result:\n",
      "            ✅ Test case passed\n",
      "\n",
      "        q3_4 - 3 result:\n",
      "            ✅ Test case passed\n",
      "\n",
      "        q3_4 - 4 result:\n",
      "            ❌ Test case failed\n",
      "            Trying:\n",
      "                celsius_max_temperatures.item(2003)\n",
      "            Expecting:\n",
      "                20.0\n",
      "            **********************************************************************\n",
      "            Line 1, in q3_4 3\n",
      "            Failed example:\n",
      "                celsius_max_temperatures.item(2003)\n",
      "            Exception raised:\n",
      "                Traceback (most recent call last):\n",
      "                  File \"/opt/conda/lib/python3.10/doctest.py\", line 1350, in __run\n",
      "                    exec(compile(example.source, filename, \"single\",\n",
      "                  File \"<doctest q3_4 3[0]>\", line 1, in <module>\n",
      "                    celsius_max_temperatures.item(2003)\n",
      "                AttributeError: 'list' object has no attribute 'item'\n",
      "\n",
      "    q3_5 results:\n",
      "        q3_5 - 1 result:\n",
      "            ❌ Test case failed\n",
      "            Trying:\n",
      "                type(celsius_temperature_ranges) is np.ndarray\n",
      "            Expecting:\n",
      "                True\n",
      "            **********************************************************************\n",
      "            Line 2, in q3_5 0\n",
      "            Failed example:\n",
      "                type(celsius_temperature_ranges) is np.ndarray\n",
      "            Expected:\n",
      "                True\n",
      "            Got:\n",
      "                False\n",
      "\n",
      "        q3_5 - 2 result:\n",
      "            ❌ Test case failed\n",
      "            Trying:\n",
      "                np.isclose(round(sum(celsius_temperature_ranges)), 768487)\n",
      "            Expecting:\n",
      "                True\n",
      "            **********************************************************************\n",
      "            Line 1, in q3_5 1\n",
      "            Failed example:\n",
      "                np.isclose(round(sum(celsius_temperature_ranges)), 768487)\n",
      "            Exception raised:\n",
      "                Traceback (most recent call last):\n",
      "                  File \"/opt/conda/lib/python3.10/doctest.py\", line 1350, in __run\n",
      "                    exec(compile(example.source, filename, \"single\",\n",
      "                  File \"<doctest q3_5 1[0]>\", line 1, in <module>\n",
      "                    np.isclose(round(sum(celsius_temperature_ranges)), 768487)\n",
      "                TypeError: 'numpy.int64' object is not iterable\n",
      "\n",
      "        q3_5 - 3 result:\n",
      "            ❌ Test case failed\n",
      "            Trying:\n",
      "                len(celsius_temperature_ranges)\n",
      "            Expecting:\n",
      "                65000\n",
      "            **********************************************************************\n",
      "            Line 1, in q3_5 2\n",
      "            Failed example:\n",
      "                len(celsius_temperature_ranges)\n",
      "            Exception raised:\n",
      "                Traceback (most recent call last):\n",
      "                  File \"/opt/conda/lib/python3.10/doctest.py\", line 1350, in __run\n",
      "                    exec(compile(example.source, filename, \"single\",\n",
      "                  File \"<doctest q3_5 2[0]>\", line 1, in <module>\n",
      "                    len(celsius_temperature_ranges)\n",
      "                TypeError: object of type 'numpy.int64' has no len()\n",
      "\n",
      "    q4_1 results: All test cases passed!\n",
      "\n",
      "    q4_2 results:\n",
      "        q4_2 - 1 result:\n",
      "            ❌ Test case failed\n",
      "            Trying:\n",
      "                biggest_decrease == 47\n",
      "            Expecting:\n",
      "                False\n",
      "            **********************************************************************\n",
      "            Line 3, in q4_2 0\n",
      "            Failed example:\n",
      "                biggest_decrease == 47\n",
      "            Expected:\n",
      "                False\n",
      "            Got:\n",
      "                True\n",
      "\n",
      "        q4_2 - 2 result:\n",
      "            ❌ Test case failed\n",
      "            Trying:\n",
      "                30 <= biggest_decrease < 47\n",
      "            Expecting:\n",
      "                True\n",
      "            **********************************************************************\n",
      "            Line 2, in q4_2 1\n",
      "            Failed example:\n",
      "                30 <= biggest_decrease < 47\n",
      "            Expected:\n",
      "                True\n",
      "            Got:\n",
      "                False\n",
      "\n",
      "    q4_3 results:\n",
      "        q4_3 - 1 result:\n",
      "            ❌ Test case failed\n",
      "            Trying:\n",
      "                len(first_nine_waiting_times)\n",
      "            Expecting:\n",
      "                9\n",
      "            **********************************************************************\n",
      "            Line 1, in q4_3 0\n",
      "            Failed example:\n",
      "                len(first_nine_waiting_times)\n",
      "            Exception raised:\n",
      "                Traceback (most recent call last):\n",
      "                  File \"/opt/conda/lib/python3.10/doctest.py\", line 1350, in __run\n",
      "                    exec(compile(example.source, filename, \"single\",\n",
      "                  File \"<doctest q4_3 0[0]>\", line 1, in <module>\n",
      "                    len(first_nine_waiting_times)\n",
      "                TypeError: object of type 'ellipsis' has no len()\n",
      "\n",
      "        q4_3 - 2 result:\n",
      "            ❌ Test case failed\n",
      "            Trying:\n",
      "                total_waiting_time_until_tenth\n",
      "            Expecting:\n",
      "                633\n",
      "            **********************************************************************\n",
      "            Line 1, in q4_3 1\n",
      "            Failed example:\n",
      "                total_waiting_time_until_tenth\n",
      "            Expected:\n",
      "                633\n",
      "            Got:\n",
      "                Ellipsis\n",
      "\n",
      "    q4_4 results:\n",
      "        q4_4 - 1 result:\n",
      "            ❌ Test case failed\n",
      "            Trying:\n",
      "                15 <= average_error <= 25\n",
      "            Expecting:\n",
      "                True\n",
      "            **********************************************************************\n",
      "            Line 1, in q4_4 0\n",
      "            Failed example:\n",
      "                15 <= average_error <= 25\n",
      "            Exception raised:\n",
      "                Traceback (most recent call last):\n",
      "                  File \"/opt/conda/lib/python3.10/doctest.py\", line 1350, in __run\n",
      "                    exec(compile(example.source, filename, \"single\",\n",
      "                  File \"<doctest q4_4 0[0]>\", line 1, in <module>\n",
      "                    15 <= average_error <= 25\n",
      "                TypeError: '<=' not supported between instances of 'int' and 'ellipsis'\n",
      "\n",
      "    q5_1 results:\n",
      "        q5_1 - 1 result:\n",
      "            ❌ Test case failed\n",
      "            Trying:\n",
      "                fruits.sort(0)\n",
      "            Expecting:\n",
      "                fruit name | count\n",
      "                apple      | 4\n",
      "                orange     | 3\n",
      "                pineapple  | 3\n",
      "            **********************************************************************\n",
      "            Line 1, in q5_1 0\n",
      "            Failed example:\n",
      "                fruits.sort(0)\n",
      "            Expected:\n",
      "                fruit name | count\n",
      "                apple      | 4\n",
      "                orange     | 3\n",
      "                pineapple  | 3\n",
      "            Got:\n",
      "                Fruit name | Count\n",
      "                Apples     | 4\n",
      "                Oranges    | 3\n",
      "                Pineapples | 3\n",
      "\n",
      "    q5_2 results: All test cases passed!\n",
      "\n",
      "    q5_3 results: All test cases passed!\n",
      "\n",
      "    q5_4 results: All test cases passed!\n",
      "\n",
      "    q5_5 results: All test cases passed!\n",
      "\n",
      "    q5_6 results: All test cases passed!\n",
      "\n",
      "    q5_7 results:\n",
      "        q5_7 - 1 result:\n",
      "            ❌ Test case failed\n",
      "            Trying:\n",
      "                remaining_inventory.num_columns\n",
      "            Expecting:\n",
      "                3\n",
      "            **********************************************************************\n",
      "            Line 3, in q5_7 0\n",
      "            Failed example:\n",
      "                remaining_inventory.num_columns\n",
      "            Exception raised:\n",
      "                Traceback (most recent call last):\n",
      "                  File \"/opt/conda/lib/python3.10/doctest.py\", line 1350, in __run\n",
      "                    exec(compile(example.source, filename, \"single\",\n",
      "                  File \"<doctest q5_7 0[0]>\", line 1, in <module>\n",
      "                    remaining_inventory.num_columns\n",
      "                AttributeError: 'numpy.ndarray' object has no attribute 'num_columns'\n",
      "\n",
      "        q5_7 - 2 result:\n",
      "            ❌ Test case failed\n",
      "            Trying:\n",
      "                remaining_inventory.column(\"count\").item(0) != 45\n",
      "            Expecting:\n",
      "                True\n",
      "            **********************************************************************\n",
      "            Line 2, in q5_7 1\n",
      "            Failed example:\n",
      "                remaining_inventory.column(\"count\").item(0) != 45\n",
      "            Exception raised:\n",
      "                Traceback (most recent call last):\n",
      "                  File \"/opt/conda/lib/python3.10/doctest.py\", line 1350, in __run\n",
      "                    exec(compile(example.source, filename, \"single\",\n",
      "                  File \"<doctest q5_7 1[0]>\", line 1, in <module>\n",
      "                    remaining_inventory.column(\"count\").item(0) != 45\n",
      "                AttributeError: 'numpy.ndarray' object has no attribute 'column'\n",
      "\n",
      "        q5_7 - 3 result:\n",
      "            ❌ Test case failed\n",
      "            Trying:\n",
      "                remaining_inventory.where(1, 'grape')\n",
      "            Expecting:\n",
      "                box ID | fruit name | count\n",
      "                57930  | grape      | 162\n",
      "            **********************************************************************\n",
      "            Line 1, in q5_7 2\n",
      "            Failed example:\n",
      "                remaining_inventory.where(1, 'grape')\n",
      "            Exception raised:\n",
      "                Traceback (most recent call last):\n",
      "                  File \"/opt/conda/lib/python3.10/doctest.py\", line 1350, in __run\n",
      "                    exec(compile(example.source, filename, \"single\",\n",
      "                  File \"<doctest q5_7 2[0]>\", line 1, in <module>\n",
      "                    remaining_inventory.where(1, 'grape')\n",
      "                AttributeError: 'numpy.ndarray' object has no attribute 'where'\n"
     ]
    },
    {
     "data": {
      "text/html": [
       "\n",
       "            <p>Your submission has been exported. Click <a href=\"hw02_2023_09_14T04_05_23_719376.zip\" download=\"hw02_2023_09_14T04_05_23_719376.zip\" target=\"_blank\">here</a>\n",
       "            to download the zip file.</p>\n",
       "            "
      ],
      "text/plain": [
       "<IPython.core.display.HTML object>"
      ]
     },
     "metadata": {},
     "output_type": "display_data"
    }
   ],
   "source": [
    "# Save your notebook first, then run this cell to export your submission.\n",
    "grader.export(pdf=False, run_tests=True)"
   ]
  },
  {
   "attachments": {},
   "cell_type": "markdown",
   "id": "7333cef1",
   "metadata": {},
   "source": [
    " "
   ]
  }
 ],
 "metadata": {
  "kernelspec": {
   "display_name": "Python 3 (ipykernel)",
   "language": "python",
   "name": "python3"
  },
  "language_info": {
   "codemirror_mode": {
    "name": "ipython",
    "version": 3
   },
   "file_extension": ".py",
   "mimetype": "text/x-python",
   "name": "python",
   "nbconvert_exporter": "python",
   "pygments_lexer": "ipython3",
   "version": "3.10.11"
  },
  "otter": {
   "OK_FORMAT": true,
   "tests": {
    "q1_1": {
     "name": "q1_1",
     "points": [
      0,
      0
     ],
     "suites": [
      {
       "cases": [
        {
         "code": ">>> import numpy as np\n>>> # It looks like you didn't make an array.\n>>> type(weird_numbers) == np.ndarray\nTrue",
         "hidden": false,
         "locked": false
        },
        {
         "code": ">>> len(weird_numbers) == 4\nTrue",
         "hidden": false,
         "locked": false
        }
       ],
       "scored": true,
       "setup": "",
       "teardown": "",
       "type": "doctest"
      }
     ]
    },
    "q1_2": {
     "name": "q1_2",
     "points": [
      0,
      0,
      0,
      0,
      4
     ],
     "suites": [
      {
       "cases": [
        {
         "code": ">>> import numpy as np\n>>> # It looks like you didn't make an array.\n>>> type(book_title_words) == np.ndarray\nTrue",
         "hidden": false,
         "locked": false
        },
        {
         "code": ">>> # It looks like you included commas in the text.\n>>> # The three pieces of text in the array should be:\n>>> #   \"Eats\"\n>>> #   \"Shoots\"\n>>> #   \"and Leaves\"\n>>> not any([',' in text for text in book_title_words])\nTrue",
         "hidden": false,
         "locked": false
        },
        {
         "code": ">>> # It looks like you didn't include both words in the\n>>> # last piece of text.  It should be the actual string:\n>>> #   \"and Leaves\"\n>>> 'and ' in book_title_words.item(2)\nTrue",
         "hidden": false,
         "locked": false
        },
        {
         "code": ">>> len(book_title_words)\n3",
         "hidden": false,
         "locked": false
        },
        {
         "code": ">>> book_title_words.item(0) == 'Eats' and book_title_words.item(1) == 'Shoots' and book_title_words.item(2) == 'and Leaves'\nTrue",
         "hidden": false,
         "locked": false
        }
       ],
       "scored": true,
       "setup": "",
       "teardown": "",
       "type": "doctest"
      }
     ]
    },
    "q1_3": {
     "name": "q1_3",
     "points": [
      2,
      2
     ],
     "suites": [
      {
       "cases": [
        {
         "code": ">>> with_commas == 'Eats, Shoots, and Leaves'\nTrue",
         "hidden": false,
         "locked": false
        },
        {
         "code": ">>> without_commas == 'Eats Shoots and Leaves'\nTrue",
         "hidden": false,
         "locked": false
        }
       ],
       "scored": true,
       "setup": "",
       "teardown": "",
       "type": "doctest"
      }
     ]
    },
    "q2_1": {
     "name": "q2_1",
     "points": [
      0,
      4
     ],
     "suites": [
      {
       "cases": [
        {
         "code": ">>> # It looks like you wrote:\n>>> #   some_numbers.item(3)\n>>> # But the third element has index 2, not 3.\n>>> third_element != -10\nTrue",
         "hidden": false,
         "locked": false
        },
        {
         "code": ">>> third_element == -6\nTrue",
         "hidden": false,
         "locked": false
        }
       ],
       "scored": true,
       "setup": "",
       "teardown": "",
       "type": "doctest"
      }
     ]
    },
    "q2_2": {
     "name": "q2_2",
     "points": [
      1,
      1,
      1,
      1
     ],
     "suites": [
      {
       "cases": [
        {
         "code": ">>> elements_of_some_numbers.column(0).item(2) == \"third\"\nTrue",
         "hidden": false,
         "locked": false
        },
        {
         "code": ">>> elements_of_some_numbers.column(0).item(3) == \"fourth\"\nTrue",
         "hidden": false,
         "locked": false
        },
        {
         "code": ">>> elements_of_some_numbers.column(1).item(0) == 0\nTrue",
         "hidden": false,
         "locked": false
        },
        {
         "code": ">>> elements_of_some_numbers.column(1).item(3) == 3\nTrue",
         "hidden": false,
         "locked": false
        }
       ],
       "scored": true,
       "setup": "",
       "teardown": "",
       "type": "doctest"
      }
     ]
    },
    "q2_3": {
     "name": "q2_3",
     "points": [
      4
     ],
     "suites": [
      {
       "cases": [
        {
         "code": ">>> index_of_last_element == 141\nTrue",
         "hidden": false,
         "locked": false
        }
       ],
       "scored": true,
       "setup": "",
       "teardown": "",
       "type": "doctest"
      }
     ]
    },
    "q2_4": {
     "name": "q2_4",
     "points": [
      4
     ],
     "suites": [
      {
       "cases": [
        {
         "code": ">>> most_recent_birth_year == 1917\nTrue",
         "hidden": false,
         "locked": false
        }
       ],
       "scored": true,
       "setup": "",
       "teardown": "",
       "type": "doctest"
      }
     ]
    },
    "q2_5": {
     "name": "q2_5",
     "points": [
      0
     ],
     "suites": [
      {
       "cases": [
        {
         "code": ">>> min_of_birth_years > 0\nTrue",
         "hidden": false,
         "locked": false
        }
       ],
       "scored": true,
       "setup": "",
       "teardown": "",
       "type": "doctest"
      }
     ]
    },
    "q3_1": {
     "name": "q3_1",
     "points": [
      0
     ],
     "suites": [
      {
       "cases": [
        {
         "code": ">>> first_product > 0, second_product < 0, third_product > 0, fourth_product > 0\n(True, True, True, True)",
         "hidden": false,
         "locked": false
        }
       ],
       "scored": true,
       "setup": "",
       "teardown": "",
       "type": "doctest"
      }
     ]
    },
    "q3_2": {
     "name": "q3_2",
     "points": [
      0
     ],
     "suites": [
      {
       "cases": [
        {
         "code": ">>> # products should be an array!\n>>> len(products) == 4\nTrue",
         "hidden": false,
         "locked": false
        }
       ],
       "scored": true,
       "setup": "",
       "teardown": "",
       "type": "doctest"
      }
     ]
    },
    "q3_3": {
     "name": "q3_3",
     "points": [
      0
     ],
     "suites": [
      {
       "cases": [
        {
         "code": ">>> len(correct_products) == 4\nTrue",
         "hidden": false,
         "locked": false
        }
       ],
       "scored": true,
       "setup": "",
       "teardown": "",
       "type": "doctest"
      }
     ]
    },
    "q3_4": {
     "name": "q3_4",
     "points": [
      1,
      1,
      1,
      1
     ],
     "suites": [
      {
       "cases": [
        {
         "code": ">>> # It looks like you multiplied and subtracted in the wrong\n>>> # order.\n>>> sum(celsius_max_temperatures) != 356705.0\nTrue",
         "hidden": false,
         "locked": false
        },
        {
         "code": ">>> sum(celsius_max_temperatures)\n1280677.0",
         "hidden": false,
         "locked": false
        },
        {
         "code": ">>> len(celsius_max_temperatures)\n65000",
         "hidden": false,
         "locked": false
        },
        {
         "code": ">>> celsius_max_temperatures.item(2003)\n20.0",
         "hidden": false,
         "locked": false
        }
       ],
       "scored": true,
       "setup": "",
       "teardown": "",
       "type": "doctest"
      }
     ]
    },
    "q3_5": {
     "name": "q3_5",
     "points": [
      0,
      4,
      0
     ],
     "suites": [
      {
       "cases": [
        {
         "code": ">>> # celsius_temperature_ranges should be an array\n>>> type(celsius_temperature_ranges) is np.ndarray\nTrue",
         "hidden": false,
         "locked": false
        },
        {
         "code": ">>> np.isclose(round(sum(celsius_temperature_ranges)), 768487)\nTrue",
         "hidden": false,
         "locked": false
        },
        {
         "code": ">>> len(celsius_temperature_ranges)\n65000",
         "hidden": false,
         "locked": false
        }
       ],
       "scored": true,
       "setup": "",
       "teardown": "",
       "type": "doctest"
      }
     ]
    },
    "q4_1": {
     "name": "q4_1",
     "points": [
      0,
      0
     ],
     "suites": [
      {
       "cases": [
        {
         "code": ">>> # Hint: shortest is a number between 40 and 50.\n>>> 40 <= shortest <= 50\nTrue",
         "hidden": false,
         "locked": false
        },
        {
         "code": ">>> # Hint: the average is between the shortest and the longest\n>>> shortest <= average <= longest\nTrue",
         "hidden": false,
         "locked": false
        }
       ],
       "scored": true,
       "setup": "",
       "teardown": "",
       "type": "doctest"
      }
     ]
    },
    "q4_2": {
     "name": "q4_2",
     "points": [
      0,
      0
     ],
     "suites": [
      {
       "cases": [
        {
         "code": ">>> # Hint: If you are getting 47 as your answer, you might be computing the biggest change \n>>> # rather than the biggest decrease!\n>>> biggest_decrease == 47\nFalse",
         "hidden": false,
         "locked": false
        },
        {
         "code": ">>> # Hint: biggest decrease is above 30, but not 47.\n>>> 30 <= biggest_decrease < 47\nTrue",
         "hidden": false,
         "locked": false
        }
       ],
       "scored": true,
       "setup": "",
       "teardown": "",
       "type": "doctest"
      }
     ]
    },
    "q4_3": {
     "name": "q4_3",
     "points": [
      0,
      4
     ],
     "suites": [
      {
       "cases": [
        {
         "code": ">>> len(first_nine_waiting_times)\n9",
         "hidden": false,
         "locked": false
        },
        {
         "code": ">>> total_waiting_time_until_tenth\n633",
         "hidden": false,
         "locked": false
        }
       ],
       "scored": true,
       "setup": "",
       "teardown": "",
       "type": "doctest"
      }
     ]
    },
    "q4_4": {
     "name": "q4_4",
     "points": [
      0
     ],
     "suites": [
      {
       "cases": [
        {
         "code": ">>> 15 <= average_error <= 25\nTrue",
         "hidden": false,
         "locked": false
        }
       ],
       "scored": true,
       "setup": "",
       "teardown": "",
       "type": "doctest"
      }
     ]
    },
    "q5_1": {
     "name": "q5_1",
     "points": [
      4
     ],
     "suites": [
      {
       "cases": [
        {
         "code": ">>> fruits.sort(0)\nfruit name | count\napple      | 4\norange     | 3\npineapple  | 3",
         "hidden": false,
         "locked": false
        }
       ],
       "scored": true,
       "setup": "",
       "teardown": "",
       "type": "doctest"
      }
     ]
    },
    "q5_2": {
     "name": "q5_2",
     "points": [
      4
     ],
     "suites": [
      {
       "cases": [
        {
         "code": ">>> inventory.sort(0).column(0).item(0)\n25274",
         "hidden": false,
         "locked": false
        }
       ],
       "scored": true,
       "setup": "",
       "teardown": "",
       "type": "doctest"
      }
     ]
    },
    "q5_3": {
     "name": "q5_3",
     "points": [
      0
     ],
     "suites": [
      {
       "cases": [
        {
         "code": ">>> all_different in {True, False}\nTrue",
         "hidden": false,
         "locked": false
        }
       ],
       "scored": true,
       "setup": "",
       "teardown": "",
       "type": "doctest"
      }
     ]
    },
    "q5_4": {
     "name": "q5_4",
     "points": [
      5
     ],
     "suites": [
      {
       "cases": [
        {
         "code": ">>> sales.sort(0)\nbox ID | fruit name | count sold | price per fruit ($)\n25274  | apple      | 0          | 0.8\n26187  | strawberry | 25         | 0.15\n43566  | peach      | 17         | 0.8\n48800  | orange     | 35         | 0.6\n52357  | strawberry | 102        | 0.25\n53686  | kiwi       | 3          | 0.5\n57181  | strawberry | 101        | 0.2\n57930  | grape      | 355        | 0.06",
         "hidden": false,
         "locked": false
        }
       ],
       "scored": true,
       "setup": "",
       "teardown": "",
       "type": "doctest"
      }
     ]
    },
    "q5_5": {
     "name": "q5_5",
     "points": [
      0
     ],
     "suites": [
      {
       "cases": [
        {
         "code": ">>> # We're asking for the number of *pieces* of fruit, not the\n>>> # number of kinds of fruit or the number of boxes from which\n>>> # there were sales.\n>>> total_fruits_sold > 10\nTrue",
         "hidden": false,
         "locked": false
        }
       ],
       "scored": true,
       "setup": "",
       "teardown": "",
       "type": "doctest"
      }
     ]
    },
    "q5_6": {
     "name": "q5_6",
     "points": [
      0
     ],
     "suites": [
      {
       "cases": [
        {
         "code": ">>> # If you're stuck, here's a hint: You want to multiply the count\n>>> # sold in each box by the per-item price of fruits in that box.\n>>> # You can use elementwise multiplication for that.\n>>> # Then you want the sum of those products.  Use sum().\n>>> 50 <= total_revenue <= 150\nTrue",
         "hidden": false,
         "locked": false
        }
       ],
       "scored": true,
       "setup": "",
       "teardown": "",
       "type": "doctest"
      }
     ]
    },
    "q5_7": {
     "name": "q5_7",
     "points": [
      0,
      2,
      3
     ],
     "suites": [
      {
       "cases": [
        {
         "code": ">>> # It looks like your table doesn't have all 3 columns that are\n>>> # in the inventory table.\n>>> remaining_inventory.num_columns\n3",
         "hidden": false,
         "locked": false
        },
        {
         "code": ">>> #It looks like you forgot to subtract off the sales.\n>>> remaining_inventory.column(\"count\").item(0) != 45\nTrue",
         "hidden": false,
         "locked": false
        },
        {
         "code": ">>> remaining_inventory.where(1, 'grape')\nbox ID | fruit name | count\n57930  | grape      | 162",
         "hidden": false,
         "locked": false
        }
       ],
       "scored": true,
       "setup": "",
       "teardown": "",
       "type": "doctest"
      }
     ]
    }
   }
  }
 },
 "nbformat": 4,
 "nbformat_minor": 5
}
